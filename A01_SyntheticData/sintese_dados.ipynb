{
 "cells": [
  {
   "cell_type": "markdown",
   "metadata": {},
   "source": [
    "# A1 - Proposta de Modelo de Síntese de Dado Tabular em Saúde\n",
    "\n",
    "#### Aluno: Tiago Amorim (100.675)\n",
    "\n",
    "Esta atividade pode ser realizada individualmente ou em duplas (em caso de entrega em dupla, pede-se que apenas um dos membros da dupla realize a entrega e indique isso explicitamente no campo de comentários da entrega).\n",
    "Atente-se ao horário de entrega da atividade!\n",
    "\n",
    "O objetivo é que você proponha e gere um banco de dados sintéticos de resultados de exames de hemograma.\n",
    "Não precisa ser uma abordagem baseada em deep learning, pode ser uma abordagem baseada em regras ou em modelos estatísticos clássicos.\n",
    "\n",
    "Seguem anexadas três planilhas extraídas de uma base de resultados de exames de laboratório de análises clínicas.\n",
    "São dados reais obtidos de um hemocentro do estado de São Paulo (e podem exigir etapas de limpeza de dados).\n",
    "Campos de identificação foram transformads para fins de anonimização completa dos pacientes.\n",
    "\n",
    "Proponha um método, implemente e apresente uma base de dados sintética com, no mínimo, 1000 resultados de exames fictícios.\n",
    "\n",
    "Simplificação admitida: sintetizar apenas um dos parâmetros do hemograma.\n",
    "Outras simplificações devem ser devidamente justificadas.\n",
    "Deverá ser entregue um notebook Google Colab, explicitando e explicando sua implementação.\n",
    "\n",
    "Responda à seguinte pergunta: como você garante que a sua síntese de dados é realista?\n",
    "Explicite os critérios utilizados.\n",
    "\n",
    "Sugere-se que o material suplementar anexo seja estudado, mas adianta-se que o mesmo não contêm a solução do problema.\n",
    "Servem apenas como uma introdução a aspectos relevantes a serem considerados na síntese de sinais e um exemplo de abordagem na saúde."
   ]
  },
  {
   "cell_type": "markdown",
   "metadata": {},
   "source": [
    "# Ingestão Dados"
   ]
  },
  {
   "cell_type": "markdown",
   "metadata": {},
   "source": []
  },
  {
   "cell_type": "code",
   "execution_count": null,
   "metadata": {},
   "outputs": [],
   "source": []
  }
 ],
 "metadata": {
  "language_info": {
   "name": "python"
  }
 },
 "nbformat": 4,
 "nbformat_minor": 2
}
