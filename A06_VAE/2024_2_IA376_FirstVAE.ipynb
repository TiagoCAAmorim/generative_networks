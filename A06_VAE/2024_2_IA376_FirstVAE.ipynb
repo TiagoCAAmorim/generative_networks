{
  "cells": [
    {
      "cell_type": "markdown",
      "metadata": {
        "id": "vVjzdW_u9255"
      },
      "source": [
        "**Nome:** Tiago Amorim\n",
        "\n",
        "**RA:** 100.675\n",
        "\n",
        "Transforme este notebook num relatório técnico de experimentos com uma arquitetura VAE (Variational Autoencoder).\n",
        "\n",
        "Adicione comentários aos diferentes blocos de código, explicitando o propósito de cada bloco.\n",
        "\n",
        "Como é construído o espaço latente? Mostre resultados diferentes para diferentes configurações.\n",
        "\n",
        "Altere parâmetros de treinamento do modelo.\n",
        "\n",
        "Proponha maneiras de avaliar a qualidade das amostras geradas.\n",
        "\n",
        "### Attr2Font\n",
        "\n",
        "* Github: https://github.com/hologerry/Attr2Font\n",
        "* Dataset: https://drive.google.com/file/d/1TTqAklfsAp6KOPxCVl2jktH8kN4lEmI_/view"
      ]
    },
    {
      "cell_type": "markdown",
      "metadata": {
        "id": "Vmz_M3gT-KWG"
      },
      "source": [
        "### Pacotes"
      ]
    },
    {
      "cell_type": "code",
      "execution_count": 1,
      "metadata": {
        "id": "y6RRl7S3oAGc"
      },
      "outputs": [],
      "source": [
        "import torch\n",
        "import torch.utils.data\n",
        "from torch import nn, optim\n",
        "from torch.nn import functional as F\n",
        "from torchvision import datasets,transforms\n",
        "from torchvision.utils import save_image\n",
        "# from tqdm.notebook import tqdm\n",
        "# from tqdm import tqdm\n",
        "from tqdm.auto import tqdm\n",
        "import os\n",
        "import shutil\n",
        "import random\n",
        "random.seed(5)\n",
        "import matplotlib\n",
        "%matplotlib inline\n",
        "%config InlineBackend.figure_format='svg'\n",
        "import matplotlib.pyplot as plt\n",
        "plt.style.use('ggplot')\n",
        "import numpy as np\n",
        "# Dataset Attr2font"
      ]
    },
    {
      "cell_type": "markdown",
      "metadata": {
        "id": "uVhL1VN9-Ly0"
      },
      "source": [
        "### Google Drive"
      ]
    },
    {
      "cell_type": "code",
      "execution_count": 2,
      "metadata": {
        "id": "CURtytpyoV_C"
      },
      "outputs": [],
      "source": [
        "## Conexão com o google drive, se achar necessário\n",
        "#from google.colab import drive\n",
        "#drive.mount('/content/drive', force_remount=True)"
      ]
    },
    {
      "cell_type": "markdown",
      "metadata": {
        "id": "xxyZXUbd-Or-"
      },
      "source": [
        "### Dados:"
      ]
    },
    {
      "cell_type": "markdown",
      "metadata": {},
      "source": [
        "**Etapas**\n",
        "\n",
        "1. Organização da base de dados: figuras RGB de números (0-9) e letras (a-z e A-Z) de diferentes tipos de fonte e propriedades (regular, negrito, itálico, ...).\n",
        "    * São quase 70 mil imagens png de mais de mil categorias diferentes.\n",
        "    * Pastas originais foram alteradas para se conformar à minha organização.\n",
        "2. Definição de um _pipeline_ para transformação das imagens.\n",
        "    * As imagens são reduzidas de 256x256 para 50x50.\n",
        "    * É feita uma transformação de RGB para escala de cinza."
      ]
    },
    {
      "cell_type": "code",
      "execution_count": 3,
      "metadata": {
        "id": "KIoJ7Ko85fZA"
      },
      "outputs": [],
      "source": [
        "# Baixando os dados do Attr2font que podem ser encontrados em:\n",
        "# !gdown --id 1TTqAklfsAp6KOPxCVl2jktH8kN4lEmI_\n",
        "# !unzip ./_data/explor_all.zip"
      ]
    },
    {
      "cell_type": "code",
      "execution_count": 4,
      "metadata": {
        "id": "ifx0T6W290u2"
      },
      "outputs": [
        {
          "name": "stderr",
          "output_type": "stream",
          "text": [
            "29.13s - pydevd: Sending message related to process being replaced timed-out after 5 seconds\n"
          ]
        },
        {
          "name": "stdout",
          "output_type": "stream",
          "text": [
            "mkdir: cannot create directory ‘_data’: File exists\n"
          ]
        },
        {
          "name": "stderr",
          "output_type": "stream",
          "text": [
            "34.20s - pydevd: Sending message related to process being replaced timed-out after 5 seconds\n"
          ]
        },
        {
          "name": "stdout",
          "output_type": "stream",
          "text": [
            "mkdir: cannot create directory ‘results’: File exists\n"
          ]
        },
        {
          "name": "stderr",
          "output_type": "stream",
          "text": [
            "39.38s - pydevd: Sending message related to process being replaced timed-out after 5 seconds\n"
          ]
        },
        {
          "name": "stdout",
          "output_type": "stream",
          "text": [
            "mkdir: cannot create directory ‘models’: File exists\n"
          ]
        },
        {
          "name": "stderr",
          "output_type": "stream",
          "text": [
            "44.55s - pydevd: Sending message related to process being replaced timed-out after 5 seconds\n"
          ]
        },
        {
          "name": "stdout",
          "output_type": "stream",
          "text": [
            "mv: cannot stat './explor_all/image': No such file or directory\n"
          ]
        },
        {
          "name": "stderr",
          "output_type": "stream",
          "text": [
            "49.72s - pydevd: Sending message related to process being replaced timed-out after 5 seconds\n"
          ]
        }
      ],
      "source": [
        "# Cria os diretórios de interesse:\n",
        "# !mkdir _data\n",
        "# !mkdir results\n",
        "# !mkdir models\n",
        "# !mv ./explor_all/image ./_data/Fonts\n",
        "# !rm -rf ./explor_all"
      ]
    },
    {
      "cell_type": "code",
      "execution_count": 16,
      "metadata": {},
      "outputs": [
        {
          "name": "stdout",
          "output_type": "stream",
          "text": [
            "'Fonts' number of subfolders: 1,116\n",
            "'Fonts' number of png files: 69,192\n"
          ]
        }
      ],
      "source": [
        "def count_folders_and_png_files(folder, msg):\n",
        "    items = os.listdir(folder)\n",
        "    folders = [item for item in items if os.path.isdir(os.path.join(folder, item))]\n",
        "    print(f\"{msg} number of subfolders: {len(folders):,}\")\n",
        "\n",
        "    png_count = 0\n",
        "    for _, _, files in os.walk(folder):\n",
        "        png_files = [file for file in files if file.lower().endswith('.png')]\n",
        "        png_count += len(png_files)\n",
        "    print(f\"{msg} number of png files: {png_count:,}\")\n",
        "\n",
        "count_folders_and_png_files('./_data/Fonts', \"'Fonts'\")"
      ]
    },
    {
      "cell_type": "code",
      "execution_count": 17,
      "metadata": {
        "id": "F16nVre5o9yL"
      },
      "outputs": [
        {
          "data": {
            "text/plain": [
              "<torch._C.Generator at 0x7f9abdb2f5b0>"
            ]
          },
          "execution_count": 17,
          "metadata": {},
          "output_type": "execute_result"
        }
      ],
      "source": [
        "epochs=5\n",
        "batch_size=64\n",
        "torch.manual_seed(17)"
      ]
    },
    {
      "cell_type": "code",
      "execution_count": 18,
      "metadata": {
        "id": "9p6W0oyxqvzI"
      },
      "outputs": [],
      "source": [
        "def show_img(img):\n",
        "    img = img.permute(1, 2, 0)\n",
        "    if img.shape[2]==1:\n",
        "        img = img.view(img.shape[0], img.shape[1])\n",
        "    plt.title(f'Image has size {img.cpu().numpy().shape}')\n",
        "    plt.imshow(img,cmap='gray')\n",
        "    plt.axis('off')\n",
        "    plt.show()"
      ]
    },
    {
      "cell_type": "code",
      "execution_count": 19,
      "metadata": {
        "id": "8R1gW_Di6pQa"
      },
      "outputs": [],
      "source": [
        "path='./_data/Fonts'\n",
        "train_path = './_data/trainFonts'\n",
        "val_path = './_data/valFonts'\n",
        "\n",
        "for f in [path, train_path, val_path]:\n",
        "    os.makedirs(f, exist_ok=True)"
      ]
    },
    {
      "cell_type": "code",
      "execution_count": 20,
      "metadata": {
        "id": "r3MeGWtDq0jC"
      },
      "outputs": [],
      "source": [
        "transforms_all = transforms.Compose([\n",
        "    transforms.Grayscale(num_output_channels=1),\n",
        "    transforms.Resize(size=50),\n",
        "    transforms.ToTensor()\n",
        "])\n",
        "\n",
        "dummy_batch = torch.utils.data.DataLoader(\n",
        "    datasets.ImageFolder(path,transform=transforms.ToTensor()),\n",
        "    batch_size=1, shuffle=True\n",
        ")"
      ]
    },
    {
      "cell_type": "code",
      "execution_count": 21,
      "metadata": {
        "id": "uybPom9dlXZv"
      },
      "outputs": [
        {
          "data": {
            "image/svg+xml": [
              "<?xml version=\"1.0\" encoding=\"utf-8\" standalone=\"no\"?>\n",
              "<!DOCTYPE svg PUBLIC \"-//W3C//DTD SVG 1.1//EN\"\n",
              "  \"http://www.w3.org/Graphics/SVG/1.1/DTD/svg11.dtd\">\n",
              "<svg xmlns:xlink=\"http://www.w3.org/1999/xlink\" width=\"280.512pt\" height=\"297.45375pt\" viewBox=\"0 0 280.512 297.45375\" xmlns=\"http://www.w3.org/2000/svg\" version=\"1.1\">\n",
              " <metadata>\n",
              "  <rdf:RDF xmlns:dc=\"http://purl.org/dc/elements/1.1/\" xmlns:cc=\"http://creativecommons.org/ns#\" xmlns:rdf=\"http://www.w3.org/1999/02/22-rdf-syntax-ns#\">\n",
              "   <cc:Work>\n",
              "    <dc:type rdf:resource=\"http://purl.org/dc/dcmitype/StillImage\"/>\n",
              "    <dc:date>2024-09-27T10:41:30.092393</dc:date>\n",
              "    <dc:format>image/svg+xml</dc:format>\n",
              "    <dc:creator>\n",
              "     <cc:Agent>\n",
              "      <dc:title>Matplotlib v3.7.1, https://matplotlib.org/</dc:title>\n",
              "     </cc:Agent>\n",
              "    </dc:creator>\n",
              "   </cc:Work>\n",
              "  </rdf:RDF>\n",
              " </metadata>\n",
              " <defs>\n",
              "  <style type=\"text/css\">*{stroke-linejoin: round; stroke-linecap: butt}</style>\n",
              " </defs>\n",
              " <g id=\"figure_1\">\n",
              "  <g id=\"patch_1\">\n",
              "   <path d=\"M 0 297.45375 \n",
              "L 280.512 297.45375 \n",
              "L 280.512 0 \n",
              "L 0 0 \n",
              "z\n",
              "\" style=\"fill: #ffffff\"/>\n",
              "  </g>\n",
              "  <g id=\"axes_1\">\n",
              "   <g clip-path=\"url(#p44f87ff3f3)\">\n",
              "    <image xlink:href=\"data:image/png;base64,\n",
              "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\" id=\"imaged551dce477\" transform=\"scale(1 -1) translate(0 -266.4)\" x=\"7.2\" y=\"-23.85375\" width=\"266.4\" height=\"266.4\"/>\n",
              "   </g>\n",
              "   <g id=\"text_1\">\n",
              "    <!-- Image has size (256, 256, 3) -->\n",
              "    <g transform=\"translate(37.31625 18.14175) scale(0.144 -0.144)\">\n",
              "     <defs>\n",
              "      <path id=\"DejaVuSans-49\" d=\"M 628 4666 \n",
              "L 1259 4666 \n",
              "L 1259 0 \n",
              "L 628 0 \n",
              "L 628 4666 \n",
              "z\n",
              "\" transform=\"scale(0.015625)\"/>\n",
              "      <path id=\"DejaVuSans-6d\" d=\"M 3328 2828 \n",
              "Q 3544 3216 3844 3400 \n",
              "Q 4144 3584 4550 3584 \n",
              "Q 5097 3584 5394 3201 \n",
              "Q 5691 2819 5691 2113 \n",
              "L 5691 0 \n",
              "L 5113 0 \n",
              "L 5113 2094 \n",
              "Q 5113 2597 4934 2840 \n",
              "Q 4756 3084 4391 3084 \n",
              "Q 3944 3084 3684 2787 \n",
              "Q 3425 2491 3425 1978 \n",
              "L 3425 0 \n",
              "L 2847 0 \n",
              "L 2847 2094 \n",
              "Q 2847 2600 2669 2842 \n",
              "Q 2491 3084 2119 3084 \n",
              "Q 1678 3084 1418 2786 \n",
              "Q 1159 2488 1159 1978 \n",
              "L 1159 0 \n",
              "L 581 0 \n",
              "L 581 3500 \n",
              "L 1159 3500 \n",
              "L 1159 2956 \n",
              "Q 1356 3278 1631 3431 \n",
              "Q 1906 3584 2284 3584 \n",
              "Q 2666 3584 2933 3390 \n",
              "Q 3200 3197 3328 2828 \n",
              "z\n",
              "\" transform=\"scale(0.015625)\"/>\n",
              "      <path id=\"DejaVuSans-61\" d=\"M 2194 1759 \n",
              "Q 1497 1759 1228 1600 \n",
              "Q 959 1441 959 1056 \n",
              "Q 959 750 1161 570 \n",
              "Q 1363 391 1709 391 \n",
              "Q 2188 391 2477 730 \n",
              "Q 2766 1069 2766 1631 \n",
              "L 2766 1759 \n",
              "L 2194 1759 \n",
              "z\n",
              "M 3341 1997 \n",
              "L 3341 0 \n",
              "L 2766 0 \n",
              "L 2766 531 \n",
              "Q 2569 213 2275 61 \n",
              "Q 1981 -91 1556 -91 \n",
              "Q 1019 -91 701 211 \n",
              "Q 384 513 384 1019 \n",
              "Q 384 1609 779 1909 \n",
              "Q 1175 2209 1959 2209 \n",
              "L 2766 2209 \n",
              "L 2766 2266 \n",
              "Q 2766 2663 2505 2880 \n",
              "Q 2244 3097 1772 3097 \n",
              "Q 1472 3097 1187 3025 \n",
              "Q 903 2953 641 2809 \n",
              "L 641 3341 \n",
              "Q 956 3463 1253 3523 \n",
              "Q 1550 3584 1831 3584 \n",
              "Q 2591 3584 2966 3190 \n",
              "Q 3341 2797 3341 1997 \n",
              "z\n",
              "\" transform=\"scale(0.015625)\"/>\n",
              "      <path id=\"DejaVuSans-67\" d=\"M 2906 1791 \n",
              "Q 2906 2416 2648 2759 \n",
              "Q 2391 3103 1925 3103 \n",
              "Q 1463 3103 1205 2759 \n",
              "Q 947 2416 947 1791 \n",
              "Q 947 1169 1205 825 \n",
              "Q 1463 481 1925 481 \n",
              "Q 2391 481 2648 825 \n",
              "Q 2906 1169 2906 1791 \n",
              "z\n",
              "M 3481 434 \n",
              "Q 3481 -459 3084 -895 \n",
              "Q 2688 -1331 1869 -1331 \n",
              "Q 1566 -1331 1297 -1286 \n",
              "Q 1028 -1241 775 -1147 \n",
              "L 775 -588 \n",
              "Q 1028 -725 1275 -790 \n",
              "Q 1522 -856 1778 -856 \n",
              "Q 2344 -856 2625 -561 \n",
              "Q 2906 -266 2906 331 \n",
              "L 2906 616 \n",
              "Q 2728 306 2450 153 \n",
              "Q 2172 0 1784 0 \n",
              "Q 1141 0 747 490 \n",
              "Q 353 981 353 1791 \n",
              "Q 353 2603 747 3093 \n",
              "Q 1141 3584 1784 3584 \n",
              "Q 2172 3584 2450 3431 \n",
              "Q 2728 3278 2906 2969 \n",
              "L 2906 3500 \n",
              "L 3481 3500 \n",
              "L 3481 434 \n",
              "z\n",
              "\" transform=\"scale(0.015625)\"/>\n",
              "      <path id=\"DejaVuSans-65\" d=\"M 3597 1894 \n",
              "L 3597 1613 \n",
              "L 953 1613 \n",
              "Q 991 1019 1311 708 \n",
              "Q 1631 397 2203 397 \n",
              "Q 2534 397 2845 478 \n",
              "Q 3156 559 3463 722 \n",
              "L 3463 178 \n",
              "Q 3153 47 2828 -22 \n",
              "Q 2503 -91 2169 -91 \n",
              "Q 1331 -91 842 396 \n",
              "Q 353 884 353 1716 \n",
              "Q 353 2575 817 3079 \n",
              "Q 1281 3584 2069 3584 \n",
              "Q 2775 3584 3186 3129 \n",
              "Q 3597 2675 3597 1894 \n",
              "z\n",
              "M 3022 2063 \n",
              "Q 3016 2534 2758 2815 \n",
              "Q 2500 3097 2075 3097 \n",
              "Q 1594 3097 1305 2825 \n",
              "Q 1016 2553 972 2059 \n",
              "L 3022 2063 \n",
              "z\n",
              "\" transform=\"scale(0.015625)\"/>\n",
              "      <path id=\"DejaVuSans-20\" transform=\"scale(0.015625)\"/>\n",
              "      <path id=\"DejaVuSans-68\" d=\"M 3513 2113 \n",
              "L 3513 0 \n",
              "L 2938 0 \n",
              "L 2938 2094 \n",
              "Q 2938 2591 2744 2837 \n",
              "Q 2550 3084 2163 3084 \n",
              "Q 1697 3084 1428 2787 \n",
              "Q 1159 2491 1159 1978 \n",
              "L 1159 0 \n",
              "L 581 0 \n",
              "L 581 4863 \n",
              "L 1159 4863 \n",
              "L 1159 2956 \n",
              "Q 1366 3272 1645 3428 \n",
              "Q 1925 3584 2291 3584 \n",
              "Q 2894 3584 3203 3211 \n",
              "Q 3513 2838 3513 2113 \n",
              "z\n",
              "\" transform=\"scale(0.015625)\"/>\n",
              "      <path id=\"DejaVuSans-73\" d=\"M 2834 3397 \n",
              "L 2834 2853 \n",
              "Q 2591 2978 2328 3040 \n",
              "Q 2066 3103 1784 3103 \n",
              "Q 1356 3103 1142 2972 \n",
              "Q 928 2841 928 2578 \n",
              "Q 928 2378 1081 2264 \n",
              "Q 1234 2150 1697 2047 \n",
              "L 1894 2003 \n",
              "Q 2506 1872 2764 1633 \n",
              "Q 3022 1394 3022 966 \n",
              "Q 3022 478 2636 193 \n",
              "Q 2250 -91 1575 -91 \n",
              "Q 1294 -91 989 -36 \n",
              "Q 684 19 347 128 \n",
              "L 347 722 \n",
              "Q 666 556 975 473 \n",
              "Q 1284 391 1588 391 \n",
              "Q 1994 391 2212 530 \n",
              "Q 2431 669 2431 922 \n",
              "Q 2431 1156 2273 1281 \n",
              "Q 2116 1406 1581 1522 \n",
              "L 1381 1569 \n",
              "Q 847 1681 609 1914 \n",
              "Q 372 2147 372 2553 \n",
              "Q 372 3047 722 3315 \n",
              "Q 1072 3584 1716 3584 \n",
              "Q 2034 3584 2315 3537 \n",
              "Q 2597 3491 2834 3397 \n",
              "z\n",
              "\" transform=\"scale(0.015625)\"/>\n",
              "      <path id=\"DejaVuSans-69\" d=\"M 603 3500 \n",
              "L 1178 3500 \n",
              "L 1178 0 \n",
              "L 603 0 \n",
              "L 603 3500 \n",
              "z\n",
              "M 603 4863 \n",
              "L 1178 4863 \n",
              "L 1178 4134 \n",
              "L 603 4134 \n",
              "L 603 4863 \n",
              "z\n",
              "\" transform=\"scale(0.015625)\"/>\n",
              "      <path id=\"DejaVuSans-7a\" d=\"M 353 3500 \n",
              "L 3084 3500 \n",
              "L 3084 2975 \n",
              "L 922 459 \n",
              "L 3084 459 \n",
              "L 3084 0 \n",
              "L 275 0 \n",
              "L 275 525 \n",
              "L 2438 3041 \n",
              "L 353 3041 \n",
              "L 353 3500 \n",
              "z\n",
              "\" transform=\"scale(0.015625)\"/>\n",
              "      <path id=\"DejaVuSans-28\" d=\"M 1984 4856 \n",
              "Q 1566 4138 1362 3434 \n",
              "Q 1159 2731 1159 2009 \n",
              "Q 1159 1288 1364 580 \n",
              "Q 1569 -128 1984 -844 \n",
              "L 1484 -844 \n",
              "Q 1016 -109 783 600 \n",
              "Q 550 1309 550 2009 \n",
              "Q 550 2706 781 3412 \n",
              "Q 1013 4119 1484 4856 \n",
              "L 1984 4856 \n",
              "z\n",
              "\" transform=\"scale(0.015625)\"/>\n",
              "      <path id=\"DejaVuSans-32\" d=\"M 1228 531 \n",
              "L 3431 531 \n",
              "L 3431 0 \n",
              "L 469 0 \n",
              "L 469 531 \n",
              "Q 828 903 1448 1529 \n",
              "Q 2069 2156 2228 2338 \n",
              "Q 2531 2678 2651 2914 \n",
              "Q 2772 3150 2772 3378 \n",
              "Q 2772 3750 2511 3984 \n",
              "Q 2250 4219 1831 4219 \n",
              "Q 1534 4219 1204 4116 \n",
              "Q 875 4013 500 3803 \n",
              "L 500 4441 \n",
              "Q 881 4594 1212 4672 \n",
              "Q 1544 4750 1819 4750 \n",
              "Q 2544 4750 2975 4387 \n",
              "Q 3406 4025 3406 3419 \n",
              "Q 3406 3131 3298 2873 \n",
              "Q 3191 2616 2906 2266 \n",
              "Q 2828 2175 2409 1742 \n",
              "Q 1991 1309 1228 531 \n",
              "z\n",
              "\" transform=\"scale(0.015625)\"/>\n",
              "      <path id=\"DejaVuSans-35\" d=\"M 691 4666 \n",
              "L 3169 4666 \n",
              "L 3169 4134 \n",
              "L 1269 4134 \n",
              "L 1269 2991 \n",
              "Q 1406 3038 1543 3061 \n",
              "Q 1681 3084 1819 3084 \n",
              "Q 2600 3084 3056 2656 \n",
              "Q 3513 2228 3513 1497 \n",
              "Q 3513 744 3044 326 \n",
              "Q 2575 -91 1722 -91 \n",
              "Q 1428 -91 1123 -41 \n",
              "Q 819 9 494 109 \n",
              "L 494 744 \n",
              "Q 775 591 1075 516 \n",
              "Q 1375 441 1709 441 \n",
              "Q 2250 441 2565 725 \n",
              "Q 2881 1009 2881 1497 \n",
              "Q 2881 1984 2565 2268 \n",
              "Q 2250 2553 1709 2553 \n",
              "Q 1456 2553 1204 2497 \n",
              "Q 953 2441 691 2322 \n",
              "L 691 4666 \n",
              "z\n",
              "\" transform=\"scale(0.015625)\"/>\n",
              "      <path id=\"DejaVuSans-36\" d=\"M 2113 2584 \n",
              "Q 1688 2584 1439 2293 \n",
              "Q 1191 2003 1191 1497 \n",
              "Q 1191 994 1439 701 \n",
              "Q 1688 409 2113 409 \n",
              "Q 2538 409 2786 701 \n",
              "Q 3034 994 3034 1497 \n",
              "Q 3034 2003 2786 2293 \n",
              "Q 2538 2584 2113 2584 \n",
              "z\n",
              "M 3366 4563 \n",
              "L 3366 3988 \n",
              "Q 3128 4100 2886 4159 \n",
              "Q 2644 4219 2406 4219 \n",
              "Q 1781 4219 1451 3797 \n",
              "Q 1122 3375 1075 2522 \n",
              "Q 1259 2794 1537 2939 \n",
              "Q 1816 3084 2150 3084 \n",
              "Q 2853 3084 3261 2657 \n",
              "Q 3669 2231 3669 1497 \n",
              "Q 3669 778 3244 343 \n",
              "Q 2819 -91 2113 -91 \n",
              "Q 1303 -91 875 529 \n",
              "Q 447 1150 447 2328 \n",
              "Q 447 3434 972 4092 \n",
              "Q 1497 4750 2381 4750 \n",
              "Q 2619 4750 2861 4703 \n",
              "Q 3103 4656 3366 4563 \n",
              "z\n",
              "\" transform=\"scale(0.015625)\"/>\n",
              "      <path id=\"DejaVuSans-2c\" d=\"M 750 794 \n",
              "L 1409 794 \n",
              "L 1409 256 \n",
              "L 897 -744 \n",
              "L 494 -744 \n",
              "L 750 256 \n",
              "L 750 794 \n",
              "z\n",
              "\" transform=\"scale(0.015625)\"/>\n",
              "      <path id=\"DejaVuSans-33\" d=\"M 2597 2516 \n",
              "Q 3050 2419 3304 2112 \n",
              "Q 3559 1806 3559 1356 \n",
              "Q 3559 666 3084 287 \n",
              "Q 2609 -91 1734 -91 \n",
              "Q 1441 -91 1130 -33 \n",
              "Q 819 25 488 141 \n",
              "L 488 750 \n",
              "Q 750 597 1062 519 \n",
              "Q 1375 441 1716 441 \n",
              "Q 2309 441 2620 675 \n",
              "Q 2931 909 2931 1356 \n",
              "Q 2931 1769 2642 2001 \n",
              "Q 2353 2234 1838 2234 \n",
              "L 1294 2234 \n",
              "L 1294 2753 \n",
              "L 1863 2753 \n",
              "Q 2328 2753 2575 2939 \n",
              "Q 2822 3125 2822 3475 \n",
              "Q 2822 3834 2567 4026 \n",
              "Q 2313 4219 1838 4219 \n",
              "Q 1578 4219 1281 4162 \n",
              "Q 984 4106 628 3988 \n",
              "L 628 4550 \n",
              "Q 988 4650 1302 4700 \n",
              "Q 1616 4750 1894 4750 \n",
              "Q 2613 4750 3031 4423 \n",
              "Q 3450 4097 3450 3541 \n",
              "Q 3450 3153 3228 2886 \n",
              "Q 3006 2619 2597 2516 \n",
              "z\n",
              "\" transform=\"scale(0.015625)\"/>\n",
              "      <path id=\"DejaVuSans-29\" d=\"M 513 4856 \n",
              "L 1013 4856 \n",
              "Q 1481 4119 1714 3412 \n",
              "Q 1947 2706 1947 2009 \n",
              "Q 1947 1309 1714 600 \n",
              "Q 1481 -109 1013 -844 \n",
              "L 513 -844 \n",
              "Q 928 -128 1133 580 \n",
              "Q 1338 1288 1338 2009 \n",
              "Q 1338 2731 1133 3434 \n",
              "Q 928 4138 513 4856 \n",
              "z\n",
              "\" transform=\"scale(0.015625)\"/>\n",
              "     </defs>\n",
              "     <use xlink:href=\"#DejaVuSans-49\"/>\n",
              "     <use xlink:href=\"#DejaVuSans-6d\" x=\"29.492188\"/>\n",
              "     <use xlink:href=\"#DejaVuSans-61\" x=\"126.904297\"/>\n",
              "     <use xlink:href=\"#DejaVuSans-67\" x=\"188.183594\"/>\n",
              "     <use xlink:href=\"#DejaVuSans-65\" x=\"251.660156\"/>\n",
              "     <use xlink:href=\"#DejaVuSans-20\" x=\"313.183594\"/>\n",
              "     <use xlink:href=\"#DejaVuSans-68\" x=\"344.970703\"/>\n",
              "     <use xlink:href=\"#DejaVuSans-61\" x=\"408.349609\"/>\n",
              "     <use xlink:href=\"#DejaVuSans-73\" x=\"469.628906\"/>\n",
              "     <use xlink:href=\"#DejaVuSans-20\" x=\"521.728516\"/>\n",
              "     <use xlink:href=\"#DejaVuSans-73\" x=\"553.515625\"/>\n",
              "     <use xlink:href=\"#DejaVuSans-69\" x=\"605.615234\"/>\n",
              "     <use xlink:href=\"#DejaVuSans-7a\" x=\"633.398438\"/>\n",
              "     <use xlink:href=\"#DejaVuSans-65\" x=\"685.888672\"/>\n",
              "     <use xlink:href=\"#DejaVuSans-20\" x=\"747.412109\"/>\n",
              "     <use xlink:href=\"#DejaVuSans-28\" x=\"779.199219\"/>\n",
              "     <use xlink:href=\"#DejaVuSans-32\" x=\"818.212891\"/>\n",
              "     <use xlink:href=\"#DejaVuSans-35\" x=\"881.835938\"/>\n",
              "     <use xlink:href=\"#DejaVuSans-36\" x=\"945.458984\"/>\n",
              "     <use xlink:href=\"#DejaVuSans-2c\" x=\"1009.082031\"/>\n",
              "     <use xlink:href=\"#DejaVuSans-20\" x=\"1040.869141\"/>\n",
              "     <use xlink:href=\"#DejaVuSans-32\" x=\"1072.65625\"/>\n",
              "     <use xlink:href=\"#DejaVuSans-35\" x=\"1136.279297\"/>\n",
              "     <use xlink:href=\"#DejaVuSans-36\" x=\"1199.902344\"/>\n",
              "     <use xlink:href=\"#DejaVuSans-2c\" x=\"1263.525391\"/>\n",
              "     <use xlink:href=\"#DejaVuSans-20\" x=\"1295.3125\"/>\n",
              "     <use xlink:href=\"#DejaVuSans-33\" x=\"1327.099609\"/>\n",
              "     <use xlink:href=\"#DejaVuSans-29\" x=\"1390.722656\"/>\n",
              "    </g>\n",
              "   </g>\n",
              "  </g>\n",
              " </g>\n",
              " <defs>\n",
              "  <clipPath id=\"p44f87ff3f3\">\n",
              "   <rect x=\"7.2\" y=\"24.14175\" width=\"266.112\" height=\"266.112\"/>\n",
              "  </clipPath>\n",
              " </defs>\n",
              "</svg>\n"
            ],
            "text/plain": [
              "<Figure size 640x480 with 1 Axes>"
            ]
          },
          "metadata": {},
          "output_type": "display_data"
        },
        {
          "data": {
            "image/svg+xml": [
              "<?xml version=\"1.0\" encoding=\"utf-8\" standalone=\"no\"?>\n",
              "<!DOCTYPE svg PUBLIC \"-//W3C//DTD SVG 1.1//EN\"\n",
              "  \"http://www.w3.org/Graphics/SVG/1.1/DTD/svg11.dtd\">\n",
              "<svg xmlns:xlink=\"http://www.w3.org/1999/xlink\" width=\"280.512pt\" height=\"297.45375pt\" viewBox=\"0 0 280.512 297.45375\" xmlns=\"http://www.w3.org/2000/svg\" version=\"1.1\">\n",
              " <metadata>\n",
              "  <rdf:RDF xmlns:dc=\"http://purl.org/dc/elements/1.1/\" xmlns:cc=\"http://creativecommons.org/ns#\" xmlns:rdf=\"http://www.w3.org/1999/02/22-rdf-syntax-ns#\">\n",
              "   <cc:Work>\n",
              "    <dc:type rdf:resource=\"http://purl.org/dc/dcmitype/StillImage\"/>\n",
              "    <dc:date>2024-09-27T10:41:30.227429</dc:date>\n",
              "    <dc:format>image/svg+xml</dc:format>\n",
              "    <dc:creator>\n",
              "     <cc:Agent>\n",
              "      <dc:title>Matplotlib v3.7.1, https://matplotlib.org/</dc:title>\n",
              "     </cc:Agent>\n",
              "    </dc:creator>\n",
              "   </cc:Work>\n",
              "  </rdf:RDF>\n",
              " </metadata>\n",
              " <defs>\n",
              "  <style type=\"text/css\">*{stroke-linejoin: round; stroke-linecap: butt}</style>\n",
              " </defs>\n",
              " <g id=\"figure_1\">\n",
              "  <g id=\"patch_1\">\n",
              "   <path d=\"M 0 297.45375 \n",
              "L 280.512 297.45375 \n",
              "L 280.512 0 \n",
              "L 0 0 \n",
              "z\n",
              "\" style=\"fill: #ffffff\"/>\n",
              "  </g>\n",
              "  <g id=\"axes_1\">\n",
              "   <g clip-path=\"url(#p0ec0b07375)\">\n",
              "    <image xlink:href=\"data:image/png;base64,\n",
              "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\" id=\"image1cec1c20fe\" transform=\"scale(1 -1) translate(0 -266.4)\" x=\"7.2\" y=\"-23.85375\" width=\"266.4\" height=\"266.4\"/>\n",
              "   </g>\n",
              "   <g id=\"text_1\">\n",
              "    <!-- Image has size (50, 50) -->\n",
              "    <g transform=\"translate(55.63575 18.14175) scale(0.144 -0.144)\">\n",
              "     <defs>\n",
              "      <path id=\"DejaVuSans-49\" d=\"M 628 4666 \n",
              "L 1259 4666 \n",
              "L 1259 0 \n",
              "L 628 0 \n",
              "L 628 4666 \n",
              "z\n",
              "\" transform=\"scale(0.015625)\"/>\n",
              "      <path id=\"DejaVuSans-6d\" d=\"M 3328 2828 \n",
              "Q 3544 3216 3844 3400 \n",
              "Q 4144 3584 4550 3584 \n",
              "Q 5097 3584 5394 3201 \n",
              "Q 5691 2819 5691 2113 \n",
              "L 5691 0 \n",
              "L 5113 0 \n",
              "L 5113 2094 \n",
              "Q 5113 2597 4934 2840 \n",
              "Q 4756 3084 4391 3084 \n",
              "Q 3944 3084 3684 2787 \n",
              "Q 3425 2491 3425 1978 \n",
              "L 3425 0 \n",
              "L 2847 0 \n",
              "L 2847 2094 \n",
              "Q 2847 2600 2669 2842 \n",
              "Q 2491 3084 2119 3084 \n",
              "Q 1678 3084 1418 2786 \n",
              "Q 1159 2488 1159 1978 \n",
              "L 1159 0 \n",
              "L 581 0 \n",
              "L 581 3500 \n",
              "L 1159 3500 \n",
              "L 1159 2956 \n",
              "Q 1356 3278 1631 3431 \n",
              "Q 1906 3584 2284 3584 \n",
              "Q 2666 3584 2933 3390 \n",
              "Q 3200 3197 3328 2828 \n",
              "z\n",
              "\" transform=\"scale(0.015625)\"/>\n",
              "      <path id=\"DejaVuSans-61\" d=\"M 2194 1759 \n",
              "Q 1497 1759 1228 1600 \n",
              "Q 959 1441 959 1056 \n",
              "Q 959 750 1161 570 \n",
              "Q 1363 391 1709 391 \n",
              "Q 2188 391 2477 730 \n",
              "Q 2766 1069 2766 1631 \n",
              "L 2766 1759 \n",
              "L 2194 1759 \n",
              "z\n",
              "M 3341 1997 \n",
              "L 3341 0 \n",
              "L 2766 0 \n",
              "L 2766 531 \n",
              "Q 2569 213 2275 61 \n",
              "Q 1981 -91 1556 -91 \n",
              "Q 1019 -91 701 211 \n",
              "Q 384 513 384 1019 \n",
              "Q 384 1609 779 1909 \n",
              "Q 1175 2209 1959 2209 \n",
              "L 2766 2209 \n",
              "L 2766 2266 \n",
              "Q 2766 2663 2505 2880 \n",
              "Q 2244 3097 1772 3097 \n",
              "Q 1472 3097 1187 3025 \n",
              "Q 903 2953 641 2809 \n",
              "L 641 3341 \n",
              "Q 956 3463 1253 3523 \n",
              "Q 1550 3584 1831 3584 \n",
              "Q 2591 3584 2966 3190 \n",
              "Q 3341 2797 3341 1997 \n",
              "z\n",
              "\" transform=\"scale(0.015625)\"/>\n",
              "      <path id=\"DejaVuSans-67\" d=\"M 2906 1791 \n",
              "Q 2906 2416 2648 2759 \n",
              "Q 2391 3103 1925 3103 \n",
              "Q 1463 3103 1205 2759 \n",
              "Q 947 2416 947 1791 \n",
              "Q 947 1169 1205 825 \n",
              "Q 1463 481 1925 481 \n",
              "Q 2391 481 2648 825 \n",
              "Q 2906 1169 2906 1791 \n",
              "z\n",
              "M 3481 434 \n",
              "Q 3481 -459 3084 -895 \n",
              "Q 2688 -1331 1869 -1331 \n",
              "Q 1566 -1331 1297 -1286 \n",
              "Q 1028 -1241 775 -1147 \n",
              "L 775 -588 \n",
              "Q 1028 -725 1275 -790 \n",
              "Q 1522 -856 1778 -856 \n",
              "Q 2344 -856 2625 -561 \n",
              "Q 2906 -266 2906 331 \n",
              "L 2906 616 \n",
              "Q 2728 306 2450 153 \n",
              "Q 2172 0 1784 0 \n",
              "Q 1141 0 747 490 \n",
              "Q 353 981 353 1791 \n",
              "Q 353 2603 747 3093 \n",
              "Q 1141 3584 1784 3584 \n",
              "Q 2172 3584 2450 3431 \n",
              "Q 2728 3278 2906 2969 \n",
              "L 2906 3500 \n",
              "L 3481 3500 \n",
              "L 3481 434 \n",
              "z\n",
              "\" transform=\"scale(0.015625)\"/>\n",
              "      <path id=\"DejaVuSans-65\" d=\"M 3597 1894 \n",
              "L 3597 1613 \n",
              "L 953 1613 \n",
              "Q 991 1019 1311 708 \n",
              "Q 1631 397 2203 397 \n",
              "Q 2534 397 2845 478 \n",
              "Q 3156 559 3463 722 \n",
              "L 3463 178 \n",
              "Q 3153 47 2828 -22 \n",
              "Q 2503 -91 2169 -91 \n",
              "Q 1331 -91 842 396 \n",
              "Q 353 884 353 1716 \n",
              "Q 353 2575 817 3079 \n",
              "Q 1281 3584 2069 3584 \n",
              "Q 2775 3584 3186 3129 \n",
              "Q 3597 2675 3597 1894 \n",
              "z\n",
              "M 3022 2063 \n",
              "Q 3016 2534 2758 2815 \n",
              "Q 2500 3097 2075 3097 \n",
              "Q 1594 3097 1305 2825 \n",
              "Q 1016 2553 972 2059 \n",
              "L 3022 2063 \n",
              "z\n",
              "\" transform=\"scale(0.015625)\"/>\n",
              "      <path id=\"DejaVuSans-20\" transform=\"scale(0.015625)\"/>\n",
              "      <path id=\"DejaVuSans-68\" d=\"M 3513 2113 \n",
              "L 3513 0 \n",
              "L 2938 0 \n",
              "L 2938 2094 \n",
              "Q 2938 2591 2744 2837 \n",
              "Q 2550 3084 2163 3084 \n",
              "Q 1697 3084 1428 2787 \n",
              "Q 1159 2491 1159 1978 \n",
              "L 1159 0 \n",
              "L 581 0 \n",
              "L 581 4863 \n",
              "L 1159 4863 \n",
              "L 1159 2956 \n",
              "Q 1366 3272 1645 3428 \n",
              "Q 1925 3584 2291 3584 \n",
              "Q 2894 3584 3203 3211 \n",
              "Q 3513 2838 3513 2113 \n",
              "z\n",
              "\" transform=\"scale(0.015625)\"/>\n",
              "      <path id=\"DejaVuSans-73\" d=\"M 2834 3397 \n",
              "L 2834 2853 \n",
              "Q 2591 2978 2328 3040 \n",
              "Q 2066 3103 1784 3103 \n",
              "Q 1356 3103 1142 2972 \n",
              "Q 928 2841 928 2578 \n",
              "Q 928 2378 1081 2264 \n",
              "Q 1234 2150 1697 2047 \n",
              "L 1894 2003 \n",
              "Q 2506 1872 2764 1633 \n",
              "Q 3022 1394 3022 966 \n",
              "Q 3022 478 2636 193 \n",
              "Q 2250 -91 1575 -91 \n",
              "Q 1294 -91 989 -36 \n",
              "Q 684 19 347 128 \n",
              "L 347 722 \n",
              "Q 666 556 975 473 \n",
              "Q 1284 391 1588 391 \n",
              "Q 1994 391 2212 530 \n",
              "Q 2431 669 2431 922 \n",
              "Q 2431 1156 2273 1281 \n",
              "Q 2116 1406 1581 1522 \n",
              "L 1381 1569 \n",
              "Q 847 1681 609 1914 \n",
              "Q 372 2147 372 2553 \n",
              "Q 372 3047 722 3315 \n",
              "Q 1072 3584 1716 3584 \n",
              "Q 2034 3584 2315 3537 \n",
              "Q 2597 3491 2834 3397 \n",
              "z\n",
              "\" transform=\"scale(0.015625)\"/>\n",
              "      <path id=\"DejaVuSans-69\" d=\"M 603 3500 \n",
              "L 1178 3500 \n",
              "L 1178 0 \n",
              "L 603 0 \n",
              "L 603 3500 \n",
              "z\n",
              "M 603 4863 \n",
              "L 1178 4863 \n",
              "L 1178 4134 \n",
              "L 603 4134 \n",
              "L 603 4863 \n",
              "z\n",
              "\" transform=\"scale(0.015625)\"/>\n",
              "      <path id=\"DejaVuSans-7a\" d=\"M 353 3500 \n",
              "L 3084 3500 \n",
              "L 3084 2975 \n",
              "L 922 459 \n",
              "L 3084 459 \n",
              "L 3084 0 \n",
              "L 275 0 \n",
              "L 275 525 \n",
              "L 2438 3041 \n",
              "L 353 3041 \n",
              "L 353 3500 \n",
              "z\n",
              "\" transform=\"scale(0.015625)\"/>\n",
              "      <path id=\"DejaVuSans-28\" d=\"M 1984 4856 \n",
              "Q 1566 4138 1362 3434 \n",
              "Q 1159 2731 1159 2009 \n",
              "Q 1159 1288 1364 580 \n",
              "Q 1569 -128 1984 -844 \n",
              "L 1484 -844 \n",
              "Q 1016 -109 783 600 \n",
              "Q 550 1309 550 2009 \n",
              "Q 550 2706 781 3412 \n",
              "Q 1013 4119 1484 4856 \n",
              "L 1984 4856 \n",
              "z\n",
              "\" transform=\"scale(0.015625)\"/>\n",
              "      <path id=\"DejaVuSans-35\" d=\"M 691 4666 \n",
              "L 3169 4666 \n",
              "L 3169 4134 \n",
              "L 1269 4134 \n",
              "L 1269 2991 \n",
              "Q 1406 3038 1543 3061 \n",
              "Q 1681 3084 1819 3084 \n",
              "Q 2600 3084 3056 2656 \n",
              "Q 3513 2228 3513 1497 \n",
              "Q 3513 744 3044 326 \n",
              "Q 2575 -91 1722 -91 \n",
              "Q 1428 -91 1123 -41 \n",
              "Q 819 9 494 109 \n",
              "L 494 744 \n",
              "Q 775 591 1075 516 \n",
              "Q 1375 441 1709 441 \n",
              "Q 2250 441 2565 725 \n",
              "Q 2881 1009 2881 1497 \n",
              "Q 2881 1984 2565 2268 \n",
              "Q 2250 2553 1709 2553 \n",
              "Q 1456 2553 1204 2497 \n",
              "Q 953 2441 691 2322 \n",
              "L 691 4666 \n",
              "z\n",
              "\" transform=\"scale(0.015625)\"/>\n",
              "      <path id=\"DejaVuSans-30\" d=\"M 2034 4250 \n",
              "Q 1547 4250 1301 3770 \n",
              "Q 1056 3291 1056 2328 \n",
              "Q 1056 1369 1301 889 \n",
              "Q 1547 409 2034 409 \n",
              "Q 2525 409 2770 889 \n",
              "Q 3016 1369 3016 2328 \n",
              "Q 3016 3291 2770 3770 \n",
              "Q 2525 4250 2034 4250 \n",
              "z\n",
              "M 2034 4750 \n",
              "Q 2819 4750 3233 4129 \n",
              "Q 3647 3509 3647 2328 \n",
              "Q 3647 1150 3233 529 \n",
              "Q 2819 -91 2034 -91 \n",
              "Q 1250 -91 836 529 \n",
              "Q 422 1150 422 2328 \n",
              "Q 422 3509 836 4129 \n",
              "Q 1250 4750 2034 4750 \n",
              "z\n",
              "\" transform=\"scale(0.015625)\"/>\n",
              "      <path id=\"DejaVuSans-2c\" d=\"M 750 794 \n",
              "L 1409 794 \n",
              "L 1409 256 \n",
              "L 897 -744 \n",
              "L 494 -744 \n",
              "L 750 256 \n",
              "L 750 794 \n",
              "z\n",
              "\" transform=\"scale(0.015625)\"/>\n",
              "      <path id=\"DejaVuSans-29\" d=\"M 513 4856 \n",
              "L 1013 4856 \n",
              "Q 1481 4119 1714 3412 \n",
              "Q 1947 2706 1947 2009 \n",
              "Q 1947 1309 1714 600 \n",
              "Q 1481 -109 1013 -844 \n",
              "L 513 -844 \n",
              "Q 928 -128 1133 580 \n",
              "Q 1338 1288 1338 2009 \n",
              "Q 1338 2731 1133 3434 \n",
              "Q 928 4138 513 4856 \n",
              "z\n",
              "\" transform=\"scale(0.015625)\"/>\n",
              "     </defs>\n",
              "     <use xlink:href=\"#DejaVuSans-49\"/>\n",
              "     <use xlink:href=\"#DejaVuSans-6d\" x=\"29.492188\"/>\n",
              "     <use xlink:href=\"#DejaVuSans-61\" x=\"126.904297\"/>\n",
              "     <use xlink:href=\"#DejaVuSans-67\" x=\"188.183594\"/>\n",
              "     <use xlink:href=\"#DejaVuSans-65\" x=\"251.660156\"/>\n",
              "     <use xlink:href=\"#DejaVuSans-20\" x=\"313.183594\"/>\n",
              "     <use xlink:href=\"#DejaVuSans-68\" x=\"344.970703\"/>\n",
              "     <use xlink:href=\"#DejaVuSans-61\" x=\"408.349609\"/>\n",
              "     <use xlink:href=\"#DejaVuSans-73\" x=\"469.628906\"/>\n",
              "     <use xlink:href=\"#DejaVuSans-20\" x=\"521.728516\"/>\n",
              "     <use xlink:href=\"#DejaVuSans-73\" x=\"553.515625\"/>\n",
              "     <use xlink:href=\"#DejaVuSans-69\" x=\"605.615234\"/>\n",
              "     <use xlink:href=\"#DejaVuSans-7a\" x=\"633.398438\"/>\n",
              "     <use xlink:href=\"#DejaVuSans-65\" x=\"685.888672\"/>\n",
              "     <use xlink:href=\"#DejaVuSans-20\" x=\"747.412109\"/>\n",
              "     <use xlink:href=\"#DejaVuSans-28\" x=\"779.199219\"/>\n",
              "     <use xlink:href=\"#DejaVuSans-35\" x=\"818.212891\"/>\n",
              "     <use xlink:href=\"#DejaVuSans-30\" x=\"881.835938\"/>\n",
              "     <use xlink:href=\"#DejaVuSans-2c\" x=\"945.458984\"/>\n",
              "     <use xlink:href=\"#DejaVuSans-20\" x=\"977.246094\"/>\n",
              "     <use xlink:href=\"#DejaVuSans-35\" x=\"1009.033203\"/>\n",
              "     <use xlink:href=\"#DejaVuSans-30\" x=\"1072.65625\"/>\n",
              "     <use xlink:href=\"#DejaVuSans-29\" x=\"1136.279297\"/>\n",
              "    </g>\n",
              "   </g>\n",
              "  </g>\n",
              " </g>\n",
              " <defs>\n",
              "  <clipPath id=\"p0ec0b07375\">\n",
              "   <rect x=\"7.2\" y=\"24.14175\" width=\"266.112\" height=\"266.112\"/>\n",
              "  </clipPath>\n",
              " </defs>\n",
              "</svg>\n"
            ],
            "text/plain": [
              "<Figure size 640x480 with 1 Axes>"
            ]
          },
          "metadata": {},
          "output_type": "display_data"
        }
      ],
      "source": [
        "for batch in dummy_batch:\n",
        "  original_image=batch[0][0]\n",
        "  show_img(original_image)\n",
        "  show_img(transforms_all(transforms.ToPILImage()(original_image)))\n",
        "  break"
      ]
    },
    {
      "cell_type": "markdown",
      "metadata": {
        "id": "3MnnkzIA-jhy"
      },
      "source": [
        "### Separação em dados de treino e validação"
      ]
    },
    {
      "cell_type": "markdown",
      "metadata": {},
      "source": [
        "**Etapas**\n",
        "\n",
        "3. Separa parte dos dados em treinamento e validação.\n",
        "    * São utilizadas apenas as primeiras 134 variações de fonte.\n",
        "    * De cada variação, 42 imagens são copiadas para os dados de treino, e 20 imagens para os dados de validação."
      ]
    },
    {
      "cell_type": "code",
      "execution_count": 24,
      "metadata": {
        "id": "uEMydNjynWnB"
      },
      "outputs": [
        {
          "name": "stdout",
          "output_type": "stream",
          "text": [
            "Original Fonts number of subfolders: 1,116\n",
            "Original Fonts number of png files: 69,192\n",
            "Train Fonts number of subfolders: 134\n",
            "Train Fonts number of png files: 5,628\n",
            "Val Fonts number of subfolders: 134\n",
            "Val Fonts number of png files: 2,680\n"
          ]
        }
      ],
      "source": [
        "folders=os.listdir(path)\n",
        "count_folders_and_png_files(path, \"Original Fonts\")\n",
        "\n",
        "shutil.rmtree(train_path)\n",
        "shutil.rmtree(val_path)\n",
        "\n",
        "os.makedirs(train_path, exist_ok=True)\n",
        "os.makedirs(val_path, exist_ok=True)\n",
        "\n",
        "# Podemos limitar em num_folders a quantidade total de pasta que iremos trabalhar, no total temos 1116.\n",
        "num_folders = 134\n",
        "count_folders = 1\n",
        "for folder in folders:\n",
        "    if count_folders <= num_folders:\n",
        "      os.mkdir(f'{train_path}/{folder}')\n",
        "      os.mkdir(f'{val_path}/{folder}')\n",
        "      images = os.listdir(f'{path}/{folder}')\n",
        "      random.shuffle(images)\n",
        "      for image in images[:20]:\n",
        "        shutil.copy(f'{path}/{folder}/{image}', f'{val_path}/{folder}/{image}')\n",
        "      for image in images[20:]:\n",
        "        shutil.copy(f'{path}/{folder}/{image}', f'{train_path}/{folder}/{image}')\n",
        "    count_folders += 1\n",
        "\n",
        "count_folders_and_png_files(train_path, \"Train Fonts\")\n",
        "count_folders_and_png_files(val_path, \"Val Fonts\")"
      ]
    },
    {
      "cell_type": "code",
      "execution_count": 25,
      "metadata": {
        "id": "as0w1nHXAWJr"
      },
      "outputs": [
        {
          "name": "stdout",
          "output_type": "stream",
          "text": [
            "134\n",
            "134\n"
          ]
        }
      ],
      "source": [
        "print(len(os.listdir(train_path)))\n",
        "print(len(os.listdir(val_path)))"
      ]
    },
    {
      "cell_type": "markdown",
      "metadata": {
        "id": "xXeqECWk-sb0"
      },
      "source": [
        "### Construção do Dataset e Dataloader"
      ]
    },
    {
      "cell_type": "markdown",
      "metadata": {},
      "source": [
        "**Etapas**\n",
        "\n",
        "4. Definição dos _DataLoaders_ de treinamento e validação.\n",
        "    * Cada _DataLoader_ incorpora a redução de escala e transformação em imagens em escala de cinza."
      ]
    },
    {
      "cell_type": "code",
      "execution_count": 26,
      "metadata": {
        "id": "Ps0SGu7kCRU-"
      },
      "outputs": [],
      "source": [
        "transforms_set = transforms.Compose([\n",
        "    transforms.Grayscale(num_output_channels=1),\n",
        "    transforms.Resize(size=50),\n",
        "    transforms.ToTensor()\n",
        "])\n",
        "\n",
        "train_loader=torch.utils.data.DataLoader(\n",
        "    datasets.ImageFolder(f'{train_path}',transform=transforms_set),\n",
        "    batch_size=batch_size, shuffle=True\n",
        ")\n",
        "\n",
        "val_loader=torch.utils.data.DataLoader(\n",
        "    datasets.ImageFolder(f'{val_path}',transform=transforms_set),\n",
        "    batch_size=batch_size, shuffle=True\n",
        ")"
      ]
    },
    {
      "cell_type": "markdown",
      "metadata": {
        "id": "V0WnhejB-xeY"
      },
      "source": [
        "### Implementação VAE"
      ]
    },
    {
      "cell_type": "markdown",
      "metadata": {},
      "source": [
        "**Etapas**\n",
        "\n",
        "5. Definição da arquitetura do VAE\n",
        "    * São utilizadas camadas densas.\n",
        "    * Existem 3 elementos principais na arquitetura: **Encoder**, **Reparametrização** e **Decoder**.\n",
        "    * **Encoder**:\n",
        "        * Passa dados de entrada achatados (_flatten_) de dimensão 2500 para dimensão 1000. Seguido por ativação ReLU.\n",
        "        * Passa dados da dimensão 1000 em duas camadas paralelas para a dimensão do espaço latente.\n",
        "        * Cada dimensão do espaço latente é caracterizada por uma média ($\\mu$) e um logarítimico da variância ($log(\\sigma^2)$).\n",
        "    * **Reparametrização**:\n",
        "        * _Reamostra_ cada elemento do espaço latente em função das respectivas médias e logarítimicos da variância.\n",
        "\n",
        "        $$\n",
        "        \\sigma = e^{0.5*log(\\sigma^2)} \\\\\n",
        "        x = \\mu + \\epsilon \\sigma\n",
        "        $$\n",
        "\n",
        "        * A variável aleatória $\\epsilon$ segue distribuição normal padrão: $\\epsilon \\sim \\mathcal{N}(0, 1)$. \n",
        "    * **Decoder**:\n",
        "        * Passa do espaço latente para a dimensão 1000, seguido de ativação ReLU.\n",
        "        * Passa da dimensão 1000 de volta para a dimensão do dado original. A ativação sigmóide deixa os valores de saída dentro da faixa de variação do dado original: $[0,1]$.\n",
        "        "
      ]
    },
    {
      "cell_type": "code",
      "execution_count": 46,
      "metadata": {
        "id": "WMucNt88G83a"
      },
      "outputs": [],
      "source": [
        "class VAE(nn.Module):\n",
        "    def __init__(self):\n",
        "        super(VAE, self).__init__()\n",
        "\n",
        "        z = 32 # Dimensão do espaço latente\n",
        "\n",
        "        #ENCODER\n",
        "        self.fc1 = nn.Linear(50*50,1000) # Camada densa do dado de entrada para dimensão 1000\n",
        "        self.fc21 = nn.Linear(1000,z)   # Camada densa de dimensão 1000 para espaço latente z\n",
        "        self.fc22 = nn.Linear(1000,z)   # Camada densa de dimensão 1000 para espaço latente z\n",
        "\n",
        "        #DECODER\n",
        "        self.fc3 = nn.Linear(z,1000)\n",
        "        self.fc4 = nn.Linear(1000,50*50)\n",
        "\n",
        "    def encode(self, x):\n",
        "        h1 = F.relu(self.fc1(x))\n",
        "        return self.fc21(h1), self.fc22(h1)\n",
        "\n",
        "    def reparameterize(self, mu, logvar):\n",
        "        std = torch.exp(0.5*logvar)\n",
        "        eps = torch.randn_like(std)\n",
        "        return mu + eps*std\n",
        "\n",
        "    def decode(self, z):\n",
        "        h3 = F.relu(self.fc3(z))\n",
        "        return torch.sigmoid(self.fc4(h3))\n",
        "\n",
        "    def forward(self, x):\n",
        "        # don't forget forward pass re-index\n",
        "        mu, logvar = self.encode(x.view(-1, 50*50))\n",
        "        z = self.reparameterize(mu, logvar)\n",
        "        return self.decode(z), mu, logvar"
      ]
    },
    {
      "cell_type": "markdown",
      "metadata": {
        "id": "BMCnykAu-zPu"
      },
      "source": [
        "### Implementação Loss Function"
      ]
    },
    {
      "cell_type": "markdown",
      "metadata": {},
      "source": [
        "**Etapas**\n",
        "\n",
        "6. Definição da função de perda.\n",
        "    * Existem dois termos na função de perda: **Entropia Binária Cruzada** e **Divergente de Kullback-Leibler**.\n",
        "    * **Entropia Binária Cruzada**:\n",
        "        * Medida do quando as imagens original e reconstruída se parecem, pixel a pixel.\n",
        "    * **Divergente de Kullback-Leibler**:\n",
        "        * Medida do quanto a distribuição do espaço latente se aproxima de uma distribuição normal padrão.\n",
        "    * Desta forma a otimização dos pesos da rede tem duplo objetivo: reconstruir as imagens de entrada ao mesmo tempo que busca uma representação no espaço latente que siga uma normal padrão.\n",
        "    * Código original foi alterado para retornar termos da _loss_ separadamente."
      ]
    },
    {
      "cell_type": "code",
      "execution_count": 47,
      "metadata": {
        "id": "tF7NcN_gINjd"
      },
      "outputs": [],
      "source": [
        "def loss_function(recon_x, x, mu, logvar):\n",
        "\n",
        "    BCE = F.binary_cross_entropy(recon_x, x.view(-1, 50*50), reduction='sum')\n",
        "\n",
        "    KLD = -0.5 * torch.sum(1 + logvar - mu.pow(2) - logvar.exp())\n",
        "\n",
        "    return BCE + KLD, BCE.detach(), KLD.detach()"
      ]
    },
    {
      "cell_type": "markdown",
      "metadata": {
        "id": "jTNbip80-6uz"
      },
      "source": [
        "### Criação do Modelo"
      ]
    },
    {
      "cell_type": "markdown",
      "metadata": {},
      "source": [
        "**Etapas**\n",
        "\n",
        "6. Cria nova instância do modelo."
      ]
    },
    {
      "cell_type": "code",
      "execution_count": 48,
      "metadata": {
        "id": "WvBcXxXhI7ME"
      },
      "outputs": [
        {
          "name": "stdout",
          "output_type": "stream",
          "text": [
            "Device:  cuda\n"
          ]
        }
      ],
      "source": [
        "device=torch.device('cuda' if torch.cuda.is_available() else 'cpu')\n",
        "model=VAE().to(device)\n",
        "print('Device: ',device)\n",
        "model=VAE().to(device)\n",
        "optimizer=optim.Adam(model.parameters(),lr=1e-3)"
      ]
    },
    {
      "cell_type": "markdown",
      "metadata": {
        "id": "4QPRx-BE--rV"
      },
      "source": [
        "### Loops de Treinamento e Avaliação"
      ]
    },
    {
      "cell_type": "markdown",
      "metadata": {},
      "source": [
        "**Etapas**\n",
        "\n",
        "7. Rotina de avaliação:\n",
        "    * Calcula a _loss_ média do conjunto de validação.\n",
        "    * Guarda uma amostra comparando a figura original com a reconstruída.\n",
        "8. Rotina para gerar novas amostras:\n",
        "    * Guarda 64 amostras geradas a partir de amostragem no espaço latente.\n",
        "9. Rotina de treino:\n",
        "    * Treinamento realizado em mini-batches de 64 amostras e otimizador Adam."
      ]
    },
    {
      "cell_type": "code",
      "execution_count": 49,
      "metadata": {
        "id": "Sm-ofYHEN6MP"
      },
      "outputs": [],
      "source": [
        "def evaluate(epoch, evaluate_data=val_loader):\n",
        "\n",
        "    val_loss = 0\n",
        "    with torch.no_grad():\n",
        "        for i, (data, _) in enumerate(evaluate_data):\n",
        "\n",
        "            data=data.to(device)\n",
        "            recon_batch,mu,logvar=model(data)\n",
        "            loss, _, _ = loss_function(recon_batch,data,mu,logvar)\n",
        "            val_loss += loss.item()\n",
        "\n",
        "            if i == 0 and epoch%50==0:\n",
        "                n = min(data.size(0), 16)\n",
        "                comparison = torch.cat([data[:n],\n",
        "                                        recon_batch.view(batch_size, 1, 50, 50)[:n]])\n",
        "                save_image(comparison.cpu(),\n",
        "                           './results/reconstruction_' + str(epoch) + '.png', nrow=n)\n",
        "\n",
        "    val_loss /= len(evaluate_data.dataset)\n",
        "    return val_loss\n",
        "\n",
        "\n",
        "def sample_latent_space(epoch):\n",
        "    with torch.no_grad():\n",
        "\n",
        "        # how to sample from our latent space\n",
        "        sample=torch.randn(64,32).to(device)\n",
        "        sample=model.decode(sample).cpu()\n",
        "\n",
        "        save_image(sample.view(64, 1, 50, 50),\n",
        "                   './results/sample_' + str(epoch) + '.png')"
      ]
    },
    {
      "cell_type": "code",
      "execution_count": 50,
      "metadata": {
        "id": "SOWtfLfqPmC-"
      },
      "outputs": [],
      "source": [
        "train_losses,val_losses=[],[]\n",
        "train_losses_bce,train_losses_kld=[],[]\n",
        "\n",
        "def train(epoch):\n",
        "\n",
        "    model.train()\n",
        "\n",
        "    train_loss = 0\n",
        "    train_loss_bce = 0\n",
        "    train_loss_kld = 0\n",
        "\n",
        "    progress_bar = tqdm(train_loader, desc=f'Epoch {epoch:03d}', leave=False, disable=False)\n",
        "    for data, _ in progress_bar:\n",
        "        progress_bar.set_description(f'Epoch {epoch:03d}')\n",
        "\n",
        "        data=data.to(device)\n",
        "        optimizer.zero_grad()\n",
        "        recon_batch,mu,logvar=model(data)\n",
        "\n",
        "        loss, loss_bce, loss_kld = loss_function(recon_batch,data,mu,logvar)\n",
        "        loss.backward()\n",
        "        train_loss += loss.item()\n",
        "        train_loss_bce += loss_bce.item()\n",
        "        train_loss_kld += loss_kld.item()\n",
        "        optimizer.step()\n",
        "\n",
        "        progress_bar.set_postfix({'training_loss': f'{(loss.item() / len(data)):.3f}'})\n",
        "\n",
        "    avg_train_loss = train_loss / len(train_loader.dataset)\n",
        "    avg_train_loss_bce = train_loss_bce / len(train_loader.dataset)\n",
        "    avg_train_loss_kld = train_loss_kld / len(train_loader.dataset)\n",
        "    val_loss = evaluate(epoch, val_loader)\n",
        "    print(f'Epoch {epoch:03d}: train={avg_train_loss:<8.3f} (BCE={avg_train_loss_bce:<8.3f}, KLD={avg_train_loss_kld:<8.3f}), val: {val_loss:<8.3f}')\n",
        "\n",
        "    train_losses.append(avg_train_loss)\n",
        "    train_losses_bce.append(avg_train_loss_bce)\n",
        "    train_losses_kld.append(avg_train_loss_kld)\n",
        "    val_losses.append(val_loss)\n",
        "\n",
        "    if epoch%300==0:\n",
        "        torch.save(model.state_dict(), f'./models/epoch_{epoch}.model')"
      ]
    },
    {
      "cell_type": "markdown",
      "metadata": {
        "id": "FvVgV4VG_Bce"
      },
      "source": [
        "### Treinamento"
      ]
    },
    {
      "cell_type": "code",
      "execution_count": 52,
      "metadata": {
        "id": "r4geSKYYQcLJ"
      },
      "outputs": [
        {
          "data": {
            "application/vnd.jupyter.widget-view+json": {
              "model_id": "a8aeeb3f949242ebbe0534b52227bc40",
              "version_major": 2,
              "version_minor": 0
            },
            "text/plain": [
              "Epoch 001:   0%|          | 0/88 [00:00<?, ?it/s]"
            ]
          },
          "metadata": {},
          "output_type": "display_data"
        },
        {
          "name": "stdout",
          "output_type": "stream",
          "text": [
            "Epoch 001: train=350.958  (BCE=311.058 , KLD=39.900  ), val: 346.768 \n"
          ]
        },
        {
          "data": {
            "application/vnd.jupyter.widget-view+json": {
              "model_id": "495474a36ed94ef5b2608a176a4436fe",
              "version_major": 2,
              "version_minor": 0
            },
            "text/plain": [
              "Epoch 002:   0%|          | 0/88 [00:00<?, ?it/s]"
            ]
          },
          "metadata": {},
          "output_type": "display_data"
        },
        {
          "name": "stdout",
          "output_type": "stream",
          "text": [
            "Epoch 002: train=339.191  (BCE=298.351 , KLD=40.840  ), val: 341.027 \n"
          ]
        },
        {
          "data": {
            "application/vnd.jupyter.widget-view+json": {
              "model_id": "fca8c302dbba43159732012072ae737b",
              "version_major": 2,
              "version_minor": 0
            },
            "text/plain": [
              "Epoch 003:   0%|          | 0/88 [00:00<?, ?it/s]"
            ]
          },
          "metadata": {},
          "output_type": "display_data"
        },
        {
          "name": "stdout",
          "output_type": "stream",
          "text": [
            "Epoch 003: train=328.348  (BCE=287.096 , KLD=41.252  ), val: 331.026 \n"
          ]
        },
        {
          "data": {
            "application/vnd.jupyter.widget-view+json": {
              "model_id": "8c888d0001944bec94bd8f9585bce6e6",
              "version_major": 2,
              "version_minor": 0
            },
            "text/plain": [
              "Epoch 004:   0%|          | 0/88 [00:00<?, ?it/s]"
            ]
          },
          "metadata": {},
          "output_type": "display_data"
        },
        {
          "name": "stdout",
          "output_type": "stream",
          "text": [
            "Epoch 004: train=319.278  (BCE=276.950 , KLD=42.328  ), val: 323.212 \n"
          ]
        },
        {
          "data": {
            "application/vnd.jupyter.widget-view+json": {
              "model_id": "8ed925a3f3d447038d8f4c3993a667de",
              "version_major": 2,
              "version_minor": 0
            },
            "text/plain": [
              "Epoch 005:   0%|          | 0/88 [00:00<?, ?it/s]"
            ]
          },
          "metadata": {},
          "output_type": "display_data"
        },
        {
          "name": "stdout",
          "output_type": "stream",
          "text": [
            "Epoch 005: train=312.349  (BCE=269.843 , KLD=42.505  ), val: 318.170 \n"
          ]
        },
        {
          "data": {
            "application/vnd.jupyter.widget-view+json": {
              "model_id": "0e09afe07e8c49fb8e5b65e93fe6bf53",
              "version_major": 2,
              "version_minor": 0
            },
            "text/plain": [
              "Epoch 006:   0%|          | 0/88 [00:00<?, ?it/s]"
            ]
          },
          "metadata": {},
          "output_type": "display_data"
        },
        {
          "name": "stdout",
          "output_type": "stream",
          "text": [
            "Epoch 006: train=305.633  (BCE=262.969 , KLD=42.664  ), val: 311.617 \n"
          ]
        },
        {
          "data": {
            "application/vnd.jupyter.widget-view+json": {
              "model_id": "13b52897e42e4f3994940ab25c8040ed",
              "version_major": 2,
              "version_minor": 0
            },
            "text/plain": [
              "Epoch 007:   0%|          | 0/88 [00:00<?, ?it/s]"
            ]
          },
          "metadata": {},
          "output_type": "display_data"
        },
        {
          "name": "stdout",
          "output_type": "stream",
          "text": [
            "Epoch 007: train=299.534  (BCE=256.404 , KLD=43.130  ), val: 307.507 \n"
          ]
        },
        {
          "data": {
            "application/vnd.jupyter.widget-view+json": {
              "model_id": "1335ab6969884208b36b13ba93630414",
              "version_major": 2,
              "version_minor": 0
            },
            "text/plain": [
              "Epoch 008:   0%|          | 0/88 [00:00<?, ?it/s]"
            ]
          },
          "metadata": {},
          "output_type": "display_data"
        },
        {
          "name": "stdout",
          "output_type": "stream",
          "text": [
            "Epoch 008: train=295.621  (BCE=252.279 , KLD=43.342  ), val: 304.068 \n"
          ]
        },
        {
          "data": {
            "application/vnd.jupyter.widget-view+json": {
              "model_id": "0fd01168b65f49e7a57551bb2d7df9b9",
              "version_major": 2,
              "version_minor": 0
            },
            "text/plain": [
              "Epoch 009:   0%|          | 0/88 [00:00<?, ?it/s]"
            ]
          },
          "metadata": {},
          "output_type": "display_data"
        },
        {
          "name": "stdout",
          "output_type": "stream",
          "text": [
            "Epoch 009: train=292.443  (BCE=249.002 , KLD=43.442  ), val: 300.570 \n"
          ]
        },
        {
          "data": {
            "application/vnd.jupyter.widget-view+json": {
              "model_id": "0d3101b7c2a64edc91b6b57f1b8fbb1a",
              "version_major": 2,
              "version_minor": 0
            },
            "text/plain": [
              "Epoch 010:   0%|          | 0/88 [00:00<?, ?it/s]"
            ]
          },
          "metadata": {},
          "output_type": "display_data"
        },
        {
          "name": "stdout",
          "output_type": "stream",
          "text": [
            "Epoch 010: train=287.699  (BCE=244.178 , KLD=43.521  ), val: 298.865 \n"
          ]
        },
        {
          "data": {
            "application/vnd.jupyter.widget-view+json": {
              "model_id": "d013457b6ff54beeb2d02043e42c2a48",
              "version_major": 2,
              "version_minor": 0
            },
            "text/plain": [
              "Epoch 011:   0%|          | 0/88 [00:00<?, ?it/s]"
            ]
          },
          "metadata": {},
          "output_type": "display_data"
        },
        {
          "name": "stdout",
          "output_type": "stream",
          "text": [
            "Epoch 011: train=285.642  (BCE=242.096 , KLD=43.545  ), val: 296.515 \n"
          ]
        },
        {
          "data": {
            "application/vnd.jupyter.widget-view+json": {
              "model_id": "fc03046ac94c490f83c14b85be83d399",
              "version_major": 2,
              "version_minor": 0
            },
            "text/plain": [
              "Epoch 012:   0%|          | 0/88 [00:00<?, ?it/s]"
            ]
          },
          "metadata": {},
          "output_type": "display_data"
        },
        {
          "name": "stdout",
          "output_type": "stream",
          "text": [
            "Epoch 012: train=284.237  (BCE=240.484 , KLD=43.752  ), val: 301.859 \n"
          ]
        },
        {
          "data": {
            "application/vnd.jupyter.widget-view+json": {
              "model_id": "f937101bea3240099fa3d8e0189cda91",
              "version_major": 2,
              "version_minor": 0
            },
            "text/plain": [
              "Epoch 013:   0%|          | 0/88 [00:00<?, ?it/s]"
            ]
          },
          "metadata": {},
          "output_type": "display_data"
        },
        {
          "name": "stdout",
          "output_type": "stream",
          "text": [
            "Epoch 013: train=279.987  (BCE=236.107 , KLD=43.881  ), val: 295.220 \n"
          ]
        },
        {
          "data": {
            "application/vnd.jupyter.widget-view+json": {
              "model_id": "7108ffee08154bce87dfe302e543586d",
              "version_major": 2,
              "version_minor": 0
            },
            "text/plain": [
              "Epoch 014:   0%|          | 0/88 [00:00<?, ?it/s]"
            ]
          },
          "metadata": {},
          "output_type": "display_data"
        },
        {
          "name": "stdout",
          "output_type": "stream",
          "text": [
            "Epoch 014: train=275.684  (BCE=231.800 , KLD=43.884  ), val: 292.519 \n"
          ]
        },
        {
          "data": {
            "application/vnd.jupyter.widget-view+json": {
              "model_id": "e987cfc79bbf40aa84cac5908a152cf8",
              "version_major": 2,
              "version_minor": 0
            },
            "text/plain": [
              "Epoch 015:   0%|          | 0/88 [00:00<?, ?it/s]"
            ]
          },
          "metadata": {},
          "output_type": "display_data"
        },
        {
          "name": "stdout",
          "output_type": "stream",
          "text": [
            "Epoch 015: train=274.368  (BCE=230.276 , KLD=44.091  ), val: 288.482 \n"
          ]
        },
        {
          "data": {
            "application/vnd.jupyter.widget-view+json": {
              "model_id": "c7b048bc2dc24940aadbcc192bd30646",
              "version_major": 2,
              "version_minor": 0
            },
            "text/plain": [
              "Epoch 016:   0%|          | 0/88 [00:00<?, ?it/s]"
            ]
          },
          "metadata": {},
          "output_type": "display_data"
        },
        {
          "name": "stdout",
          "output_type": "stream",
          "text": [
            "Epoch 016: train=271.833  (BCE=227.808 , KLD=44.025  ), val: 287.567 \n"
          ]
        },
        {
          "data": {
            "application/vnd.jupyter.widget-view+json": {
              "model_id": "904bcdc8747d45eb88a18cb2010289c8",
              "version_major": 2,
              "version_minor": 0
            },
            "text/plain": [
              "Epoch 017:   0%|          | 0/88 [00:00<?, ?it/s]"
            ]
          },
          "metadata": {},
          "output_type": "display_data"
        },
        {
          "name": "stdout",
          "output_type": "stream",
          "text": [
            "Epoch 017: train=270.111  (BCE=226.191 , KLD=43.920  ), val: 286.615 \n"
          ]
        },
        {
          "data": {
            "application/vnd.jupyter.widget-view+json": {
              "model_id": "1455777920774842b00c859eb984c8c2",
              "version_major": 2,
              "version_minor": 0
            },
            "text/plain": [
              "Epoch 018:   0%|          | 0/88 [00:00<?, ?it/s]"
            ]
          },
          "metadata": {},
          "output_type": "display_data"
        },
        {
          "name": "stdout",
          "output_type": "stream",
          "text": [
            "Epoch 018: train=268.099  (BCE=224.153 , KLD=43.946  ), val: 289.227 \n"
          ]
        },
        {
          "data": {
            "application/vnd.jupyter.widget-view+json": {
              "model_id": "8fb7740f3a7f4d74a6775a41800fb28e",
              "version_major": 2,
              "version_minor": 0
            },
            "text/plain": [
              "Epoch 019:   0%|          | 0/88 [00:00<?, ?it/s]"
            ]
          },
          "metadata": {},
          "output_type": "display_data"
        },
        {
          "name": "stdout",
          "output_type": "stream",
          "text": [
            "Epoch 019: train=266.535  (BCE=222.235 , KLD=44.300  ), val: 283.198 \n"
          ]
        },
        {
          "data": {
            "application/vnd.jupyter.widget-view+json": {
              "model_id": "184ec2b7c98541189eabd4866d3747c9",
              "version_major": 2,
              "version_minor": 0
            },
            "text/plain": [
              "Epoch 020:   0%|          | 0/88 [00:00<?, ?it/s]"
            ]
          },
          "metadata": {},
          "output_type": "display_data"
        },
        {
          "name": "stdout",
          "output_type": "stream",
          "text": [
            "Epoch 020: train=265.857  (BCE=221.813 , KLD=44.043  ), val: 283.051 \n"
          ]
        },
        {
          "data": {
            "application/vnd.jupyter.widget-view+json": {
              "model_id": "b032b967f2be40faa72870733b246b70",
              "version_major": 2,
              "version_minor": 0
            },
            "text/plain": [
              "Epoch 021:   0%|          | 0/88 [00:00<?, ?it/s]"
            ]
          },
          "metadata": {},
          "output_type": "display_data"
        },
        {
          "name": "stdout",
          "output_type": "stream",
          "text": [
            "Epoch 021: train=262.307  (BCE=218.005 , KLD=44.303  ), val: 279.284 \n"
          ]
        },
        {
          "data": {
            "application/vnd.jupyter.widget-view+json": {
              "model_id": "15949e4eb31143dab180f051eca0f931",
              "version_major": 2,
              "version_minor": 0
            },
            "text/plain": [
              "Epoch 022:   0%|          | 0/88 [00:00<?, ?it/s]"
            ]
          },
          "metadata": {},
          "output_type": "display_data"
        },
        {
          "name": "stdout",
          "output_type": "stream",
          "text": [
            "Epoch 022: train=260.933  (BCE=216.748 , KLD=44.185  ), val: 281.090 \n"
          ]
        },
        {
          "data": {
            "application/vnd.jupyter.widget-view+json": {
              "model_id": "ad2e9bb5d3014df79ad48df54c89e1a5",
              "version_major": 2,
              "version_minor": 0
            },
            "text/plain": [
              "Epoch 023:   0%|          | 0/88 [00:00<?, ?it/s]"
            ]
          },
          "metadata": {},
          "output_type": "display_data"
        },
        {
          "name": "stdout",
          "output_type": "stream",
          "text": [
            "Epoch 023: train=260.359  (BCE=216.229 , KLD=44.131  ), val: 276.623 \n"
          ]
        },
        {
          "data": {
            "application/vnd.jupyter.widget-view+json": {
              "model_id": "bd2c1814073b4371a9140939954a9b8d",
              "version_major": 2,
              "version_minor": 0
            },
            "text/plain": [
              "Epoch 024:   0%|          | 0/88 [00:00<?, ?it/s]"
            ]
          },
          "metadata": {},
          "output_type": "display_data"
        },
        {
          "name": "stdout",
          "output_type": "stream",
          "text": [
            "Epoch 024: train=258.197  (BCE=213.932 , KLD=44.265  ), val: 276.654 \n"
          ]
        },
        {
          "data": {
            "application/vnd.jupyter.widget-view+json": {
              "model_id": "4af81c1f6d1a402083fce4a5350e9240",
              "version_major": 2,
              "version_minor": 0
            },
            "text/plain": [
              "Epoch 025:   0%|          | 0/88 [00:00<?, ?it/s]"
            ]
          },
          "metadata": {},
          "output_type": "display_data"
        },
        {
          "name": "stdout",
          "output_type": "stream",
          "text": [
            "Epoch 025: train=257.005  (BCE=212.671 , KLD=44.334  ), val: 277.299 \n"
          ]
        },
        {
          "data": {
            "application/vnd.jupyter.widget-view+json": {
              "model_id": "960976cdb6564872a713f03cb13cc507",
              "version_major": 2,
              "version_minor": 0
            },
            "text/plain": [
              "Epoch 026:   0%|          | 0/88 [00:00<?, ?it/s]"
            ]
          },
          "metadata": {},
          "output_type": "display_data"
        },
        {
          "name": "stdout",
          "output_type": "stream",
          "text": [
            "Epoch 026: train=256.456  (BCE=212.020 , KLD=44.436  ), val: 276.145 \n"
          ]
        },
        {
          "data": {
            "application/vnd.jupyter.widget-view+json": {
              "model_id": "590935987abe4b19bba040d2febf4d45",
              "version_major": 2,
              "version_minor": 0
            },
            "text/plain": [
              "Epoch 027:   0%|          | 0/88 [00:00<?, ?it/s]"
            ]
          },
          "metadata": {},
          "output_type": "display_data"
        },
        {
          "name": "stdout",
          "output_type": "stream",
          "text": [
            "Epoch 027: train=255.305  (BCE=210.862 , KLD=44.443  ), val: 277.605 \n"
          ]
        },
        {
          "data": {
            "application/vnd.jupyter.widget-view+json": {
              "model_id": "a8e26ad54fd44fcbb8e2fb4540187acb",
              "version_major": 2,
              "version_minor": 0
            },
            "text/plain": [
              "Epoch 028:   0%|          | 0/88 [00:00<?, ?it/s]"
            ]
          },
          "metadata": {},
          "output_type": "display_data"
        },
        {
          "name": "stdout",
          "output_type": "stream",
          "text": [
            "Epoch 028: train=253.695  (BCE=209.252 , KLD=44.443  ), val: 274.906 \n"
          ]
        },
        {
          "data": {
            "application/vnd.jupyter.widget-view+json": {
              "model_id": "565480f74e2c41b8b635d3ab177a8758",
              "version_major": 2,
              "version_minor": 0
            },
            "text/plain": [
              "Epoch 029:   0%|          | 0/88 [00:00<?, ?it/s]"
            ]
          },
          "metadata": {},
          "output_type": "display_data"
        },
        {
          "name": "stdout",
          "output_type": "stream",
          "text": [
            "Epoch 029: train=252.281  (BCE=207.799 , KLD=44.481  ), val: 274.544 \n"
          ]
        },
        {
          "data": {
            "application/vnd.jupyter.widget-view+json": {
              "model_id": "0503372ba42e411cab8a52a93c06ffa3",
              "version_major": 2,
              "version_minor": 0
            },
            "text/plain": [
              "Epoch 030:   0%|          | 0/88 [00:00<?, ?it/s]"
            ]
          },
          "metadata": {},
          "output_type": "display_data"
        },
        {
          "name": "stdout",
          "output_type": "stream",
          "text": [
            "Epoch 030: train=251.877  (BCE=207.258 , KLD=44.619  ), val: 275.428 \n"
          ]
        },
        {
          "data": {
            "application/vnd.jupyter.widget-view+json": {
              "model_id": "17d5fc5f11da44818e533e4c592bba0b",
              "version_major": 2,
              "version_minor": 0
            },
            "text/plain": [
              "Epoch 031:   0%|          | 0/88 [00:00<?, ?it/s]"
            ]
          },
          "metadata": {},
          "output_type": "display_data"
        },
        {
          "name": "stdout",
          "output_type": "stream",
          "text": [
            "Epoch 031: train=251.631  (BCE=206.996 , KLD=44.635  ), val: 273.314 \n"
          ]
        },
        {
          "data": {
            "application/vnd.jupyter.widget-view+json": {
              "model_id": "30b2c678185047c996edac700377c664",
              "version_major": 2,
              "version_minor": 0
            },
            "text/plain": [
              "Epoch 032:   0%|          | 0/88 [00:00<?, ?it/s]"
            ]
          },
          "metadata": {},
          "output_type": "display_data"
        },
        {
          "name": "stdout",
          "output_type": "stream",
          "text": [
            "Epoch 032: train=250.023  (BCE=205.325 , KLD=44.698  ), val: 272.618 \n"
          ]
        },
        {
          "data": {
            "application/vnd.jupyter.widget-view+json": {
              "model_id": "463ac5d3a9064868bb37c8dbc2c0f37c",
              "version_major": 2,
              "version_minor": 0
            },
            "text/plain": [
              "Epoch 033:   0%|          | 0/88 [00:00<?, ?it/s]"
            ]
          },
          "metadata": {},
          "output_type": "display_data"
        },
        {
          "name": "stdout",
          "output_type": "stream",
          "text": [
            "Epoch 033: train=248.732  (BCE=204.022 , KLD=44.710  ), val: 269.367 \n"
          ]
        },
        {
          "data": {
            "application/vnd.jupyter.widget-view+json": {
              "model_id": "2bee154a34e84ca2917cc81ed279dc6b",
              "version_major": 2,
              "version_minor": 0
            },
            "text/plain": [
              "Epoch 034:   0%|          | 0/88 [00:00<?, ?it/s]"
            ]
          },
          "metadata": {},
          "output_type": "display_data"
        },
        {
          "name": "stdout",
          "output_type": "stream",
          "text": [
            "Epoch 034: train=247.902  (BCE=203.246 , KLD=44.655  ), val: 268.829 \n"
          ]
        },
        {
          "data": {
            "application/vnd.jupyter.widget-view+json": {
              "model_id": "e3c5a23aa3aa4c7781990e454397e2e3",
              "version_major": 2,
              "version_minor": 0
            },
            "text/plain": [
              "Epoch 035:   0%|          | 0/88 [00:00<?, ?it/s]"
            ]
          },
          "metadata": {},
          "output_type": "display_data"
        },
        {
          "name": "stdout",
          "output_type": "stream",
          "text": [
            "Epoch 035: train=246.227  (BCE=201.530 , KLD=44.697  ), val: 269.949 \n"
          ]
        },
        {
          "data": {
            "application/vnd.jupyter.widget-view+json": {
              "model_id": "93968d6b46094d578c9536c3f45d1ff9",
              "version_major": 2,
              "version_minor": 0
            },
            "text/plain": [
              "Epoch 036:   0%|          | 0/88 [00:00<?, ?it/s]"
            ]
          },
          "metadata": {},
          "output_type": "display_data"
        },
        {
          "name": "stdout",
          "output_type": "stream",
          "text": [
            "Epoch 036: train=246.139  (BCE=201.312 , KLD=44.827  ), val: 269.249 \n"
          ]
        },
        {
          "data": {
            "application/vnd.jupyter.widget-view+json": {
              "model_id": "df5b71593b4943fdbc05dccd88e97004",
              "version_major": 2,
              "version_minor": 0
            },
            "text/plain": [
              "Epoch 037:   0%|          | 0/88 [00:00<?, ?it/s]"
            ]
          },
          "metadata": {},
          "output_type": "display_data"
        },
        {
          "name": "stdout",
          "output_type": "stream",
          "text": [
            "Epoch 037: train=246.505  (BCE=201.819 , KLD=44.687  ), val: 269.849 \n"
          ]
        },
        {
          "data": {
            "application/vnd.jupyter.widget-view+json": {
              "model_id": "90fc6b683eb343ff9b5d7d87395f2f2a",
              "version_major": 2,
              "version_minor": 0
            },
            "text/plain": [
              "Epoch 038:   0%|          | 0/88 [00:00<?, ?it/s]"
            ]
          },
          "metadata": {},
          "output_type": "display_data"
        },
        {
          "name": "stdout",
          "output_type": "stream",
          "text": [
            "Epoch 038: train=244.317  (BCE=199.429 , KLD=44.888  ), val: 269.143 \n"
          ]
        },
        {
          "data": {
            "application/vnd.jupyter.widget-view+json": {
              "model_id": "2b3c9a2668b045c6b1528da6ce6b7b5a",
              "version_major": 2,
              "version_minor": 0
            },
            "text/plain": [
              "Epoch 039:   0%|          | 0/88 [00:00<?, ?it/s]"
            ]
          },
          "metadata": {},
          "output_type": "display_data"
        },
        {
          "name": "stdout",
          "output_type": "stream",
          "text": [
            "Epoch 039: train=244.000  (BCE=199.171 , KLD=44.829  ), val: 267.223 \n"
          ]
        },
        {
          "data": {
            "application/vnd.jupyter.widget-view+json": {
              "model_id": "5da1d732035843e6acc16d3c628c3a6a",
              "version_major": 2,
              "version_minor": 0
            },
            "text/plain": [
              "Epoch 040:   0%|          | 0/88 [00:00<?, ?it/s]"
            ]
          },
          "metadata": {},
          "output_type": "display_data"
        },
        {
          "name": "stdout",
          "output_type": "stream",
          "text": [
            "Epoch 040: train=243.065  (BCE=198.192 , KLD=44.873  ), val: 269.407 \n"
          ]
        },
        {
          "data": {
            "application/vnd.jupyter.widget-view+json": {
              "model_id": "ea9cb3eefb2e4c4f88e7d2bb2aa92c15",
              "version_major": 2,
              "version_minor": 0
            },
            "text/plain": [
              "Epoch 041:   0%|          | 0/88 [00:00<?, ?it/s]"
            ]
          },
          "metadata": {},
          "output_type": "display_data"
        },
        {
          "name": "stdout",
          "output_type": "stream",
          "text": [
            "Epoch 041: train=242.803  (BCE=197.757 , KLD=45.046  ), val: 268.654 \n"
          ]
        },
        {
          "data": {
            "application/vnd.jupyter.widget-view+json": {
              "model_id": "2ed97c928d9e49f581cdff56bc70a342",
              "version_major": 2,
              "version_minor": 0
            },
            "text/plain": [
              "Epoch 042:   0%|          | 0/88 [00:00<?, ?it/s]"
            ]
          },
          "metadata": {},
          "output_type": "display_data"
        },
        {
          "name": "stdout",
          "output_type": "stream",
          "text": [
            "Epoch 042: train=242.091  (BCE=197.118 , KLD=44.973  ), val: 266.744 \n"
          ]
        },
        {
          "data": {
            "application/vnd.jupyter.widget-view+json": {
              "model_id": "fbc7c533a0a44c169b5631d2629202b0",
              "version_major": 2,
              "version_minor": 0
            },
            "text/plain": [
              "Epoch 043:   0%|          | 0/88 [00:00<?, ?it/s]"
            ]
          },
          "metadata": {},
          "output_type": "display_data"
        },
        {
          "name": "stdout",
          "output_type": "stream",
          "text": [
            "Epoch 043: train=241.666  (BCE=196.608 , KLD=45.057  ), val: 268.245 \n"
          ]
        },
        {
          "data": {
            "application/vnd.jupyter.widget-view+json": {
              "model_id": "22019992740047d8819aa3ae28fe49b9",
              "version_major": 2,
              "version_minor": 0
            },
            "text/plain": [
              "Epoch 044:   0%|          | 0/88 [00:00<?, ?it/s]"
            ]
          },
          "metadata": {},
          "output_type": "display_data"
        },
        {
          "name": "stdout",
          "output_type": "stream",
          "text": [
            "Epoch 044: train=241.535  (BCE=196.332 , KLD=45.203  ), val: 269.154 \n"
          ]
        },
        {
          "data": {
            "application/vnd.jupyter.widget-view+json": {
              "model_id": "a697847db08747b18ae94f3e9e896c6a",
              "version_major": 2,
              "version_minor": 0
            },
            "text/plain": [
              "Epoch 045:   0%|          | 0/88 [00:00<?, ?it/s]"
            ]
          },
          "metadata": {},
          "output_type": "display_data"
        },
        {
          "name": "stdout",
          "output_type": "stream",
          "text": [
            "Epoch 045: train=242.375  (BCE=197.139 , KLD=45.236  ), val: 267.236 \n"
          ]
        },
        {
          "data": {
            "application/vnd.jupyter.widget-view+json": {
              "model_id": "17f7e68eaef043f3b45ebcc5d6294537",
              "version_major": 2,
              "version_minor": 0
            },
            "text/plain": [
              "Epoch 046:   0%|          | 0/88 [00:00<?, ?it/s]"
            ]
          },
          "metadata": {},
          "output_type": "display_data"
        },
        {
          "name": "stdout",
          "output_type": "stream",
          "text": [
            "Epoch 046: train=239.557  (BCE=194.533 , KLD=45.024  ), val: 266.203 \n"
          ]
        },
        {
          "data": {
            "application/vnd.jupyter.widget-view+json": {
              "model_id": "b75e8509f4784d0eb73cdaf56c811f49",
              "version_major": 2,
              "version_minor": 0
            },
            "text/plain": [
              "Epoch 047:   0%|          | 0/88 [00:00<?, ?it/s]"
            ]
          },
          "metadata": {},
          "output_type": "display_data"
        },
        {
          "name": "stdout",
          "output_type": "stream",
          "text": [
            "Epoch 047: train=238.623  (BCE=193.534 , KLD=45.089  ), val: 267.941 \n"
          ]
        },
        {
          "data": {
            "application/vnd.jupyter.widget-view+json": {
              "model_id": "4e4c0d336ca94c8f8693acded1064177",
              "version_major": 2,
              "version_minor": 0
            },
            "text/plain": [
              "Epoch 048:   0%|          | 0/88 [00:00<?, ?it/s]"
            ]
          },
          "metadata": {},
          "output_type": "display_data"
        },
        {
          "name": "stdout",
          "output_type": "stream",
          "text": [
            "Epoch 048: train=239.171  (BCE=194.089 , KLD=45.082  ), val: 267.222 \n"
          ]
        },
        {
          "data": {
            "application/vnd.jupyter.widget-view+json": {
              "model_id": "e16e88af1d6a480291b5f82c47ea1f83",
              "version_major": 2,
              "version_minor": 0
            },
            "text/plain": [
              "Epoch 049:   0%|          | 0/88 [00:00<?, ?it/s]"
            ]
          },
          "metadata": {},
          "output_type": "display_data"
        },
        {
          "name": "stdout",
          "output_type": "stream",
          "text": [
            "Epoch 049: train=239.898  (BCE=194.593 , KLD=45.305  ), val: 266.659 \n"
          ]
        },
        {
          "data": {
            "application/vnd.jupyter.widget-view+json": {
              "model_id": "7b7f6350f1804a888897b3ef7ff12d4e",
              "version_major": 2,
              "version_minor": 0
            },
            "text/plain": [
              "Epoch 050:   0%|          | 0/88 [00:00<?, ?it/s]"
            ]
          },
          "metadata": {},
          "output_type": "display_data"
        },
        {
          "name": "stdout",
          "output_type": "stream",
          "text": [
            "Epoch 050: train=237.468  (BCE=192.366 , KLD=45.102  ), val: 267.087 \n"
          ]
        },
        {
          "data": {
            "application/vnd.jupyter.widget-view+json": {
              "model_id": "00cac59c3006436d96e25f45d902224b",
              "version_major": 2,
              "version_minor": 0
            },
            "text/plain": [
              "Epoch 051:   0%|          | 0/88 [00:00<?, ?it/s]"
            ]
          },
          "metadata": {},
          "output_type": "display_data"
        },
        {
          "name": "stdout",
          "output_type": "stream",
          "text": [
            "Epoch 051: train=237.495  (BCE=192.297 , KLD=45.198  ), val: 266.658 \n"
          ]
        },
        {
          "data": {
            "application/vnd.jupyter.widget-view+json": {
              "model_id": "ff25024fbc914504a626583dfbb60c35",
              "version_major": 2,
              "version_minor": 0
            },
            "text/plain": [
              "Epoch 052:   0%|          | 0/88 [00:00<?, ?it/s]"
            ]
          },
          "metadata": {},
          "output_type": "display_data"
        },
        {
          "name": "stdout",
          "output_type": "stream",
          "text": [
            "Epoch 052: train=236.764  (BCE=191.464 , KLD=45.300  ), val: 265.449 \n"
          ]
        },
        {
          "data": {
            "application/vnd.jupyter.widget-view+json": {
              "model_id": "ae3dfb3038524a13b14c4ab73764d3d8",
              "version_major": 2,
              "version_minor": 0
            },
            "text/plain": [
              "Epoch 053:   0%|          | 0/88 [00:00<?, ?it/s]"
            ]
          },
          "metadata": {},
          "output_type": "display_data"
        },
        {
          "name": "stdout",
          "output_type": "stream",
          "text": [
            "Epoch 053: train=237.347  (BCE=192.018 , KLD=45.328  ), val: 264.322 \n"
          ]
        },
        {
          "data": {
            "application/vnd.jupyter.widget-view+json": {
              "model_id": "1212a6905c5040928642debfa6bd3265",
              "version_major": 2,
              "version_minor": 0
            },
            "text/plain": [
              "Epoch 054:   0%|          | 0/88 [00:00<?, ?it/s]"
            ]
          },
          "metadata": {},
          "output_type": "display_data"
        },
        {
          "name": "stdout",
          "output_type": "stream",
          "text": [
            "Epoch 054: train=235.735  (BCE=190.659 , KLD=45.076  ), val: 267.011 \n"
          ]
        },
        {
          "data": {
            "application/vnd.jupyter.widget-view+json": {
              "model_id": "7cdb7e301cba44519ad638c5ceb80ab6",
              "version_major": 2,
              "version_minor": 0
            },
            "text/plain": [
              "Epoch 055:   0%|          | 0/88 [00:00<?, ?it/s]"
            ]
          },
          "metadata": {},
          "output_type": "display_data"
        },
        {
          "name": "stdout",
          "output_type": "stream",
          "text": [
            "Epoch 055: train=235.528  (BCE=190.122 , KLD=45.406  ), val: 268.256 \n"
          ]
        },
        {
          "data": {
            "application/vnd.jupyter.widget-view+json": {
              "model_id": "5440a83ef40c45f482840e1883ece532",
              "version_major": 2,
              "version_minor": 0
            },
            "text/plain": [
              "Epoch 056:   0%|          | 0/88 [00:00<?, ?it/s]"
            ]
          },
          "metadata": {},
          "output_type": "display_data"
        },
        {
          "name": "stdout",
          "output_type": "stream",
          "text": [
            "Epoch 056: train=235.738  (BCE=190.422 , KLD=45.316  ), val: 268.134 \n"
          ]
        },
        {
          "data": {
            "application/vnd.jupyter.widget-view+json": {
              "model_id": "0e38601d953748a1897e49344312b6aa",
              "version_major": 2,
              "version_minor": 0
            },
            "text/plain": [
              "Epoch 057:   0%|          | 0/88 [00:00<?, ?it/s]"
            ]
          },
          "metadata": {},
          "output_type": "display_data"
        },
        {
          "name": "stdout",
          "output_type": "stream",
          "text": [
            "Epoch 057: train=234.666  (BCE=189.266 , KLD=45.400  ), val: 264.712 \n"
          ]
        },
        {
          "data": {
            "application/vnd.jupyter.widget-view+json": {
              "model_id": "2cbd4895a8114519a9aa4cc9f4f2d911",
              "version_major": 2,
              "version_minor": 0
            },
            "text/plain": [
              "Epoch 058:   0%|          | 0/88 [00:00<?, ?it/s]"
            ]
          },
          "metadata": {},
          "output_type": "display_data"
        },
        {
          "name": "stdout",
          "output_type": "stream",
          "text": [
            "Epoch 058: train=234.392  (BCE=189.210 , KLD=45.181  ), val: 264.490 \n"
          ]
        },
        {
          "data": {
            "application/vnd.jupyter.widget-view+json": {
              "model_id": "8d1fd69b8b8a49f3b9983d7106b9f559",
              "version_major": 2,
              "version_minor": 0
            },
            "text/plain": [
              "Epoch 059:   0%|          | 0/88 [00:00<?, ?it/s]"
            ]
          },
          "metadata": {},
          "output_type": "display_data"
        },
        {
          "name": "stdout",
          "output_type": "stream",
          "text": [
            "Epoch 059: train=234.219  (BCE=188.958 , KLD=45.261  ), val: 265.907 \n"
          ]
        },
        {
          "data": {
            "application/vnd.jupyter.widget-view+json": {
              "model_id": "1590d0da99e94ce9a0412e26a8d3f45a",
              "version_major": 2,
              "version_minor": 0
            },
            "text/plain": [
              "Epoch 060:   0%|          | 0/88 [00:00<?, ?it/s]"
            ]
          },
          "metadata": {},
          "output_type": "display_data"
        },
        {
          "name": "stdout",
          "output_type": "stream",
          "text": [
            "Epoch 060: train=234.373  (BCE=189.045 , KLD=45.329  ), val: 265.509 \n"
          ]
        },
        {
          "data": {
            "application/vnd.jupyter.widget-view+json": {
              "model_id": "7ae3129afe0446458d83630cf2c7e582",
              "version_major": 2,
              "version_minor": 0
            },
            "text/plain": [
              "Epoch 061:   0%|          | 0/88 [00:00<?, ?it/s]"
            ]
          },
          "metadata": {},
          "output_type": "display_data"
        },
        {
          "name": "stdout",
          "output_type": "stream",
          "text": [
            "Epoch 061: train=233.406  (BCE=187.929 , KLD=45.477  ), val: 265.491 \n"
          ]
        },
        {
          "data": {
            "application/vnd.jupyter.widget-view+json": {
              "model_id": "326ac972de4c4f26bbcbc3df1fa92a83",
              "version_major": 2,
              "version_minor": 0
            },
            "text/plain": [
              "Epoch 062:   0%|          | 0/88 [00:00<?, ?it/s]"
            ]
          },
          "metadata": {},
          "output_type": "display_data"
        },
        {
          "name": "stdout",
          "output_type": "stream",
          "text": [
            "Epoch 062: train=234.235  (BCE=188.913 , KLD=45.321  ), val: 270.491 \n"
          ]
        },
        {
          "data": {
            "application/vnd.jupyter.widget-view+json": {
              "model_id": "fdd47c5924324187ba8b7eca929764a4",
              "version_major": 2,
              "version_minor": 0
            },
            "text/plain": [
              "Epoch 063:   0%|          | 0/88 [00:00<?, ?it/s]"
            ]
          },
          "metadata": {},
          "output_type": "display_data"
        },
        {
          "name": "stdout",
          "output_type": "stream",
          "text": [
            "Epoch 063: train=233.018  (BCE=187.379 , KLD=45.639  ), val: 267.618 \n"
          ]
        },
        {
          "data": {
            "application/vnd.jupyter.widget-view+json": {
              "model_id": "4522bb17070e47b18fb17c6e6844ac98",
              "version_major": 2,
              "version_minor": 0
            },
            "text/plain": [
              "Epoch 064:   0%|          | 0/88 [00:00<?, ?it/s]"
            ]
          },
          "metadata": {},
          "output_type": "display_data"
        },
        {
          "name": "stdout",
          "output_type": "stream",
          "text": [
            "Epoch 064: train=233.119  (BCE=187.527 , KLD=45.591  ), val: 266.386 \n"
          ]
        },
        {
          "data": {
            "application/vnd.jupyter.widget-view+json": {
              "model_id": "4c1c3c6617e54b50831eb12e1474ff7a",
              "version_major": 2,
              "version_minor": 0
            },
            "text/plain": [
              "Epoch 065:   0%|          | 0/88 [00:00<?, ?it/s]"
            ]
          },
          "metadata": {},
          "output_type": "display_data"
        },
        {
          "name": "stdout",
          "output_type": "stream",
          "text": [
            "Epoch 065: train=232.623  (BCE=187.046 , KLD=45.577  ), val: 265.803 \n"
          ]
        },
        {
          "data": {
            "application/vnd.jupyter.widget-view+json": {
              "model_id": "c831a6babe1e4bedb2a3ccbcd5c50371",
              "version_major": 2,
              "version_minor": 0
            },
            "text/plain": [
              "Epoch 066:   0%|          | 0/88 [00:00<?, ?it/s]"
            ]
          },
          "metadata": {},
          "output_type": "display_data"
        },
        {
          "name": "stdout",
          "output_type": "stream",
          "text": [
            "Epoch 066: train=231.077  (BCE=185.635 , KLD=45.442  ), val: 265.879 \n"
          ]
        },
        {
          "data": {
            "application/vnd.jupyter.widget-view+json": {
              "model_id": "84e5f141599448418abe3f5b003fad39",
              "version_major": 2,
              "version_minor": 0
            },
            "text/plain": [
              "Epoch 067:   0%|          | 0/88 [00:00<?, ?it/s]"
            ]
          },
          "metadata": {},
          "output_type": "display_data"
        },
        {
          "name": "stdout",
          "output_type": "stream",
          "text": [
            "Epoch 067: train=232.387  (BCE=186.784 , KLD=45.602  ), val: 269.151 \n"
          ]
        },
        {
          "data": {
            "application/vnd.jupyter.widget-view+json": {
              "model_id": "ac288c21de874731ab1986a40e6d6331",
              "version_major": 2,
              "version_minor": 0
            },
            "text/plain": [
              "Epoch 068:   0%|          | 0/88 [00:00<?, ?it/s]"
            ]
          },
          "metadata": {},
          "output_type": "display_data"
        },
        {
          "name": "stdout",
          "output_type": "stream",
          "text": [
            "Epoch 068: train=231.884  (BCE=186.436 , KLD=45.448  ), val: 265.957 \n"
          ]
        },
        {
          "data": {
            "application/vnd.jupyter.widget-view+json": {
              "model_id": "d8e25cfd4cbe4c75b518745536c5f9ee",
              "version_major": 2,
              "version_minor": 0
            },
            "text/plain": [
              "Epoch 069:   0%|          | 0/88 [00:00<?, ?it/s]"
            ]
          },
          "metadata": {},
          "output_type": "display_data"
        },
        {
          "name": "stdout",
          "output_type": "stream",
          "text": [
            "Epoch 069: train=230.309  (BCE=184.720 , KLD=45.589  ), val: 265.202 \n"
          ]
        },
        {
          "data": {
            "application/vnd.jupyter.widget-view+json": {
              "model_id": "7e9fccbb2a0a4aa58792f0e065ad1c3b",
              "version_major": 2,
              "version_minor": 0
            },
            "text/plain": [
              "Epoch 070:   0%|          | 0/88 [00:00<?, ?it/s]"
            ]
          },
          "metadata": {},
          "output_type": "display_data"
        },
        {
          "name": "stdout",
          "output_type": "stream",
          "text": [
            "Epoch 070: train=231.027  (BCE=185.457 , KLD=45.569  ), val: 265.829 \n"
          ]
        },
        {
          "data": {
            "application/vnd.jupyter.widget-view+json": {
              "model_id": "bab1b0ba119a4c24be8eb154241525c8",
              "version_major": 2,
              "version_minor": 0
            },
            "text/plain": [
              "Epoch 071:   0%|          | 0/88 [00:00<?, ?it/s]"
            ]
          },
          "metadata": {},
          "output_type": "display_data"
        },
        {
          "name": "stdout",
          "output_type": "stream",
          "text": [
            "Epoch 071: train=230.102  (BCE=184.460 , KLD=45.642  ), val: 264.937 \n"
          ]
        },
        {
          "data": {
            "application/vnd.jupyter.widget-view+json": {
              "model_id": "399d47d4c6634c65b15c86e459d4ab63",
              "version_major": 2,
              "version_minor": 0
            },
            "text/plain": [
              "Epoch 072:   0%|          | 0/88 [00:00<?, ?it/s]"
            ]
          },
          "metadata": {},
          "output_type": "display_data"
        },
        {
          "name": "stdout",
          "output_type": "stream",
          "text": [
            "Epoch 072: train=230.680  (BCE=185.156 , KLD=45.523  ), val: 265.304 \n"
          ]
        },
        {
          "data": {
            "application/vnd.jupyter.widget-view+json": {
              "model_id": "6ea4d8575d8a43ae8844ce6ccc02ce5d",
              "version_major": 2,
              "version_minor": 0
            },
            "text/plain": [
              "Epoch 073:   0%|          | 0/88 [00:00<?, ?it/s]"
            ]
          },
          "metadata": {},
          "output_type": "display_data"
        },
        {
          "name": "stdout",
          "output_type": "stream",
          "text": [
            "Epoch 073: train=228.957  (BCE=183.476 , KLD=45.482  ), val: 264.639 \n"
          ]
        },
        {
          "data": {
            "application/vnd.jupyter.widget-view+json": {
              "model_id": "399ab2b05f7f412286ad9f01704f4b00",
              "version_major": 2,
              "version_minor": 0
            },
            "text/plain": [
              "Epoch 074:   0%|          | 0/88 [00:00<?, ?it/s]"
            ]
          },
          "metadata": {},
          "output_type": "display_data"
        },
        {
          "name": "stdout",
          "output_type": "stream",
          "text": [
            "Epoch 074: train=229.456  (BCE=183.826 , KLD=45.630  ), val: 264.609 \n"
          ]
        },
        {
          "data": {
            "application/vnd.jupyter.widget-view+json": {
              "model_id": "fc785a252dd143a7af9550e54a01bc6c",
              "version_major": 2,
              "version_minor": 0
            },
            "text/plain": [
              "Epoch 075:   0%|          | 0/88 [00:00<?, ?it/s]"
            ]
          },
          "metadata": {},
          "output_type": "display_data"
        },
        {
          "name": "stdout",
          "output_type": "stream",
          "text": [
            "Epoch 075: train=228.720  (BCE=183.015 , KLD=45.704  ), val: 264.775 \n"
          ]
        },
        {
          "data": {
            "application/vnd.jupyter.widget-view+json": {
              "model_id": "264e4de97ca340aa8fd7db6186973e93",
              "version_major": 2,
              "version_minor": 0
            },
            "text/plain": [
              "Epoch 076:   0%|          | 0/88 [00:00<?, ?it/s]"
            ]
          },
          "metadata": {},
          "output_type": "display_data"
        },
        {
          "name": "stdout",
          "output_type": "stream",
          "text": [
            "Epoch 076: train=229.226  (BCE=183.538 , KLD=45.688  ), val: 265.213 \n"
          ]
        },
        {
          "data": {
            "application/vnd.jupyter.widget-view+json": {
              "model_id": "279b939a26694b55ab5687d8e11178d8",
              "version_major": 2,
              "version_minor": 0
            },
            "text/plain": [
              "Epoch 077:   0%|          | 0/88 [00:00<?, ?it/s]"
            ]
          },
          "metadata": {},
          "output_type": "display_data"
        },
        {
          "name": "stdout",
          "output_type": "stream",
          "text": [
            "Epoch 077: train=228.817  (BCE=183.104 , KLD=45.713  ), val: 266.068 \n"
          ]
        },
        {
          "data": {
            "application/vnd.jupyter.widget-view+json": {
              "model_id": "4c7e68b353e0446081afe78b74c74851",
              "version_major": 2,
              "version_minor": 0
            },
            "text/plain": [
              "Epoch 078:   0%|          | 0/88 [00:00<?, ?it/s]"
            ]
          },
          "metadata": {},
          "output_type": "display_data"
        },
        {
          "name": "stdout",
          "output_type": "stream",
          "text": [
            "Epoch 078: train=227.857  (BCE=182.177 , KLD=45.679  ), val: 263.548 \n"
          ]
        },
        {
          "data": {
            "application/vnd.jupyter.widget-view+json": {
              "model_id": "161d9e12043a485c86e6ea43a8e3c03d",
              "version_major": 2,
              "version_minor": 0
            },
            "text/plain": [
              "Epoch 079:   0%|          | 0/88 [00:00<?, ?it/s]"
            ]
          },
          "metadata": {},
          "output_type": "display_data"
        },
        {
          "name": "stdout",
          "output_type": "stream",
          "text": [
            "Epoch 079: train=228.324  (BCE=182.764 , KLD=45.561  ), val: 267.505 \n"
          ]
        },
        {
          "data": {
            "application/vnd.jupyter.widget-view+json": {
              "model_id": "9f3d6bd4ca394e0cad5d9583d8aeb1b6",
              "version_major": 2,
              "version_minor": 0
            },
            "text/plain": [
              "Epoch 080:   0%|          | 0/88 [00:00<?, ?it/s]"
            ]
          },
          "metadata": {},
          "output_type": "display_data"
        },
        {
          "name": "stdout",
          "output_type": "stream",
          "text": [
            "Epoch 080: train=228.374  (BCE=182.656 , KLD=45.718  ), val: 266.673 \n"
          ]
        },
        {
          "data": {
            "application/vnd.jupyter.widget-view+json": {
              "model_id": "8d4efae2d7d74d75a528d72723121d9c",
              "version_major": 2,
              "version_minor": 0
            },
            "text/plain": [
              "Epoch 081:   0%|          | 0/88 [00:00<?, ?it/s]"
            ]
          },
          "metadata": {},
          "output_type": "display_data"
        },
        {
          "name": "stdout",
          "output_type": "stream",
          "text": [
            "Epoch 081: train=227.840  (BCE=182.247 , KLD=45.593  ), val: 262.623 \n"
          ]
        },
        {
          "data": {
            "application/vnd.jupyter.widget-view+json": {
              "model_id": "f90beeab65e741d38ea88fdd1d7552b5",
              "version_major": 2,
              "version_minor": 0
            },
            "text/plain": [
              "Epoch 082:   0%|          | 0/88 [00:00<?, ?it/s]"
            ]
          },
          "metadata": {},
          "output_type": "display_data"
        },
        {
          "name": "stdout",
          "output_type": "stream",
          "text": [
            "Epoch 082: train=228.393  (BCE=182.619 , KLD=45.773  ), val: 263.267 \n"
          ]
        },
        {
          "data": {
            "application/vnd.jupyter.widget-view+json": {
              "model_id": "f7436ae6443444848a527a23e0bcc504",
              "version_major": 2,
              "version_minor": 0
            },
            "text/plain": [
              "Epoch 083:   0%|          | 0/88 [00:00<?, ?it/s]"
            ]
          },
          "metadata": {},
          "output_type": "display_data"
        },
        {
          "name": "stdout",
          "output_type": "stream",
          "text": [
            "Epoch 083: train=228.118  (BCE=182.388 , KLD=45.730  ), val: 266.380 \n"
          ]
        },
        {
          "data": {
            "application/vnd.jupyter.widget-view+json": {
              "model_id": "84a3d467d3a4417ab0f4e3ac08fe8b9a",
              "version_major": 2,
              "version_minor": 0
            },
            "text/plain": [
              "Epoch 084:   0%|          | 0/88 [00:00<?, ?it/s]"
            ]
          },
          "metadata": {},
          "output_type": "display_data"
        },
        {
          "name": "stdout",
          "output_type": "stream",
          "text": [
            "Epoch 084: train=227.329  (BCE=181.743 , KLD=45.586  ), val: 264.966 \n"
          ]
        },
        {
          "data": {
            "application/vnd.jupyter.widget-view+json": {
              "model_id": "086a5dc86d5c4431b984c0bbbee06c02",
              "version_major": 2,
              "version_minor": 0
            },
            "text/plain": [
              "Epoch 085:   0%|          | 0/88 [00:00<?, ?it/s]"
            ]
          },
          "metadata": {},
          "output_type": "display_data"
        },
        {
          "name": "stdout",
          "output_type": "stream",
          "text": [
            "Epoch 085: train=226.651  (BCE=180.903 , KLD=45.747  ), val: 264.221 \n"
          ]
        },
        {
          "data": {
            "application/vnd.jupyter.widget-view+json": {
              "model_id": "42895b3aa01a44c0a507f54d3094814c",
              "version_major": 2,
              "version_minor": 0
            },
            "text/plain": [
              "Epoch 086:   0%|          | 0/88 [00:00<?, ?it/s]"
            ]
          },
          "metadata": {},
          "output_type": "display_data"
        },
        {
          "name": "stdout",
          "output_type": "stream",
          "text": [
            "Epoch 086: train=227.558  (BCE=181.751 , KLD=45.807  ), val: 267.046 \n"
          ]
        },
        {
          "data": {
            "application/vnd.jupyter.widget-view+json": {
              "model_id": "ea94eba9e5994c1a996ec074a290d6a3",
              "version_major": 2,
              "version_minor": 0
            },
            "text/plain": [
              "Epoch 087:   0%|          | 0/88 [00:00<?, ?it/s]"
            ]
          },
          "metadata": {},
          "output_type": "display_data"
        },
        {
          "name": "stdout",
          "output_type": "stream",
          "text": [
            "Epoch 087: train=226.950  (BCE=181.246 , KLD=45.703  ), val: 265.145 \n"
          ]
        },
        {
          "data": {
            "application/vnd.jupyter.widget-view+json": {
              "model_id": "f566b0cb547a49228080e95413d80547",
              "version_major": 2,
              "version_minor": 0
            },
            "text/plain": [
              "Epoch 088:   0%|          | 0/88 [00:00<?, ?it/s]"
            ]
          },
          "metadata": {},
          "output_type": "display_data"
        },
        {
          "name": "stdout",
          "output_type": "stream",
          "text": [
            "Epoch 088: train=226.358  (BCE=180.567 , KLD=45.791  ), val: 263.029 \n"
          ]
        },
        {
          "data": {
            "application/vnd.jupyter.widget-view+json": {
              "model_id": "0af4d8ff61d24112aabf237181087d9b",
              "version_major": 2,
              "version_minor": 0
            },
            "text/plain": [
              "Epoch 089:   0%|          | 0/88 [00:00<?, ?it/s]"
            ]
          },
          "metadata": {},
          "output_type": "display_data"
        },
        {
          "name": "stdout",
          "output_type": "stream",
          "text": [
            "Epoch 089: train=226.094  (BCE=180.263 , KLD=45.832  ), val: 266.344 \n"
          ]
        },
        {
          "data": {
            "application/vnd.jupyter.widget-view+json": {
              "model_id": "4af1d95b50f24b9898b9767a9f6fcea4",
              "version_major": 2,
              "version_minor": 0
            },
            "text/plain": [
              "Epoch 090:   0%|          | 0/88 [00:00<?, ?it/s]"
            ]
          },
          "metadata": {},
          "output_type": "display_data"
        },
        {
          "name": "stdout",
          "output_type": "stream",
          "text": [
            "Epoch 090: train=225.602  (BCE=179.731 , KLD=45.872  ), val: 267.284 \n"
          ]
        },
        {
          "data": {
            "application/vnd.jupyter.widget-view+json": {
              "model_id": "8a7fc828e6b44a8d9ceb8ce854cc46be",
              "version_major": 2,
              "version_minor": 0
            },
            "text/plain": [
              "Epoch 091:   0%|          | 0/88 [00:00<?, ?it/s]"
            ]
          },
          "metadata": {},
          "output_type": "display_data"
        },
        {
          "name": "stdout",
          "output_type": "stream",
          "text": [
            "Epoch 091: train=225.746  (BCE=179.921 , KLD=45.824  ), val: 264.207 \n"
          ]
        },
        {
          "data": {
            "application/vnd.jupyter.widget-view+json": {
              "model_id": "39124c5284bf4bb2a5c4268516dcab71",
              "version_major": 2,
              "version_minor": 0
            },
            "text/plain": [
              "Epoch 092:   0%|          | 0/88 [00:00<?, ?it/s]"
            ]
          },
          "metadata": {},
          "output_type": "display_data"
        },
        {
          "name": "stdout",
          "output_type": "stream",
          "text": [
            "Epoch 092: train=225.320  (BCE=179.591 , KLD=45.729  ), val: 265.142 \n"
          ]
        },
        {
          "data": {
            "application/vnd.jupyter.widget-view+json": {
              "model_id": "db665160f2af4331a3a5528cb92d158e",
              "version_major": 2,
              "version_minor": 0
            },
            "text/plain": [
              "Epoch 093:   0%|          | 0/88 [00:00<?, ?it/s]"
            ]
          },
          "metadata": {},
          "output_type": "display_data"
        },
        {
          "name": "stdout",
          "output_type": "stream",
          "text": [
            "Epoch 093: train=225.632  (BCE=179.696 , KLD=45.936  ), val: 268.169 \n"
          ]
        },
        {
          "data": {
            "application/vnd.jupyter.widget-view+json": {
              "model_id": "870a2b7ef15645bf8923910f2d61168a",
              "version_major": 2,
              "version_minor": 0
            },
            "text/plain": [
              "Epoch 094:   0%|          | 0/88 [00:00<?, ?it/s]"
            ]
          },
          "metadata": {},
          "output_type": "display_data"
        },
        {
          "name": "stdout",
          "output_type": "stream",
          "text": [
            "Epoch 094: train=224.626  (BCE=178.968 , KLD=45.658  ), val: 263.799 \n"
          ]
        },
        {
          "data": {
            "application/vnd.jupyter.widget-view+json": {
              "model_id": "83d1d6cf36654d8d9e12586730672636",
              "version_major": 2,
              "version_minor": 0
            },
            "text/plain": [
              "Epoch 095:   0%|          | 0/88 [00:00<?, ?it/s]"
            ]
          },
          "metadata": {},
          "output_type": "display_data"
        },
        {
          "name": "stdout",
          "output_type": "stream",
          "text": [
            "Epoch 095: train=224.730  (BCE=178.917 , KLD=45.813  ), val: 267.375 \n"
          ]
        },
        {
          "data": {
            "application/vnd.jupyter.widget-view+json": {
              "model_id": "13eaf0e7492c418da733e0a05a88ca1f",
              "version_major": 2,
              "version_minor": 0
            },
            "text/plain": [
              "Epoch 096:   0%|          | 0/88 [00:00<?, ?it/s]"
            ]
          },
          "metadata": {},
          "output_type": "display_data"
        },
        {
          "name": "stdout",
          "output_type": "stream",
          "text": [
            "Epoch 096: train=225.674  (BCE=179.813 , KLD=45.860  ), val: 267.829 \n"
          ]
        },
        {
          "data": {
            "application/vnd.jupyter.widget-view+json": {
              "model_id": "32051979d7e44be682d5fb2190b50a48",
              "version_major": 2,
              "version_minor": 0
            },
            "text/plain": [
              "Epoch 097:   0%|          | 0/88 [00:00<?, ?it/s]"
            ]
          },
          "metadata": {},
          "output_type": "display_data"
        },
        {
          "name": "stdout",
          "output_type": "stream",
          "text": [
            "Epoch 097: train=225.769  (BCE=179.929 , KLD=45.840  ), val: 265.547 \n"
          ]
        },
        {
          "data": {
            "application/vnd.jupyter.widget-view+json": {
              "model_id": "b17e844adaa8404a8ea14342a8016031",
              "version_major": 2,
              "version_minor": 0
            },
            "text/plain": [
              "Epoch 098:   0%|          | 0/88 [00:00<?, ?it/s]"
            ]
          },
          "metadata": {},
          "output_type": "display_data"
        },
        {
          "name": "stdout",
          "output_type": "stream",
          "text": [
            "Epoch 098: train=224.428  (BCE=178.563 , KLD=45.865  ), val: 265.262 \n"
          ]
        },
        {
          "data": {
            "application/vnd.jupyter.widget-view+json": {
              "model_id": "92247c9848d143e1bfb1de6d1d5d41b3",
              "version_major": 2,
              "version_minor": 0
            },
            "text/plain": [
              "Epoch 099:   0%|          | 0/88 [00:00<?, ?it/s]"
            ]
          },
          "metadata": {},
          "output_type": "display_data"
        },
        {
          "name": "stdout",
          "output_type": "stream",
          "text": [
            "Epoch 099: train=224.710  (BCE=178.609 , KLD=46.100  ), val: 267.109 \n"
          ]
        },
        {
          "data": {
            "application/vnd.jupyter.widget-view+json": {
              "model_id": "534eee60e11045ffb0c8535d5ac2357d",
              "version_major": 2,
              "version_minor": 0
            },
            "text/plain": [
              "Epoch 100:   0%|          | 0/88 [00:00<?, ?it/s]"
            ]
          },
          "metadata": {},
          "output_type": "display_data"
        },
        {
          "name": "stdout",
          "output_type": "stream",
          "text": [
            "Epoch 100: train=223.755  (BCE=177.831 , KLD=45.924  ), val: 263.794 \n"
          ]
        },
        {
          "data": {
            "application/vnd.jupyter.widget-view+json": {
              "model_id": "75be1c2ec4a545b49df210b8635adbf0",
              "version_major": 2,
              "version_minor": 0
            },
            "text/plain": [
              "Epoch 101:   0%|          | 0/88 [00:00<?, ?it/s]"
            ]
          },
          "metadata": {},
          "output_type": "display_data"
        },
        {
          "name": "stdout",
          "output_type": "stream",
          "text": [
            "Epoch 101: train=224.232  (BCE=178.217 , KLD=46.015  ), val: 269.190 \n"
          ]
        },
        {
          "data": {
            "application/vnd.jupyter.widget-view+json": {
              "model_id": "762d2e10bc254a3cac51cc8211496e31",
              "version_major": 2,
              "version_minor": 0
            },
            "text/plain": [
              "Epoch 102:   0%|          | 0/88 [00:00<?, ?it/s]"
            ]
          },
          "metadata": {},
          "output_type": "display_data"
        },
        {
          "name": "stdout",
          "output_type": "stream",
          "text": [
            "Epoch 102: train=224.306  (BCE=178.360 , KLD=45.947  ), val: 265.438 \n"
          ]
        },
        {
          "data": {
            "application/vnd.jupyter.widget-view+json": {
              "model_id": "ae728803e1024487a6812a91e7b6ecf2",
              "version_major": 2,
              "version_minor": 0
            },
            "text/plain": [
              "Epoch 103:   0%|          | 0/88 [00:00<?, ?it/s]"
            ]
          },
          "metadata": {},
          "output_type": "display_data"
        },
        {
          "name": "stdout",
          "output_type": "stream",
          "text": [
            "Epoch 103: train=223.363  (BCE=177.501 , KLD=45.862  ), val: 264.804 \n"
          ]
        },
        {
          "data": {
            "application/vnd.jupyter.widget-view+json": {
              "model_id": "b6a762a1cad444c7b493c1c922217b8e",
              "version_major": 2,
              "version_minor": 0
            },
            "text/plain": [
              "Epoch 104:   0%|          | 0/88 [00:00<?, ?it/s]"
            ]
          },
          "metadata": {},
          "output_type": "display_data"
        },
        {
          "name": "stdout",
          "output_type": "stream",
          "text": [
            "Epoch 104: train=223.487  (BCE=177.716 , KLD=45.771  ), val: 265.744 \n"
          ]
        },
        {
          "data": {
            "application/vnd.jupyter.widget-view+json": {
              "model_id": "95dba7d502364f0dbc2228223ca16115",
              "version_major": 2,
              "version_minor": 0
            },
            "text/plain": [
              "Epoch 105:   0%|          | 0/88 [00:00<?, ?it/s]"
            ]
          },
          "metadata": {},
          "output_type": "display_data"
        },
        {
          "name": "stdout",
          "output_type": "stream",
          "text": [
            "Epoch 105: train=223.566  (BCE=177.658 , KLD=45.908  ), val: 266.059 \n"
          ]
        },
        {
          "data": {
            "application/vnd.jupyter.widget-view+json": {
              "model_id": "6348efb727bf43bc9114d69e808fe586",
              "version_major": 2,
              "version_minor": 0
            },
            "text/plain": [
              "Epoch 106:   0%|          | 0/88 [00:00<?, ?it/s]"
            ]
          },
          "metadata": {},
          "output_type": "display_data"
        },
        {
          "name": "stdout",
          "output_type": "stream",
          "text": [
            "Epoch 106: train=223.415  (BCE=177.581 , KLD=45.834  ), val: 264.563 \n"
          ]
        },
        {
          "data": {
            "application/vnd.jupyter.widget-view+json": {
              "model_id": "b48ff2bd88a747b380cb500296dccff7",
              "version_major": 2,
              "version_minor": 0
            },
            "text/plain": [
              "Epoch 107:   0%|          | 0/88 [00:00<?, ?it/s]"
            ]
          },
          "metadata": {},
          "output_type": "display_data"
        },
        {
          "name": "stdout",
          "output_type": "stream",
          "text": [
            "Epoch 107: train=223.461  (BCE=177.521 , KLD=45.941  ), val: 263.516 \n"
          ]
        },
        {
          "data": {
            "application/vnd.jupyter.widget-view+json": {
              "model_id": "3e977af9636f48d7b93d2116b454d0ef",
              "version_major": 2,
              "version_minor": 0
            },
            "text/plain": [
              "Epoch 108:   0%|          | 0/88 [00:00<?, ?it/s]"
            ]
          },
          "metadata": {},
          "output_type": "display_data"
        },
        {
          "name": "stdout",
          "output_type": "stream",
          "text": [
            "Epoch 108: train=222.922  (BCE=176.925 , KLD=45.998  ), val: 266.141 \n"
          ]
        },
        {
          "data": {
            "application/vnd.jupyter.widget-view+json": {
              "model_id": "18ff6b651de6409caf70b73c940f0088",
              "version_major": 2,
              "version_minor": 0
            },
            "text/plain": [
              "Epoch 109:   0%|          | 0/88 [00:00<?, ?it/s]"
            ]
          },
          "metadata": {},
          "output_type": "display_data"
        },
        {
          "name": "stdout",
          "output_type": "stream",
          "text": [
            "Epoch 109: train=222.409  (BCE=176.544 , KLD=45.865  ), val: 267.189 \n"
          ]
        },
        {
          "data": {
            "application/vnd.jupyter.widget-view+json": {
              "model_id": "368a4540fd424130a10f323bea6c2745",
              "version_major": 2,
              "version_minor": 0
            },
            "text/plain": [
              "Epoch 110:   0%|          | 0/88 [00:00<?, ?it/s]"
            ]
          },
          "metadata": {},
          "output_type": "display_data"
        },
        {
          "name": "stdout",
          "output_type": "stream",
          "text": [
            "Epoch 110: train=222.501  (BCE=176.694 , KLD=45.807  ), val: 270.318 \n"
          ]
        },
        {
          "data": {
            "application/vnd.jupyter.widget-view+json": {
              "model_id": "33b26a1ad630413fa0bbeb9cf885c8d6",
              "version_major": 2,
              "version_minor": 0
            },
            "text/plain": [
              "Epoch 111:   0%|          | 0/88 [00:00<?, ?it/s]"
            ]
          },
          "metadata": {},
          "output_type": "display_data"
        },
        {
          "name": "stdout",
          "output_type": "stream",
          "text": [
            "Epoch 111: train=222.410  (BCE=176.463 , KLD=45.947  ), val: 264.534 \n"
          ]
        },
        {
          "data": {
            "application/vnd.jupyter.widget-view+json": {
              "model_id": "54cce961f867442dadb5773821cafb78",
              "version_major": 2,
              "version_minor": 0
            },
            "text/plain": [
              "Epoch 112:   0%|          | 0/88 [00:00<?, ?it/s]"
            ]
          },
          "metadata": {},
          "output_type": "display_data"
        },
        {
          "name": "stdout",
          "output_type": "stream",
          "text": [
            "Epoch 112: train=222.374  (BCE=176.384 , KLD=45.990  ), val: 269.956 \n"
          ]
        },
        {
          "data": {
            "application/vnd.jupyter.widget-view+json": {
              "model_id": "cb53feb06b3f42e19b7fab1f1fb0b005",
              "version_major": 2,
              "version_minor": 0
            },
            "text/plain": [
              "Epoch 113:   0%|          | 0/88 [00:00<?, ?it/s]"
            ]
          },
          "metadata": {},
          "output_type": "display_data"
        },
        {
          "name": "stdout",
          "output_type": "stream",
          "text": [
            "Epoch 113: train=222.736  (BCE=176.617 , KLD=46.119  ), val: 266.002 \n"
          ]
        },
        {
          "data": {
            "application/vnd.jupyter.widget-view+json": {
              "model_id": "1e65ad125c9c427486bde2e22ba0f48f",
              "version_major": 2,
              "version_minor": 0
            },
            "text/plain": [
              "Epoch 114:   0%|          | 0/88 [00:00<?, ?it/s]"
            ]
          },
          "metadata": {},
          "output_type": "display_data"
        },
        {
          "name": "stdout",
          "output_type": "stream",
          "text": [
            "Epoch 114: train=222.279  (BCE=176.402 , KLD=45.877  ), val: 266.663 \n"
          ]
        },
        {
          "data": {
            "application/vnd.jupyter.widget-view+json": {
              "model_id": "94ccaf8311ae4200bb676033ba74af8e",
              "version_major": 2,
              "version_minor": 0
            },
            "text/plain": [
              "Epoch 115:   0%|          | 0/88 [00:00<?, ?it/s]"
            ]
          },
          "metadata": {},
          "output_type": "display_data"
        },
        {
          "name": "stdout",
          "output_type": "stream",
          "text": [
            "Epoch 115: train=222.946  (BCE=176.849 , KLD=46.097  ), val: 265.070 \n"
          ]
        },
        {
          "data": {
            "application/vnd.jupyter.widget-view+json": {
              "model_id": "85acba3a770544a9a8cb1ecd6d0276cf",
              "version_major": 2,
              "version_minor": 0
            },
            "text/plain": [
              "Epoch 116:   0%|          | 0/88 [00:00<?, ?it/s]"
            ]
          },
          "metadata": {},
          "output_type": "display_data"
        },
        {
          "name": "stdout",
          "output_type": "stream",
          "text": [
            "Epoch 116: train=221.627  (BCE=175.687 , KLD=45.940  ), val: 265.483 \n"
          ]
        },
        {
          "data": {
            "application/vnd.jupyter.widget-view+json": {
              "model_id": "8c9f7f3825bc4e63a6ca627600fb5c2e",
              "version_major": 2,
              "version_minor": 0
            },
            "text/plain": [
              "Epoch 117:   0%|          | 0/88 [00:00<?, ?it/s]"
            ]
          },
          "metadata": {},
          "output_type": "display_data"
        },
        {
          "name": "stdout",
          "output_type": "stream",
          "text": [
            "Epoch 117: train=222.448  (BCE=176.508 , KLD=45.940  ), val: 265.199 \n"
          ]
        },
        {
          "data": {
            "application/vnd.jupyter.widget-view+json": {
              "model_id": "8e85b0cb782b4a889dd2fcbd595e21fd",
              "version_major": 2,
              "version_minor": 0
            },
            "text/plain": [
              "Epoch 118:   0%|          | 0/88 [00:00<?, ?it/s]"
            ]
          },
          "metadata": {},
          "output_type": "display_data"
        },
        {
          "name": "stdout",
          "output_type": "stream",
          "text": [
            "Epoch 118: train=221.704  (BCE=175.649 , KLD=46.055  ), val: 263.356 \n"
          ]
        },
        {
          "data": {
            "application/vnd.jupyter.widget-view+json": {
              "model_id": "1f928a9f951e428e95f770ac4d996516",
              "version_major": 2,
              "version_minor": 0
            },
            "text/plain": [
              "Epoch 119:   0%|          | 0/88 [00:00<?, ?it/s]"
            ]
          },
          "metadata": {},
          "output_type": "display_data"
        },
        {
          "name": "stdout",
          "output_type": "stream",
          "text": [
            "Epoch 119: train=221.650  (BCE=175.843 , KLD=45.806  ), val: 268.369 \n"
          ]
        },
        {
          "data": {
            "application/vnd.jupyter.widget-view+json": {
              "model_id": "ccdf20be8a8d40d8a957db296e6dd1c7",
              "version_major": 2,
              "version_minor": 0
            },
            "text/plain": [
              "Epoch 120:   0%|          | 0/88 [00:00<?, ?it/s]"
            ]
          },
          "metadata": {},
          "output_type": "display_data"
        },
        {
          "name": "stdout",
          "output_type": "stream",
          "text": [
            "Epoch 120: train=221.615  (BCE=175.579 , KLD=46.036  ), val: 264.753 \n"
          ]
        },
        {
          "data": {
            "application/vnd.jupyter.widget-view+json": {
              "model_id": "3eb77fbd486542e6a11c87132b4a7963",
              "version_major": 2,
              "version_minor": 0
            },
            "text/plain": [
              "Epoch 121:   0%|          | 0/88 [00:00<?, ?it/s]"
            ]
          },
          "metadata": {},
          "output_type": "display_data"
        },
        {
          "name": "stdout",
          "output_type": "stream",
          "text": [
            "Epoch 121: train=221.540  (BCE=175.490 , KLD=46.050  ), val: 268.631 \n"
          ]
        },
        {
          "data": {
            "application/vnd.jupyter.widget-view+json": {
              "model_id": "29e9b54f7a704ebea3fcc606a8bb8730",
              "version_major": 2,
              "version_minor": 0
            },
            "text/plain": [
              "Epoch 122:   0%|          | 0/88 [00:00<?, ?it/s]"
            ]
          },
          "metadata": {},
          "output_type": "display_data"
        },
        {
          "name": "stdout",
          "output_type": "stream",
          "text": [
            "Epoch 122: train=221.573  (BCE=175.593 , KLD=45.980  ), val: 267.381 \n"
          ]
        },
        {
          "data": {
            "application/vnd.jupyter.widget-view+json": {
              "model_id": "30bee24cfec147c29e3d07150ee2b473",
              "version_major": 2,
              "version_minor": 0
            },
            "text/plain": [
              "Epoch 123:   0%|          | 0/88 [00:00<?, ?it/s]"
            ]
          },
          "metadata": {},
          "output_type": "display_data"
        },
        {
          "name": "stdout",
          "output_type": "stream",
          "text": [
            "Epoch 123: train=220.839  (BCE=174.824 , KLD=46.015  ), val: 266.464 \n"
          ]
        },
        {
          "data": {
            "application/vnd.jupyter.widget-view+json": {
              "model_id": "36ab76f3c9464b6697ad47ca2d2db5e7",
              "version_major": 2,
              "version_minor": 0
            },
            "text/plain": [
              "Epoch 124:   0%|          | 0/88 [00:00<?, ?it/s]"
            ]
          },
          "metadata": {},
          "output_type": "display_data"
        },
        {
          "name": "stdout",
          "output_type": "stream",
          "text": [
            "Epoch 124: train=220.587  (BCE=174.672 , KLD=45.915  ), val: 266.397 \n"
          ]
        },
        {
          "data": {
            "application/vnd.jupyter.widget-view+json": {
              "model_id": "4dc5008b91cc4bc1abffad717e99cc68",
              "version_major": 2,
              "version_minor": 0
            },
            "text/plain": [
              "Epoch 125:   0%|          | 0/88 [00:00<?, ?it/s]"
            ]
          },
          "metadata": {},
          "output_type": "display_data"
        },
        {
          "name": "stdout",
          "output_type": "stream",
          "text": [
            "Epoch 125: train=221.701  (BCE=175.791 , KLD=45.909  ), val: 264.914 \n"
          ]
        },
        {
          "data": {
            "application/vnd.jupyter.widget-view+json": {
              "model_id": "91dd1bdab0fe4a3fb44e296ef6699091",
              "version_major": 2,
              "version_minor": 0
            },
            "text/plain": [
              "Epoch 126:   0%|          | 0/88 [00:00<?, ?it/s]"
            ]
          },
          "metadata": {},
          "output_type": "display_data"
        },
        {
          "name": "stdout",
          "output_type": "stream",
          "text": [
            "Epoch 126: train=219.986  (BCE=173.914 , KLD=46.072  ), val: 267.790 \n"
          ]
        },
        {
          "data": {
            "application/vnd.jupyter.widget-view+json": {
              "model_id": "63a8e3a66b1f454ab50b507e4a737af8",
              "version_major": 2,
              "version_minor": 0
            },
            "text/plain": [
              "Epoch 127:   0%|          | 0/88 [00:00<?, ?it/s]"
            ]
          },
          "metadata": {},
          "output_type": "display_data"
        },
        {
          "name": "stdout",
          "output_type": "stream",
          "text": [
            "Epoch 127: train=221.242  (BCE=175.221 , KLD=46.021  ), val: 267.109 \n"
          ]
        },
        {
          "data": {
            "application/vnd.jupyter.widget-view+json": {
              "model_id": "44878cff23ff4203aac9a4ff5c74efc0",
              "version_major": 2,
              "version_minor": 0
            },
            "text/plain": [
              "Epoch 128:   0%|          | 0/88 [00:00<?, ?it/s]"
            ]
          },
          "metadata": {},
          "output_type": "display_data"
        },
        {
          "name": "stdout",
          "output_type": "stream",
          "text": [
            "Epoch 128: train=220.229  (BCE=174.215 , KLD=46.014  ), val: 268.219 \n"
          ]
        },
        {
          "data": {
            "application/vnd.jupyter.widget-view+json": {
              "model_id": "026556c2338545eb8f68492f85ece9b1",
              "version_major": 2,
              "version_minor": 0
            },
            "text/plain": [
              "Epoch 129:   0%|          | 0/88 [00:00<?, ?it/s]"
            ]
          },
          "metadata": {},
          "output_type": "display_data"
        },
        {
          "name": "stdout",
          "output_type": "stream",
          "text": [
            "Epoch 129: train=220.719  (BCE=174.541 , KLD=46.178  ), val: 267.757 \n"
          ]
        },
        {
          "data": {
            "application/vnd.jupyter.widget-view+json": {
              "model_id": "09c790203b1b4d9b9c66489b1b9398b6",
              "version_major": 2,
              "version_minor": 0
            },
            "text/plain": [
              "Epoch 130:   0%|          | 0/88 [00:00<?, ?it/s]"
            ]
          },
          "metadata": {},
          "output_type": "display_data"
        },
        {
          "name": "stdout",
          "output_type": "stream",
          "text": [
            "Epoch 130: train=219.966  (BCE=173.983 , KLD=45.984  ), val: 265.975 \n"
          ]
        },
        {
          "data": {
            "application/vnd.jupyter.widget-view+json": {
              "model_id": "2941d68141d24782a7dff42bc5c678d4",
              "version_major": 2,
              "version_minor": 0
            },
            "text/plain": [
              "Epoch 131:   0%|          | 0/88 [00:00<?, ?it/s]"
            ]
          },
          "metadata": {},
          "output_type": "display_data"
        },
        {
          "name": "stdout",
          "output_type": "stream",
          "text": [
            "Epoch 131: train=220.307  (BCE=174.345 , KLD=45.962  ), val: 267.192 \n"
          ]
        },
        {
          "data": {
            "application/vnd.jupyter.widget-view+json": {
              "model_id": "93c7ca73a4b74d739db8040528784317",
              "version_major": 2,
              "version_minor": 0
            },
            "text/plain": [
              "Epoch 132:   0%|          | 0/88 [00:00<?, ?it/s]"
            ]
          },
          "metadata": {},
          "output_type": "display_data"
        },
        {
          "name": "stdout",
          "output_type": "stream",
          "text": [
            "Epoch 132: train=220.155  (BCE=174.183 , KLD=45.971  ), val: 264.833 \n"
          ]
        },
        {
          "data": {
            "application/vnd.jupyter.widget-view+json": {
              "model_id": "d8c89232844c482f93eb36382f69ecbd",
              "version_major": 2,
              "version_minor": 0
            },
            "text/plain": [
              "Epoch 133:   0%|          | 0/88 [00:00<?, ?it/s]"
            ]
          },
          "metadata": {},
          "output_type": "display_data"
        },
        {
          "name": "stdout",
          "output_type": "stream",
          "text": [
            "Epoch 133: train=219.104  (BCE=172.997 , KLD=46.107  ), val: 267.678 \n"
          ]
        },
        {
          "data": {
            "application/vnd.jupyter.widget-view+json": {
              "model_id": "a6d73fe4b45d4f0c83dab2b97929eb0d",
              "version_major": 2,
              "version_minor": 0
            },
            "text/plain": [
              "Epoch 134:   0%|          | 0/88 [00:00<?, ?it/s]"
            ]
          },
          "metadata": {},
          "output_type": "display_data"
        },
        {
          "name": "stdout",
          "output_type": "stream",
          "text": [
            "Epoch 134: train=219.823  (BCE=173.842 , KLD=45.981  ), val: 267.056 \n"
          ]
        },
        {
          "data": {
            "application/vnd.jupyter.widget-view+json": {
              "model_id": "ed216f695bb24741a2aca95aa576576e",
              "version_major": 2,
              "version_minor": 0
            },
            "text/plain": [
              "Epoch 135:   0%|          | 0/88 [00:00<?, ?it/s]"
            ]
          },
          "metadata": {},
          "output_type": "display_data"
        },
        {
          "name": "stdout",
          "output_type": "stream",
          "text": [
            "Epoch 135: train=220.421  (BCE=174.400 , KLD=46.020  ), val: 264.501 \n"
          ]
        },
        {
          "data": {
            "application/vnd.jupyter.widget-view+json": {
              "model_id": "26448d40140540778e288250c824867a",
              "version_major": 2,
              "version_minor": 0
            },
            "text/plain": [
              "Epoch 136:   0%|          | 0/88 [00:00<?, ?it/s]"
            ]
          },
          "metadata": {},
          "output_type": "display_data"
        },
        {
          "name": "stdout",
          "output_type": "stream",
          "text": [
            "Epoch 136: train=220.038  (BCE=174.037 , KLD=46.001  ), val: 268.845 \n"
          ]
        },
        {
          "data": {
            "application/vnd.jupyter.widget-view+json": {
              "model_id": "e4a77c0ee0f045d8962977e99e27c218",
              "version_major": 2,
              "version_minor": 0
            },
            "text/plain": [
              "Epoch 137:   0%|          | 0/88 [00:00<?, ?it/s]"
            ]
          },
          "metadata": {},
          "output_type": "display_data"
        },
        {
          "name": "stdout",
          "output_type": "stream",
          "text": [
            "Epoch 137: train=219.687  (BCE=173.651 , KLD=46.036  ), val: 267.428 \n"
          ]
        },
        {
          "data": {
            "application/vnd.jupyter.widget-view+json": {
              "model_id": "8a4d88e87e09484989fbbafa0a846a45",
              "version_major": 2,
              "version_minor": 0
            },
            "text/plain": [
              "Epoch 138:   0%|          | 0/88 [00:00<?, ?it/s]"
            ]
          },
          "metadata": {},
          "output_type": "display_data"
        },
        {
          "name": "stdout",
          "output_type": "stream",
          "text": [
            "Epoch 138: train=219.395  (BCE=173.346 , KLD=46.049  ), val: 268.938 \n"
          ]
        },
        {
          "data": {
            "application/vnd.jupyter.widget-view+json": {
              "model_id": "46eed3a0f2034125a11aad26d4569601",
              "version_major": 2,
              "version_minor": 0
            },
            "text/plain": [
              "Epoch 139:   0%|          | 0/88 [00:00<?, ?it/s]"
            ]
          },
          "metadata": {},
          "output_type": "display_data"
        },
        {
          "name": "stdout",
          "output_type": "stream",
          "text": [
            "Epoch 139: train=219.763  (BCE=173.747 , KLD=46.016  ), val: 267.405 \n"
          ]
        },
        {
          "data": {
            "application/vnd.jupyter.widget-view+json": {
              "model_id": "140d5898360742cebdf31cb320de3dcb",
              "version_major": 2,
              "version_minor": 0
            },
            "text/plain": [
              "Epoch 140:   0%|          | 0/88 [00:00<?, ?it/s]"
            ]
          },
          "metadata": {},
          "output_type": "display_data"
        },
        {
          "name": "stdout",
          "output_type": "stream",
          "text": [
            "Epoch 140: train=219.602  (BCE=173.538 , KLD=46.064  ), val: 265.440 \n"
          ]
        },
        {
          "data": {
            "application/vnd.jupyter.widget-view+json": {
              "model_id": "e9f9b488b008448e81e4b6010b7c087a",
              "version_major": 2,
              "version_minor": 0
            },
            "text/plain": [
              "Epoch 141:   0%|          | 0/88 [00:00<?, ?it/s]"
            ]
          },
          "metadata": {},
          "output_type": "display_data"
        },
        {
          "name": "stdout",
          "output_type": "stream",
          "text": [
            "Epoch 141: train=219.170  (BCE=173.180 , KLD=45.990  ), val: 266.926 \n"
          ]
        },
        {
          "data": {
            "application/vnd.jupyter.widget-view+json": {
              "model_id": "62126c83a4bf4136b17a9b5ec713fadd",
              "version_major": 2,
              "version_minor": 0
            },
            "text/plain": [
              "Epoch 142:   0%|          | 0/88 [00:00<?, ?it/s]"
            ]
          },
          "metadata": {},
          "output_type": "display_data"
        },
        {
          "name": "stdout",
          "output_type": "stream",
          "text": [
            "Epoch 142: train=219.343  (BCE=173.121 , KLD=46.222  ), val: 266.506 \n"
          ]
        },
        {
          "data": {
            "application/vnd.jupyter.widget-view+json": {
              "model_id": "11db3367f3cf478abf54d67238cb4e34",
              "version_major": 2,
              "version_minor": 0
            },
            "text/plain": [
              "Epoch 143:   0%|          | 0/88 [00:00<?, ?it/s]"
            ]
          },
          "metadata": {},
          "output_type": "display_data"
        },
        {
          "name": "stdout",
          "output_type": "stream",
          "text": [
            "Epoch 143: train=219.152  (BCE=173.064 , KLD=46.088  ), val: 264.965 \n"
          ]
        },
        {
          "data": {
            "application/vnd.jupyter.widget-view+json": {
              "model_id": "9b31c88514f547e18f3587b3bdc65f60",
              "version_major": 2,
              "version_minor": 0
            },
            "text/plain": [
              "Epoch 144:   0%|          | 0/88 [00:00<?, ?it/s]"
            ]
          },
          "metadata": {},
          "output_type": "display_data"
        },
        {
          "name": "stdout",
          "output_type": "stream",
          "text": [
            "Epoch 144: train=218.594  (BCE=172.475 , KLD=46.119  ), val: 265.900 \n"
          ]
        },
        {
          "data": {
            "application/vnd.jupyter.widget-view+json": {
              "model_id": "4f17376890314ac485feadec89fcd000",
              "version_major": 2,
              "version_minor": 0
            },
            "text/plain": [
              "Epoch 145:   0%|          | 0/88 [00:00<?, ?it/s]"
            ]
          },
          "metadata": {},
          "output_type": "display_data"
        },
        {
          "name": "stdout",
          "output_type": "stream",
          "text": [
            "Epoch 145: train=218.825  (BCE=172.752 , KLD=46.074  ), val: 268.544 \n"
          ]
        },
        {
          "data": {
            "application/vnd.jupyter.widget-view+json": {
              "model_id": "ef0ddcc060314db1833b97707d90b6de",
              "version_major": 2,
              "version_minor": 0
            },
            "text/plain": [
              "Epoch 146:   0%|          | 0/88 [00:00<?, ?it/s]"
            ]
          },
          "metadata": {},
          "output_type": "display_data"
        },
        {
          "name": "stdout",
          "output_type": "stream",
          "text": [
            "Epoch 146: train=218.020  (BCE=172.039 , KLD=45.981  ), val: 265.097 \n"
          ]
        },
        {
          "data": {
            "application/vnd.jupyter.widget-view+json": {
              "model_id": "bc8922f4397b465b90f3715bee37703d",
              "version_major": 2,
              "version_minor": 0
            },
            "text/plain": [
              "Epoch 147:   0%|          | 0/88 [00:00<?, ?it/s]"
            ]
          },
          "metadata": {},
          "output_type": "display_data"
        },
        {
          "name": "stdout",
          "output_type": "stream",
          "text": [
            "Epoch 147: train=218.659  (BCE=172.461 , KLD=46.198  ), val: 266.409 \n"
          ]
        },
        {
          "data": {
            "application/vnd.jupyter.widget-view+json": {
              "model_id": "090353fd928c4179a5f6e8d70d98c5fe",
              "version_major": 2,
              "version_minor": 0
            },
            "text/plain": [
              "Epoch 148:   0%|          | 0/88 [00:00<?, ?it/s]"
            ]
          },
          "metadata": {},
          "output_type": "display_data"
        },
        {
          "name": "stdout",
          "output_type": "stream",
          "text": [
            "Epoch 148: train=219.301  (BCE=173.163 , KLD=46.138  ), val: 265.459 \n"
          ]
        },
        {
          "data": {
            "application/vnd.jupyter.widget-view+json": {
              "model_id": "88794ab5070043169f6dcf92f2e8c4ed",
              "version_major": 2,
              "version_minor": 0
            },
            "text/plain": [
              "Epoch 149:   0%|          | 0/88 [00:00<?, ?it/s]"
            ]
          },
          "metadata": {},
          "output_type": "display_data"
        },
        {
          "name": "stdout",
          "output_type": "stream",
          "text": [
            "Epoch 149: train=218.481  (BCE=172.401 , KLD=46.080  ), val: 265.113 \n"
          ]
        },
        {
          "data": {
            "application/vnd.jupyter.widget-view+json": {
              "model_id": "46d272ff586442a89ae37b120bda7ed6",
              "version_major": 2,
              "version_minor": 0
            },
            "text/plain": [
              "Epoch 150:   0%|          | 0/88 [00:00<?, ?it/s]"
            ]
          },
          "metadata": {},
          "output_type": "display_data"
        },
        {
          "name": "stdout",
          "output_type": "stream",
          "text": [
            "Epoch 150: train=218.937  (BCE=172.902 , KLD=46.034  ), val: 266.077 \n"
          ]
        },
        {
          "data": {
            "application/vnd.jupyter.widget-view+json": {
              "model_id": "f6e239a07b2b487db18a0ce9a48d75dd",
              "version_major": 2,
              "version_minor": 0
            },
            "text/plain": [
              "Epoch 151:   0%|          | 0/88 [00:00<?, ?it/s]"
            ]
          },
          "metadata": {},
          "output_type": "display_data"
        },
        {
          "name": "stdout",
          "output_type": "stream",
          "text": [
            "Epoch 151: train=217.402  (BCE=171.327 , KLD=46.075  ), val: 265.730 \n"
          ]
        },
        {
          "data": {
            "application/vnd.jupyter.widget-view+json": {
              "model_id": "de613fca4d2d4985a01c7b057124db5f",
              "version_major": 2,
              "version_minor": 0
            },
            "text/plain": [
              "Epoch 152:   0%|          | 0/88 [00:00<?, ?it/s]"
            ]
          },
          "metadata": {},
          "output_type": "display_data"
        },
        {
          "name": "stdout",
          "output_type": "stream",
          "text": [
            "Epoch 152: train=217.670  (BCE=171.552 , KLD=46.118  ), val: 266.936 \n"
          ]
        },
        {
          "data": {
            "application/vnd.jupyter.widget-view+json": {
              "model_id": "ef02052d265b400b8e1306f8abaf025e",
              "version_major": 2,
              "version_minor": 0
            },
            "text/plain": [
              "Epoch 153:   0%|          | 0/88 [00:00<?, ?it/s]"
            ]
          },
          "metadata": {},
          "output_type": "display_data"
        },
        {
          "name": "stdout",
          "output_type": "stream",
          "text": [
            "Epoch 153: train=217.604  (BCE=171.466 , KLD=46.138  ), val: 267.680 \n"
          ]
        },
        {
          "data": {
            "application/vnd.jupyter.widget-view+json": {
              "model_id": "6e8a6463e70641fb8b3a72d83eeea2be",
              "version_major": 2,
              "version_minor": 0
            },
            "text/plain": [
              "Epoch 154:   0%|          | 0/88 [00:00<?, ?it/s]"
            ]
          },
          "metadata": {},
          "output_type": "display_data"
        },
        {
          "name": "stdout",
          "output_type": "stream",
          "text": [
            "Epoch 154: train=217.654  (BCE=171.676 , KLD=45.978  ), val: 266.301 \n"
          ]
        },
        {
          "data": {
            "application/vnd.jupyter.widget-view+json": {
              "model_id": "58f684bf767c453f846909fb01ac9aa3",
              "version_major": 2,
              "version_minor": 0
            },
            "text/plain": [
              "Epoch 155:   0%|          | 0/88 [00:00<?, ?it/s]"
            ]
          },
          "metadata": {},
          "output_type": "display_data"
        },
        {
          "name": "stdout",
          "output_type": "stream",
          "text": [
            "Epoch 155: train=217.430  (BCE=171.408 , KLD=46.022  ), val: 269.460 \n"
          ]
        },
        {
          "data": {
            "application/vnd.jupyter.widget-view+json": {
              "model_id": "9b9863a2fd4e4fa98466ca71bf53efe2",
              "version_major": 2,
              "version_minor": 0
            },
            "text/plain": [
              "Epoch 156:   0%|          | 0/88 [00:00<?, ?it/s]"
            ]
          },
          "metadata": {},
          "output_type": "display_data"
        },
        {
          "name": "stdout",
          "output_type": "stream",
          "text": [
            "Epoch 156: train=218.068  (BCE=172.031 , KLD=46.036  ), val: 271.594 \n"
          ]
        },
        {
          "data": {
            "application/vnd.jupyter.widget-view+json": {
              "model_id": "2738587878af4c12ad8e496f7ef37ea8",
              "version_major": 2,
              "version_minor": 0
            },
            "text/plain": [
              "Epoch 157:   0%|          | 0/88 [00:00<?, ?it/s]"
            ]
          },
          "metadata": {},
          "output_type": "display_data"
        },
        {
          "name": "stdout",
          "output_type": "stream",
          "text": [
            "Epoch 157: train=218.532  (BCE=172.419 , KLD=46.113  ), val: 266.477 \n"
          ]
        },
        {
          "data": {
            "application/vnd.jupyter.widget-view+json": {
              "model_id": "6886fc1e51be40e2bc5a7eefb3a46969",
              "version_major": 2,
              "version_minor": 0
            },
            "text/plain": [
              "Epoch 158:   0%|          | 0/88 [00:00<?, ?it/s]"
            ]
          },
          "metadata": {},
          "output_type": "display_data"
        },
        {
          "name": "stdout",
          "output_type": "stream",
          "text": [
            "Epoch 158: train=216.968  (BCE=170.916 , KLD=46.052  ), val: 268.525 \n"
          ]
        },
        {
          "data": {
            "application/vnd.jupyter.widget-view+json": {
              "model_id": "2a6ae5269b7b4f72ad5e33ac36ac736a",
              "version_major": 2,
              "version_minor": 0
            },
            "text/plain": [
              "Epoch 159:   0%|          | 0/88 [00:00<?, ?it/s]"
            ]
          },
          "metadata": {},
          "output_type": "display_data"
        },
        {
          "name": "stdout",
          "output_type": "stream",
          "text": [
            "Epoch 159: train=217.073  (BCE=170.911 , KLD=46.162  ), val: 266.295 \n"
          ]
        },
        {
          "data": {
            "application/vnd.jupyter.widget-view+json": {
              "model_id": "a9f3fcdf70684fcb9b0103b5a3d3abc9",
              "version_major": 2,
              "version_minor": 0
            },
            "text/plain": [
              "Epoch 160:   0%|          | 0/88 [00:00<?, ?it/s]"
            ]
          },
          "metadata": {},
          "output_type": "display_data"
        },
        {
          "name": "stdout",
          "output_type": "stream",
          "text": [
            "Epoch 160: train=217.316  (BCE=171.305 , KLD=46.011  ), val: 268.702 \n"
          ]
        },
        {
          "data": {
            "application/vnd.jupyter.widget-view+json": {
              "model_id": "fbefcf7580bf41978f1c26962f7deae8",
              "version_major": 2,
              "version_minor": 0
            },
            "text/plain": [
              "Epoch 161:   0%|          | 0/88 [00:00<?, ?it/s]"
            ]
          },
          "metadata": {},
          "output_type": "display_data"
        },
        {
          "name": "stdout",
          "output_type": "stream",
          "text": [
            "Epoch 161: train=217.256  (BCE=171.134 , KLD=46.122  ), val: 268.089 \n"
          ]
        },
        {
          "data": {
            "application/vnd.jupyter.widget-view+json": {
              "model_id": "bd2e4343028544e1a08c5ae4d567f1b1",
              "version_major": 2,
              "version_minor": 0
            },
            "text/plain": [
              "Epoch 162:   0%|          | 0/88 [00:00<?, ?it/s]"
            ]
          },
          "metadata": {},
          "output_type": "display_data"
        },
        {
          "name": "stdout",
          "output_type": "stream",
          "text": [
            "Epoch 162: train=217.650  (BCE=171.531 , KLD=46.119  ), val: 272.527 \n"
          ]
        },
        {
          "data": {
            "application/vnd.jupyter.widget-view+json": {
              "model_id": "fc3fd9add23343269621878e9ad6f804",
              "version_major": 2,
              "version_minor": 0
            },
            "text/plain": [
              "Epoch 163:   0%|          | 0/88 [00:00<?, ?it/s]"
            ]
          },
          "metadata": {},
          "output_type": "display_data"
        },
        {
          "name": "stdout",
          "output_type": "stream",
          "text": [
            "Epoch 163: train=217.196  (BCE=171.151 , KLD=46.046  ), val: 269.764 \n"
          ]
        },
        {
          "data": {
            "application/vnd.jupyter.widget-view+json": {
              "model_id": "1f6154a6c0d94c80ac658df327225772",
              "version_major": 2,
              "version_minor": 0
            },
            "text/plain": [
              "Epoch 164:   0%|          | 0/88 [00:00<?, ?it/s]"
            ]
          },
          "metadata": {},
          "output_type": "display_data"
        },
        {
          "name": "stdout",
          "output_type": "stream",
          "text": [
            "Epoch 164: train=216.189  (BCE=170.112 , KLD=46.078  ), val: 266.858 \n"
          ]
        },
        {
          "data": {
            "application/vnd.jupyter.widget-view+json": {
              "model_id": "0539ace10f28431cad34304d62ecdcbf",
              "version_major": 2,
              "version_minor": 0
            },
            "text/plain": [
              "Epoch 165:   0%|          | 0/88 [00:00<?, ?it/s]"
            ]
          },
          "metadata": {},
          "output_type": "display_data"
        },
        {
          "name": "stdout",
          "output_type": "stream",
          "text": [
            "Epoch 165: train=217.148  (BCE=171.064 , KLD=46.085  ), val: 268.412 \n"
          ]
        },
        {
          "data": {
            "application/vnd.jupyter.widget-view+json": {
              "model_id": "f29934c37b54404a9b3f714ccf076ee3",
              "version_major": 2,
              "version_minor": 0
            },
            "text/plain": [
              "Epoch 166:   0%|          | 0/88 [00:00<?, ?it/s]"
            ]
          },
          "metadata": {},
          "output_type": "display_data"
        },
        {
          "name": "stdout",
          "output_type": "stream",
          "text": [
            "Epoch 166: train=217.115  (BCE=171.005 , KLD=46.110  ), val: 267.725 \n"
          ]
        },
        {
          "data": {
            "application/vnd.jupyter.widget-view+json": {
              "model_id": "929cb94cf9f046d8a47f43df9f449718",
              "version_major": 2,
              "version_minor": 0
            },
            "text/plain": [
              "Epoch 167:   0%|          | 0/88 [00:00<?, ?it/s]"
            ]
          },
          "metadata": {},
          "output_type": "display_data"
        },
        {
          "name": "stdout",
          "output_type": "stream",
          "text": [
            "Epoch 167: train=216.876  (BCE=170.671 , KLD=46.204  ), val: 268.291 \n"
          ]
        },
        {
          "data": {
            "application/vnd.jupyter.widget-view+json": {
              "model_id": "0e2649225262416f9a706cb29cc8f495",
              "version_major": 2,
              "version_minor": 0
            },
            "text/plain": [
              "Epoch 168:   0%|          | 0/88 [00:00<?, ?it/s]"
            ]
          },
          "metadata": {},
          "output_type": "display_data"
        },
        {
          "name": "stdout",
          "output_type": "stream",
          "text": [
            "Epoch 168: train=216.250  (BCE=170.279 , KLD=45.971  ), val: 272.344 \n"
          ]
        },
        {
          "data": {
            "application/vnd.jupyter.widget-view+json": {
              "model_id": "7197205a0eec49e5a27bcc462fa24a09",
              "version_major": 2,
              "version_minor": 0
            },
            "text/plain": [
              "Epoch 169:   0%|          | 0/88 [00:00<?, ?it/s]"
            ]
          },
          "metadata": {},
          "output_type": "display_data"
        },
        {
          "name": "stdout",
          "output_type": "stream",
          "text": [
            "Epoch 169: train=216.621  (BCE=170.517 , KLD=46.105  ), val: 266.148 \n"
          ]
        },
        {
          "data": {
            "application/vnd.jupyter.widget-view+json": {
              "model_id": "df820454897645eab48e5217496b9d93",
              "version_major": 2,
              "version_minor": 0
            },
            "text/plain": [
              "Epoch 170:   0%|          | 0/88 [00:00<?, ?it/s]"
            ]
          },
          "metadata": {},
          "output_type": "display_data"
        },
        {
          "name": "stdout",
          "output_type": "stream",
          "text": [
            "Epoch 170: train=216.236  (BCE=170.228 , KLD=46.008  ), val: 271.045 \n"
          ]
        },
        {
          "data": {
            "application/vnd.jupyter.widget-view+json": {
              "model_id": "7e1fb022100c4253be07a991d090f5d4",
              "version_major": 2,
              "version_minor": 0
            },
            "text/plain": [
              "Epoch 171:   0%|          | 0/88 [00:00<?, ?it/s]"
            ]
          },
          "metadata": {},
          "output_type": "display_data"
        },
        {
          "name": "stdout",
          "output_type": "stream",
          "text": [
            "Epoch 171: train=217.861  (BCE=171.712 , KLD=46.150  ), val: 267.967 \n"
          ]
        },
        {
          "data": {
            "application/vnd.jupyter.widget-view+json": {
              "model_id": "f8ebc3a5f99d4cbb844e7a8e21589ca7",
              "version_major": 2,
              "version_minor": 0
            },
            "text/plain": [
              "Epoch 172:   0%|          | 0/88 [00:00<?, ?it/s]"
            ]
          },
          "metadata": {},
          "output_type": "display_data"
        },
        {
          "name": "stdout",
          "output_type": "stream",
          "text": [
            "Epoch 172: train=216.703  (BCE=170.642 , KLD=46.061  ), val: 266.862 \n"
          ]
        },
        {
          "data": {
            "application/vnd.jupyter.widget-view+json": {
              "model_id": "70e682b0b8a046e5aac365e5fc4ef365",
              "version_major": 2,
              "version_minor": 0
            },
            "text/plain": [
              "Epoch 173:   0%|          | 0/88 [00:00<?, ?it/s]"
            ]
          },
          "metadata": {},
          "output_type": "display_data"
        },
        {
          "name": "stdout",
          "output_type": "stream",
          "text": [
            "Epoch 173: train=216.444  (BCE=170.257 , KLD=46.187  ), val: 266.873 \n"
          ]
        },
        {
          "data": {
            "application/vnd.jupyter.widget-view+json": {
              "model_id": "e6090e5deeea45168be109f0fb6ece4b",
              "version_major": 2,
              "version_minor": 0
            },
            "text/plain": [
              "Epoch 174:   0%|          | 0/88 [00:00<?, ?it/s]"
            ]
          },
          "metadata": {},
          "output_type": "display_data"
        },
        {
          "name": "stdout",
          "output_type": "stream",
          "text": [
            "Epoch 174: train=216.156  (BCE=170.173 , KLD=45.983  ), val: 269.420 \n"
          ]
        },
        {
          "data": {
            "application/vnd.jupyter.widget-view+json": {
              "model_id": "be0a48b5c4ae4f5b871360b2a070c757",
              "version_major": 2,
              "version_minor": 0
            },
            "text/plain": [
              "Epoch 175:   0%|          | 0/88 [00:00<?, ?it/s]"
            ]
          },
          "metadata": {},
          "output_type": "display_data"
        },
        {
          "name": "stdout",
          "output_type": "stream",
          "text": [
            "Epoch 175: train=216.842  (BCE=170.692 , KLD=46.150  ), val: 267.063 \n"
          ]
        },
        {
          "data": {
            "application/vnd.jupyter.widget-view+json": {
              "model_id": "1d939118d3be4aadbb32970be147d9d6",
              "version_major": 2,
              "version_minor": 0
            },
            "text/plain": [
              "Epoch 176:   0%|          | 0/88 [00:00<?, ?it/s]"
            ]
          },
          "metadata": {},
          "output_type": "display_data"
        },
        {
          "name": "stdout",
          "output_type": "stream",
          "text": [
            "Epoch 176: train=216.433  (BCE=170.244 , KLD=46.189  ), val: 269.101 \n"
          ]
        },
        {
          "data": {
            "application/vnd.jupyter.widget-view+json": {
              "model_id": "52f32ee66ab3413a95eef43d497afd28",
              "version_major": 2,
              "version_minor": 0
            },
            "text/plain": [
              "Epoch 177:   0%|          | 0/88 [00:00<?, ?it/s]"
            ]
          },
          "metadata": {},
          "output_type": "display_data"
        },
        {
          "ename": "KeyboardInterrupt",
          "evalue": "",
          "output_type": "error",
          "traceback": [
            "\u001b[0;31m---------------------------------------------------------------------------\u001b[0m",
            "\u001b[0;31mKeyboardInterrupt\u001b[0m                         Traceback (most recent call last)",
            "Cell \u001b[0;32mIn[52], line 14\u001b[0m\n\u001b[1;32m     11\u001b[0m train_losses_bce,train_losses_kld\u001b[38;5;241m=\u001b[39m[],[]\n\u001b[1;32m     13\u001b[0m \u001b[38;5;28;01mfor\u001b[39;00m epoch \u001b[38;5;129;01min\u001b[39;00m \u001b[38;5;28mrange\u001b[39m(\u001b[38;5;241m1\u001b[39m,epochs\u001b[38;5;241m+\u001b[39m\u001b[38;5;241m1\u001b[39m):\n\u001b[0;32m---> 14\u001b[0m   \u001b[43mtrain\u001b[49m\u001b[43m(\u001b[49m\u001b[43mepoch\u001b[49m\u001b[43m)\u001b[49m\n\u001b[1;32m     15\u001b[0m   \u001b[38;5;28;01mif\u001b[39;00m epoch\u001b[38;5;241m%\u001b[39m\u001b[38;5;241m50\u001b[39m\u001b[38;5;241m==\u001b[39m\u001b[38;5;241m0\u001b[39m:\n\u001b[1;32m     16\u001b[0m     sample_latent_space(epoch)\n",
            "Cell \u001b[0;32mIn[50], line 32\u001b[0m, in \u001b[0;36mtrain\u001b[0;34m(epoch)\u001b[0m\n\u001b[1;32m     30\u001b[0m avg_train_loss_bce \u001b[38;5;241m=\u001b[39m train_loss_bce \u001b[38;5;241m/\u001b[39m \u001b[38;5;28mlen\u001b[39m(train_loader\u001b[38;5;241m.\u001b[39mdataset)\n\u001b[1;32m     31\u001b[0m avg_train_loss_kld \u001b[38;5;241m=\u001b[39m train_loss_kld \u001b[38;5;241m/\u001b[39m \u001b[38;5;28mlen\u001b[39m(train_loader\u001b[38;5;241m.\u001b[39mdataset)\n\u001b[0;32m---> 32\u001b[0m val_loss \u001b[38;5;241m=\u001b[39m \u001b[43mevaluate\u001b[49m\u001b[43m(\u001b[49m\u001b[43mepoch\u001b[49m\u001b[43m,\u001b[49m\u001b[43m \u001b[49m\u001b[43mval_loader\u001b[49m\u001b[43m)\u001b[49m\n\u001b[1;32m     33\u001b[0m \u001b[38;5;28mprint\u001b[39m(\u001b[38;5;124mf\u001b[39m\u001b[38;5;124m'\u001b[39m\u001b[38;5;124mEpoch \u001b[39m\u001b[38;5;132;01m{\u001b[39;00mepoch\u001b[38;5;132;01m:\u001b[39;00m\u001b[38;5;124m03d\u001b[39m\u001b[38;5;132;01m}\u001b[39;00m\u001b[38;5;124m: train=\u001b[39m\u001b[38;5;132;01m{\u001b[39;00mavg_train_loss\u001b[38;5;132;01m:\u001b[39;00m\u001b[38;5;124m<8.3f\u001b[39m\u001b[38;5;132;01m}\u001b[39;00m\u001b[38;5;124m (BCE=\u001b[39m\u001b[38;5;132;01m{\u001b[39;00mavg_train_loss_bce\u001b[38;5;132;01m:\u001b[39;00m\u001b[38;5;124m<8.3f\u001b[39m\u001b[38;5;132;01m}\u001b[39;00m\u001b[38;5;124m, KLD=\u001b[39m\u001b[38;5;132;01m{\u001b[39;00mavg_train_loss_kld\u001b[38;5;132;01m:\u001b[39;00m\u001b[38;5;124m<8.3f\u001b[39m\u001b[38;5;132;01m}\u001b[39;00m\u001b[38;5;124m), val: \u001b[39m\u001b[38;5;132;01m{\u001b[39;00mval_loss\u001b[38;5;132;01m:\u001b[39;00m\u001b[38;5;124m<8.3f\u001b[39m\u001b[38;5;132;01m}\u001b[39;00m\u001b[38;5;124m'\u001b[39m)\n\u001b[1;32m     35\u001b[0m train_losses\u001b[38;5;241m.\u001b[39mappend(avg_train_loss)\n",
            "Cell \u001b[0;32mIn[49], line 5\u001b[0m, in \u001b[0;36mevaluate\u001b[0;34m(epoch, evaluate_data)\u001b[0m\n\u001b[1;32m      3\u001b[0m val_loss \u001b[38;5;241m=\u001b[39m \u001b[38;5;241m0\u001b[39m\n\u001b[1;32m      4\u001b[0m \u001b[38;5;28;01mwith\u001b[39;00m torch\u001b[38;5;241m.\u001b[39mno_grad():\n\u001b[0;32m----> 5\u001b[0m     \u001b[38;5;28;01mfor\u001b[39;00m i, (data, _) \u001b[38;5;129;01min\u001b[39;00m \u001b[38;5;28menumerate\u001b[39m(evaluate_data):\n\u001b[1;32m      7\u001b[0m         data\u001b[38;5;241m=\u001b[39mdata\u001b[38;5;241m.\u001b[39mto(device)\n\u001b[1;32m      8\u001b[0m         recon_batch,mu,logvar\u001b[38;5;241m=\u001b[39mmodel(data)\n",
            "File \u001b[0;32m/home/tiago/dev/generative_networks/.venv/lib/python3.10/site-packages/torch/utils/data/dataloader.py:630\u001b[0m, in \u001b[0;36m_BaseDataLoaderIter.__next__\u001b[0;34m(self)\u001b[0m\n\u001b[1;32m    627\u001b[0m \u001b[38;5;28;01mif\u001b[39;00m \u001b[38;5;28mself\u001b[39m\u001b[38;5;241m.\u001b[39m_sampler_iter \u001b[38;5;129;01mis\u001b[39;00m \u001b[38;5;28;01mNone\u001b[39;00m:\n\u001b[1;32m    628\u001b[0m     \u001b[38;5;66;03m# TODO(https://github.com/pytorch/pytorch/issues/76750)\u001b[39;00m\n\u001b[1;32m    629\u001b[0m     \u001b[38;5;28mself\u001b[39m\u001b[38;5;241m.\u001b[39m_reset()  \u001b[38;5;66;03m# type: ignore[call-arg]\u001b[39;00m\n\u001b[0;32m--> 630\u001b[0m data \u001b[38;5;241m=\u001b[39m \u001b[38;5;28;43mself\u001b[39;49m\u001b[38;5;241;43m.\u001b[39;49m\u001b[43m_next_data\u001b[49m\u001b[43m(\u001b[49m\u001b[43m)\u001b[49m\n\u001b[1;32m    631\u001b[0m \u001b[38;5;28mself\u001b[39m\u001b[38;5;241m.\u001b[39m_num_yielded \u001b[38;5;241m+\u001b[39m\u001b[38;5;241m=\u001b[39m \u001b[38;5;241m1\u001b[39m\n\u001b[1;32m    632\u001b[0m \u001b[38;5;28;01mif\u001b[39;00m \u001b[38;5;28mself\u001b[39m\u001b[38;5;241m.\u001b[39m_dataset_kind \u001b[38;5;241m==\u001b[39m _DatasetKind\u001b[38;5;241m.\u001b[39mIterable \u001b[38;5;129;01mand\u001b[39;00m \\\n\u001b[1;32m    633\u001b[0m         \u001b[38;5;28mself\u001b[39m\u001b[38;5;241m.\u001b[39m_IterableDataset_len_called \u001b[38;5;129;01mis\u001b[39;00m \u001b[38;5;129;01mnot\u001b[39;00m \u001b[38;5;28;01mNone\u001b[39;00m \u001b[38;5;129;01mand\u001b[39;00m \\\n\u001b[1;32m    634\u001b[0m         \u001b[38;5;28mself\u001b[39m\u001b[38;5;241m.\u001b[39m_num_yielded \u001b[38;5;241m>\u001b[39m \u001b[38;5;28mself\u001b[39m\u001b[38;5;241m.\u001b[39m_IterableDataset_len_called:\n",
            "File \u001b[0;32m/home/tiago/dev/generative_networks/.venv/lib/python3.10/site-packages/torch/utils/data/dataloader.py:673\u001b[0m, in \u001b[0;36m_SingleProcessDataLoaderIter._next_data\u001b[0;34m(self)\u001b[0m\n\u001b[1;32m    671\u001b[0m \u001b[38;5;28;01mdef\u001b[39;00m \u001b[38;5;21m_next_data\u001b[39m(\u001b[38;5;28mself\u001b[39m):\n\u001b[1;32m    672\u001b[0m     index \u001b[38;5;241m=\u001b[39m \u001b[38;5;28mself\u001b[39m\u001b[38;5;241m.\u001b[39m_next_index()  \u001b[38;5;66;03m# may raise StopIteration\u001b[39;00m\n\u001b[0;32m--> 673\u001b[0m     data \u001b[38;5;241m=\u001b[39m \u001b[38;5;28;43mself\u001b[39;49m\u001b[38;5;241;43m.\u001b[39;49m\u001b[43m_dataset_fetcher\u001b[49m\u001b[38;5;241;43m.\u001b[39;49m\u001b[43mfetch\u001b[49m\u001b[43m(\u001b[49m\u001b[43mindex\u001b[49m\u001b[43m)\u001b[49m  \u001b[38;5;66;03m# may raise StopIteration\u001b[39;00m\n\u001b[1;32m    674\u001b[0m     \u001b[38;5;28;01mif\u001b[39;00m \u001b[38;5;28mself\u001b[39m\u001b[38;5;241m.\u001b[39m_pin_memory:\n\u001b[1;32m    675\u001b[0m         data \u001b[38;5;241m=\u001b[39m _utils\u001b[38;5;241m.\u001b[39mpin_memory\u001b[38;5;241m.\u001b[39mpin_memory(data, \u001b[38;5;28mself\u001b[39m\u001b[38;5;241m.\u001b[39m_pin_memory_device)\n",
            "File \u001b[0;32m/home/tiago/dev/generative_networks/.venv/lib/python3.10/site-packages/torch/utils/data/_utils/fetch.py:52\u001b[0m, in \u001b[0;36m_MapDatasetFetcher.fetch\u001b[0;34m(self, possibly_batched_index)\u001b[0m\n\u001b[1;32m     50\u001b[0m         data \u001b[38;5;241m=\u001b[39m \u001b[38;5;28mself\u001b[39m\u001b[38;5;241m.\u001b[39mdataset\u001b[38;5;241m.\u001b[39m__getitems__(possibly_batched_index)\n\u001b[1;32m     51\u001b[0m     \u001b[38;5;28;01melse\u001b[39;00m:\n\u001b[0;32m---> 52\u001b[0m         data \u001b[38;5;241m=\u001b[39m [\u001b[38;5;28mself\u001b[39m\u001b[38;5;241m.\u001b[39mdataset[idx] \u001b[38;5;28;01mfor\u001b[39;00m idx \u001b[38;5;129;01min\u001b[39;00m possibly_batched_index]\n\u001b[1;32m     53\u001b[0m \u001b[38;5;28;01melse\u001b[39;00m:\n\u001b[1;32m     54\u001b[0m     data \u001b[38;5;241m=\u001b[39m \u001b[38;5;28mself\u001b[39m\u001b[38;5;241m.\u001b[39mdataset[possibly_batched_index]\n",
            "File \u001b[0;32m/home/tiago/dev/generative_networks/.venv/lib/python3.10/site-packages/torch/utils/data/_utils/fetch.py:52\u001b[0m, in \u001b[0;36m<listcomp>\u001b[0;34m(.0)\u001b[0m\n\u001b[1;32m     50\u001b[0m         data \u001b[38;5;241m=\u001b[39m \u001b[38;5;28mself\u001b[39m\u001b[38;5;241m.\u001b[39mdataset\u001b[38;5;241m.\u001b[39m__getitems__(possibly_batched_index)\n\u001b[1;32m     51\u001b[0m     \u001b[38;5;28;01melse\u001b[39;00m:\n\u001b[0;32m---> 52\u001b[0m         data \u001b[38;5;241m=\u001b[39m [\u001b[38;5;28;43mself\u001b[39;49m\u001b[38;5;241;43m.\u001b[39;49m\u001b[43mdataset\u001b[49m\u001b[43m[\u001b[49m\u001b[43midx\u001b[49m\u001b[43m]\u001b[49m \u001b[38;5;28;01mfor\u001b[39;00m idx \u001b[38;5;129;01min\u001b[39;00m possibly_batched_index]\n\u001b[1;32m     53\u001b[0m \u001b[38;5;28;01melse\u001b[39;00m:\n\u001b[1;32m     54\u001b[0m     data \u001b[38;5;241m=\u001b[39m \u001b[38;5;28mself\u001b[39m\u001b[38;5;241m.\u001b[39mdataset[possibly_batched_index]\n",
            "File \u001b[0;32m/home/tiago/dev/generative_networks/.venv/lib/python3.10/site-packages/torchvision/datasets/folder.py:247\u001b[0m, in \u001b[0;36mDatasetFolder.__getitem__\u001b[0;34m(self, index)\u001b[0m\n\u001b[1;32m    245\u001b[0m sample \u001b[38;5;241m=\u001b[39m \u001b[38;5;28mself\u001b[39m\u001b[38;5;241m.\u001b[39mloader(path)\n\u001b[1;32m    246\u001b[0m \u001b[38;5;28;01mif\u001b[39;00m \u001b[38;5;28mself\u001b[39m\u001b[38;5;241m.\u001b[39mtransform \u001b[38;5;129;01mis\u001b[39;00m \u001b[38;5;129;01mnot\u001b[39;00m \u001b[38;5;28;01mNone\u001b[39;00m:\n\u001b[0;32m--> 247\u001b[0m     sample \u001b[38;5;241m=\u001b[39m \u001b[38;5;28;43mself\u001b[39;49m\u001b[38;5;241;43m.\u001b[39;49m\u001b[43mtransform\u001b[49m\u001b[43m(\u001b[49m\u001b[43msample\u001b[49m\u001b[43m)\u001b[49m\n\u001b[1;32m    248\u001b[0m \u001b[38;5;28;01mif\u001b[39;00m \u001b[38;5;28mself\u001b[39m\u001b[38;5;241m.\u001b[39mtarget_transform \u001b[38;5;129;01mis\u001b[39;00m \u001b[38;5;129;01mnot\u001b[39;00m \u001b[38;5;28;01mNone\u001b[39;00m:\n\u001b[1;32m    249\u001b[0m     target \u001b[38;5;241m=\u001b[39m \u001b[38;5;28mself\u001b[39m\u001b[38;5;241m.\u001b[39mtarget_transform(target)\n",
            "File \u001b[0;32m/home/tiago/dev/generative_networks/.venv/lib/python3.10/site-packages/torchvision/transforms/transforms.py:95\u001b[0m, in \u001b[0;36mCompose.__call__\u001b[0;34m(self, img)\u001b[0m\n\u001b[1;32m     93\u001b[0m \u001b[38;5;28;01mdef\u001b[39;00m \u001b[38;5;21m__call__\u001b[39m(\u001b[38;5;28mself\u001b[39m, img):\n\u001b[1;32m     94\u001b[0m     \u001b[38;5;28;01mfor\u001b[39;00m t \u001b[38;5;129;01min\u001b[39;00m \u001b[38;5;28mself\u001b[39m\u001b[38;5;241m.\u001b[39mtransforms:\n\u001b[0;32m---> 95\u001b[0m         img \u001b[38;5;241m=\u001b[39m \u001b[43mt\u001b[49m\u001b[43m(\u001b[49m\u001b[43mimg\u001b[49m\u001b[43m)\u001b[49m\n\u001b[1;32m     96\u001b[0m     \u001b[38;5;28;01mreturn\u001b[39;00m img\n",
            "File \u001b[0;32m/home/tiago/dev/generative_networks/.venv/lib/python3.10/site-packages/torch/nn/modules/module.py:1553\u001b[0m, in \u001b[0;36mModule._wrapped_call_impl\u001b[0;34m(self, *args, **kwargs)\u001b[0m\n\u001b[1;32m   1551\u001b[0m     \u001b[38;5;28;01mreturn\u001b[39;00m \u001b[38;5;28mself\u001b[39m\u001b[38;5;241m.\u001b[39m_compiled_call_impl(\u001b[38;5;241m*\u001b[39margs, \u001b[38;5;241m*\u001b[39m\u001b[38;5;241m*\u001b[39mkwargs)  \u001b[38;5;66;03m# type: ignore[misc]\u001b[39;00m\n\u001b[1;32m   1552\u001b[0m \u001b[38;5;28;01melse\u001b[39;00m:\n\u001b[0;32m-> 1553\u001b[0m     \u001b[38;5;28;01mreturn\u001b[39;00m \u001b[38;5;28;43mself\u001b[39;49m\u001b[38;5;241;43m.\u001b[39;49m\u001b[43m_call_impl\u001b[49m\u001b[43m(\u001b[49m\u001b[38;5;241;43m*\u001b[39;49m\u001b[43margs\u001b[49m\u001b[43m,\u001b[49m\u001b[43m \u001b[49m\u001b[38;5;241;43m*\u001b[39;49m\u001b[38;5;241;43m*\u001b[39;49m\u001b[43mkwargs\u001b[49m\u001b[43m)\u001b[49m\n",
            "File \u001b[0;32m/home/tiago/dev/generative_networks/.venv/lib/python3.10/site-packages/torch/nn/modules/module.py:1562\u001b[0m, in \u001b[0;36mModule._call_impl\u001b[0;34m(self, *args, **kwargs)\u001b[0m\n\u001b[1;32m   1557\u001b[0m \u001b[38;5;66;03m# If we don't have any hooks, we want to skip the rest of the logic in\u001b[39;00m\n\u001b[1;32m   1558\u001b[0m \u001b[38;5;66;03m# this function, and just call forward.\u001b[39;00m\n\u001b[1;32m   1559\u001b[0m \u001b[38;5;28;01mif\u001b[39;00m \u001b[38;5;129;01mnot\u001b[39;00m (\u001b[38;5;28mself\u001b[39m\u001b[38;5;241m.\u001b[39m_backward_hooks \u001b[38;5;129;01mor\u001b[39;00m \u001b[38;5;28mself\u001b[39m\u001b[38;5;241m.\u001b[39m_backward_pre_hooks \u001b[38;5;129;01mor\u001b[39;00m \u001b[38;5;28mself\u001b[39m\u001b[38;5;241m.\u001b[39m_forward_hooks \u001b[38;5;129;01mor\u001b[39;00m \u001b[38;5;28mself\u001b[39m\u001b[38;5;241m.\u001b[39m_forward_pre_hooks\n\u001b[1;32m   1560\u001b[0m         \u001b[38;5;129;01mor\u001b[39;00m _global_backward_pre_hooks \u001b[38;5;129;01mor\u001b[39;00m _global_backward_hooks\n\u001b[1;32m   1561\u001b[0m         \u001b[38;5;129;01mor\u001b[39;00m _global_forward_hooks \u001b[38;5;129;01mor\u001b[39;00m _global_forward_pre_hooks):\n\u001b[0;32m-> 1562\u001b[0m     \u001b[38;5;28;01mreturn\u001b[39;00m \u001b[43mforward_call\u001b[49m\u001b[43m(\u001b[49m\u001b[38;5;241;43m*\u001b[39;49m\u001b[43margs\u001b[49m\u001b[43m,\u001b[49m\u001b[43m \u001b[49m\u001b[38;5;241;43m*\u001b[39;49m\u001b[38;5;241;43m*\u001b[39;49m\u001b[43mkwargs\u001b[49m\u001b[43m)\u001b[49m\n\u001b[1;32m   1564\u001b[0m \u001b[38;5;28;01mtry\u001b[39;00m:\n\u001b[1;32m   1565\u001b[0m     result \u001b[38;5;241m=\u001b[39m \u001b[38;5;28;01mNone\u001b[39;00m\n",
            "File \u001b[0;32m/home/tiago/dev/generative_networks/.venv/lib/python3.10/site-packages/torchvision/transforms/transforms.py:354\u001b[0m, in \u001b[0;36mResize.forward\u001b[0;34m(self, img)\u001b[0m\n\u001b[1;32m    346\u001b[0m \u001b[38;5;28;01mdef\u001b[39;00m \u001b[38;5;21mforward\u001b[39m(\u001b[38;5;28mself\u001b[39m, img):\n\u001b[1;32m    347\u001b[0m \u001b[38;5;250m    \u001b[39m\u001b[38;5;124;03m\"\"\"\u001b[39;00m\n\u001b[1;32m    348\u001b[0m \u001b[38;5;124;03m    Args:\u001b[39;00m\n\u001b[1;32m    349\u001b[0m \u001b[38;5;124;03m        img (PIL Image or Tensor): Image to be scaled.\u001b[39;00m\n\u001b[0;32m   (...)\u001b[0m\n\u001b[1;32m    352\u001b[0m \u001b[38;5;124;03m        PIL Image or Tensor: Rescaled image.\u001b[39;00m\n\u001b[1;32m    353\u001b[0m \u001b[38;5;124;03m    \"\"\"\u001b[39;00m\n\u001b[0;32m--> 354\u001b[0m     \u001b[38;5;28;01mreturn\u001b[39;00m \u001b[43mF\u001b[49m\u001b[38;5;241;43m.\u001b[39;49m\u001b[43mresize\u001b[49m\u001b[43m(\u001b[49m\u001b[43mimg\u001b[49m\u001b[43m,\u001b[49m\u001b[43m \u001b[49m\u001b[38;5;28;43mself\u001b[39;49m\u001b[38;5;241;43m.\u001b[39;49m\u001b[43msize\u001b[49m\u001b[43m,\u001b[49m\u001b[43m \u001b[49m\u001b[38;5;28;43mself\u001b[39;49m\u001b[38;5;241;43m.\u001b[39;49m\u001b[43minterpolation\u001b[49m\u001b[43m,\u001b[49m\u001b[43m \u001b[49m\u001b[38;5;28;43mself\u001b[39;49m\u001b[38;5;241;43m.\u001b[39;49m\u001b[43mmax_size\u001b[49m\u001b[43m,\u001b[49m\u001b[43m \u001b[49m\u001b[38;5;28;43mself\u001b[39;49m\u001b[38;5;241;43m.\u001b[39;49m\u001b[43mantialias\u001b[49m\u001b[43m)\u001b[49m\n",
            "File \u001b[0;32m/home/tiago/dev/generative_networks/.venv/lib/python3.10/site-packages/torchvision/transforms/functional.py:477\u001b[0m, in \u001b[0;36mresize\u001b[0;34m(img, size, interpolation, max_size, antialias)\u001b[0m\n\u001b[1;32m    475\u001b[0m         warnings\u001b[38;5;241m.\u001b[39mwarn(\u001b[38;5;124m\"\u001b[39m\u001b[38;5;124mAnti-alias option is always applied for PIL Image input. Argument antialias is ignored.\u001b[39m\u001b[38;5;124m\"\u001b[39m)\n\u001b[1;32m    476\u001b[0m     pil_interpolation \u001b[38;5;241m=\u001b[39m pil_modes_mapping[interpolation]\n\u001b[0;32m--> 477\u001b[0m     \u001b[38;5;28;01mreturn\u001b[39;00m \u001b[43mF_pil\u001b[49m\u001b[38;5;241;43m.\u001b[39;49m\u001b[43mresize\u001b[49m\u001b[43m(\u001b[49m\u001b[43mimg\u001b[49m\u001b[43m,\u001b[49m\u001b[43m \u001b[49m\u001b[43msize\u001b[49m\u001b[38;5;241;43m=\u001b[39;49m\u001b[43moutput_size\u001b[49m\u001b[43m,\u001b[49m\u001b[43m \u001b[49m\u001b[43minterpolation\u001b[49m\u001b[38;5;241;43m=\u001b[39;49m\u001b[43mpil_interpolation\u001b[49m\u001b[43m)\u001b[49m\n\u001b[1;32m    479\u001b[0m \u001b[38;5;28;01mreturn\u001b[39;00m F_t\u001b[38;5;241m.\u001b[39mresize(img, size\u001b[38;5;241m=\u001b[39moutput_size, interpolation\u001b[38;5;241m=\u001b[39minterpolation\u001b[38;5;241m.\u001b[39mvalue, antialias\u001b[38;5;241m=\u001b[39mantialias)\n",
            "File \u001b[0;32m/home/tiago/dev/generative_networks/.venv/lib/python3.10/site-packages/torchvision/transforms/_functional_pil.py:250\u001b[0m, in \u001b[0;36mresize\u001b[0;34m(img, size, interpolation)\u001b[0m\n\u001b[1;32m    247\u001b[0m \u001b[38;5;28;01mif\u001b[39;00m \u001b[38;5;129;01mnot\u001b[39;00m (\u001b[38;5;28misinstance\u001b[39m(size, \u001b[38;5;28mlist\u001b[39m) \u001b[38;5;129;01mand\u001b[39;00m \u001b[38;5;28mlen\u001b[39m(size) \u001b[38;5;241m==\u001b[39m \u001b[38;5;241m2\u001b[39m):\n\u001b[1;32m    248\u001b[0m     \u001b[38;5;28;01mraise\u001b[39;00m \u001b[38;5;167;01mTypeError\u001b[39;00m(\u001b[38;5;124mf\u001b[39m\u001b[38;5;124m\"\u001b[39m\u001b[38;5;124mGot inappropriate size arg: \u001b[39m\u001b[38;5;132;01m{\u001b[39;00msize\u001b[38;5;132;01m}\u001b[39;00m\u001b[38;5;124m\"\u001b[39m)\n\u001b[0;32m--> 250\u001b[0m \u001b[38;5;28;01mreturn\u001b[39;00m \u001b[43mimg\u001b[49m\u001b[38;5;241;43m.\u001b[39;49m\u001b[43mresize\u001b[49m\u001b[43m(\u001b[49m\u001b[38;5;28;43mtuple\u001b[39;49m\u001b[43m(\u001b[49m\u001b[43msize\u001b[49m\u001b[43m[\u001b[49m\u001b[43m:\u001b[49m\u001b[43m:\u001b[49m\u001b[38;5;241;43m-\u001b[39;49m\u001b[38;5;241;43m1\u001b[39;49m\u001b[43m]\u001b[49m\u001b[43m)\u001b[49m\u001b[43m,\u001b[49m\u001b[43m \u001b[49m\u001b[43minterpolation\u001b[49m\u001b[43m)\u001b[49m\n",
            "File \u001b[0;32m/home/tiago/dev/generative_networks/.venv/lib/python3.10/site-packages/PIL/Image.py:2328\u001b[0m, in \u001b[0;36mImage.resize\u001b[0;34m(self, size, resample, box, reducing_gap)\u001b[0m\n\u001b[1;32m   2316\u001b[0m         \u001b[38;5;28mself\u001b[39m \u001b[38;5;241m=\u001b[39m (\n\u001b[1;32m   2317\u001b[0m             \u001b[38;5;28mself\u001b[39m\u001b[38;5;241m.\u001b[39mreduce(factor, box\u001b[38;5;241m=\u001b[39mreduce_box)\n\u001b[1;32m   2318\u001b[0m             \u001b[38;5;28;01mif\u001b[39;00m \u001b[38;5;28mcallable\u001b[39m(\u001b[38;5;28mself\u001b[39m\u001b[38;5;241m.\u001b[39mreduce)\n\u001b[1;32m   2319\u001b[0m             \u001b[38;5;28;01melse\u001b[39;00m Image\u001b[38;5;241m.\u001b[39mreduce(\u001b[38;5;28mself\u001b[39m, factor, box\u001b[38;5;241m=\u001b[39mreduce_box)\n\u001b[1;32m   2320\u001b[0m         )\n\u001b[1;32m   2321\u001b[0m         box \u001b[38;5;241m=\u001b[39m (\n\u001b[1;32m   2322\u001b[0m             (box[\u001b[38;5;241m0\u001b[39m] \u001b[38;5;241m-\u001b[39m reduce_box[\u001b[38;5;241m0\u001b[39m]) \u001b[38;5;241m/\u001b[39m factor_x,\n\u001b[1;32m   2323\u001b[0m             (box[\u001b[38;5;241m1\u001b[39m] \u001b[38;5;241m-\u001b[39m reduce_box[\u001b[38;5;241m1\u001b[39m]) \u001b[38;5;241m/\u001b[39m factor_y,\n\u001b[1;32m   2324\u001b[0m             (box[\u001b[38;5;241m2\u001b[39m] \u001b[38;5;241m-\u001b[39m reduce_box[\u001b[38;5;241m0\u001b[39m]) \u001b[38;5;241m/\u001b[39m factor_x,\n\u001b[1;32m   2325\u001b[0m             (box[\u001b[38;5;241m3\u001b[39m] \u001b[38;5;241m-\u001b[39m reduce_box[\u001b[38;5;241m1\u001b[39m]) \u001b[38;5;241m/\u001b[39m factor_y,\n\u001b[1;32m   2326\u001b[0m         )\n\u001b[0;32m-> 2328\u001b[0m \u001b[38;5;28;01mreturn\u001b[39;00m \u001b[38;5;28mself\u001b[39m\u001b[38;5;241m.\u001b[39m_new(\u001b[38;5;28;43mself\u001b[39;49m\u001b[38;5;241;43m.\u001b[39;49m\u001b[43mim\u001b[49m\u001b[38;5;241;43m.\u001b[39;49m\u001b[43mresize\u001b[49m\u001b[43m(\u001b[49m\u001b[43msize\u001b[49m\u001b[43m,\u001b[49m\u001b[43m \u001b[49m\u001b[43mresample\u001b[49m\u001b[43m,\u001b[49m\u001b[43m \u001b[49m\u001b[43mbox\u001b[49m\u001b[43m)\u001b[49m)\n",
            "\u001b[0;31mKeyboardInterrupt\u001b[0m: "
          ]
        }
      ],
      "source": [
        "shutil.rmtree('./models/')\n",
        "shutil.rmtree('./results/')\n",
        "\n",
        "os.makedirs('./models/', exist_ok=True)\n",
        "os.makedirs('./results/', exist_ok=True)\n",
        "\n",
        "\n",
        "epochs = 3000\n",
        "\n",
        "train_losses,val_losses=[],[]\n",
        "train_losses_bce,train_losses_kld=[],[]\n",
        "\n",
        "for epoch in range(1,epochs+1):\n",
        "  train(epoch)\n",
        "  if epoch%50==0:\n",
        "    sample_latent_space(epoch)\n",
        "\n",
        "np.savetxt('./models/training_losses.txt', np.array(train_losses), delimiter='\\n')\n",
        "np.savetxt('./models/training_losses_bce.txt', np.array(train_losses_bce), delimiter='\\n')\n",
        "np.savetxt('./models/training_losses_kld.txt', np.array(train_losses_kld), delimiter='\\n')\n",
        "np.savetxt('./models/validation_losses.txt', np.array(val_losses), delimiter='\\n')"
      ]
    },
    {
      "cell_type": "code",
      "execution_count": 44,
      "metadata": {
        "id": "NMK-UdW8WO8I"
      },
      "outputs": [
        {
          "data": {
            "image/svg+xml": [
              "<?xml version=\"1.0\" encoding=\"utf-8\" standalone=\"no\"?>\n",
              "<!DOCTYPE svg PUBLIC \"-//W3C//DTD SVG 1.1//EN\"\n",
              "  \"http://www.w3.org/Graphics/SVG/1.1/DTD/svg11.dtd\">\n",
              "<svg xmlns:xlink=\"http://www.w3.org/1999/xlink\" width=\"413.22125pt\" height=\"329.745625pt\" viewBox=\"0 0 413.22125 329.745625\" xmlns=\"http://www.w3.org/2000/svg\" version=\"1.1\">\n",
              " <metadata>\n",
              "  <rdf:RDF xmlns:dc=\"http://purl.org/dc/elements/1.1/\" xmlns:cc=\"http://creativecommons.org/ns#\" xmlns:rdf=\"http://www.w3.org/1999/02/22-rdf-syntax-ns#\">\n",
              "   <cc:Work>\n",
              "    <dc:type rdf:resource=\"http://purl.org/dc/dcmitype/StillImage\"/>\n",
              "    <dc:date>2024-09-27T11:03:27.369172</dc:date>\n",
              "    <dc:format>image/svg+xml</dc:format>\n",
              "    <dc:creator>\n",
              "     <cc:Agent>\n",
              "      <dc:title>Matplotlib v3.7.1, https://matplotlib.org/</dc:title>\n",
              "     </cc:Agent>\n",
              "    </dc:creator>\n",
              "   </cc:Work>\n",
              "  </rdf:RDF>\n",
              " </metadata>\n",
              " <defs>\n",
              "  <style type=\"text/css\">*{stroke-linejoin: round; stroke-linecap: butt}</style>\n",
              " </defs>\n",
              " <g id=\"figure_1\">\n",
              "  <g id=\"patch_1\">\n",
              "   <path d=\"M 0 329.745625 \n",
              "L 413.22125 329.745625 \n",
              "L 413.22125 0 \n",
              "L 0 0 \n",
              "z\n",
              "\" style=\"fill: #ffffff\"/>\n",
              "  </g>\n",
              "  <g id=\"axes_1\">\n",
              "   <g id=\"patch_2\">\n",
              "    <path d=\"M 48.90125 290.25375 \n",
              "L 406.02125 290.25375 \n",
              "L 406.02125 24.14175 \n",
              "L 48.90125 24.14175 \n",
              "z\n",
              "\" style=\"fill: #e5e5e5\"/>\n",
              "   </g>\n",
              "   <g id=\"matplotlib.axis_1\">\n",
              "    <g id=\"xtick_1\">\n",
              "     <g id=\"line2d_1\">\n",
              "      <path d=\"M 65.133977 290.25375 \n",
              "L 65.133977 24.14175 \n",
              "\" clip-path=\"url(#pa7fc78ffa4)\" style=\"fill: none; stroke: #ffffff; stroke-width: 0.8; stroke-linecap: square\"/>\n",
              "     </g>\n",
              "     <g id=\"line2d_2\">\n",
              "      <defs>\n",
              "       <path id=\"m7e8f465d81\" d=\"M 0 0 \n",
              "L 0 3.5 \n",
              "\" style=\"stroke: #555555; stroke-width: 0.8\"/>\n",
              "      </defs>\n",
              "      <g>\n",
              "       <use xlink:href=\"#m7e8f465d81\" x=\"65.133977\" y=\"290.25375\" style=\"fill: #555555; stroke: #555555; stroke-width: 0.8\"/>\n",
              "      </g>\n",
              "     </g>\n",
              "     <g id=\"text_1\">\n",
              "      <!-- 1.0 -->\n",
              "      <g style=\"fill: #555555\" transform=\"translate(57.182415 304.852187) scale(0.1 -0.1)\">\n",
              "       <defs>\n",
              "        <path id=\"DejaVuSans-31\" d=\"M 794 531 \n",
              "L 1825 531 \n",
              "L 1825 4091 \n",
              "L 703 3866 \n",
              "L 703 4441 \n",
              "L 1819 4666 \n",
              "L 2450 4666 \n",
              "L 2450 531 \n",
              "L 3481 531 \n",
              "L 3481 0 \n",
              "L 794 0 \n",
              "L 794 531 \n",
              "z\n",
              "\" transform=\"scale(0.015625)\"/>\n",
              "        <path id=\"DejaVuSans-2e\" d=\"M 684 794 \n",
              "L 1344 794 \n",
              "L 1344 0 \n",
              "L 684 0 \n",
              "L 684 794 \n",
              "z\n",
              "\" transform=\"scale(0.015625)\"/>\n",
              "        <path id=\"DejaVuSans-30\" d=\"M 2034 4250 \n",
              "Q 1547 4250 1301 3770 \n",
              "Q 1056 3291 1056 2328 \n",
              "Q 1056 1369 1301 889 \n",
              "Q 1547 409 2034 409 \n",
              "Q 2525 409 2770 889 \n",
              "Q 3016 1369 3016 2328 \n",
              "Q 3016 3291 2770 3770 \n",
              "Q 2525 4250 2034 4250 \n",
              "z\n",
              "M 2034 4750 \n",
              "Q 2819 4750 3233 4129 \n",
              "Q 3647 3509 3647 2328 \n",
              "Q 3647 1150 3233 529 \n",
              "Q 2819 -91 2034 -91 \n",
              "Q 1250 -91 836 529 \n",
              "Q 422 1150 422 2328 \n",
              "Q 422 3509 836 4129 \n",
              "Q 1250 4750 2034 4750 \n",
              "z\n",
              "\" transform=\"scale(0.015625)\"/>\n",
              "       </defs>\n",
              "       <use xlink:href=\"#DejaVuSans-31\"/>\n",
              "       <use xlink:href=\"#DejaVuSans-2e\" x=\"63.623047\"/>\n",
              "       <use xlink:href=\"#DejaVuSans-30\" x=\"95.410156\"/>\n",
              "      </g>\n",
              "     </g>\n",
              "    </g>\n",
              "    <g id=\"xtick_2\">\n",
              "     <g id=\"line2d_3\">\n",
              "      <path d=\"M 105.715795 290.25375 \n",
              "L 105.715795 24.14175 \n",
              "\" clip-path=\"url(#pa7fc78ffa4)\" style=\"fill: none; stroke: #ffffff; stroke-width: 0.8; stroke-linecap: square\"/>\n",
              "     </g>\n",
              "     <g id=\"line2d_4\">\n",
              "      <g>\n",
              "       <use xlink:href=\"#m7e8f465d81\" x=\"105.715795\" y=\"290.25375\" style=\"fill: #555555; stroke: #555555; stroke-width: 0.8\"/>\n",
              "      </g>\n",
              "     </g>\n",
              "     <g id=\"text_2\">\n",
              "      <!-- 1.5 -->\n",
              "      <g style=\"fill: #555555\" transform=\"translate(97.764233 304.852187) scale(0.1 -0.1)\">\n",
              "       <defs>\n",
              "        <path id=\"DejaVuSans-35\" d=\"M 691 4666 \n",
              "L 3169 4666 \n",
              "L 3169 4134 \n",
              "L 1269 4134 \n",
              "L 1269 2991 \n",
              "Q 1406 3038 1543 3061 \n",
              "Q 1681 3084 1819 3084 \n",
              "Q 2600 3084 3056 2656 \n",
              "Q 3513 2228 3513 1497 \n",
              "Q 3513 744 3044 326 \n",
              "Q 2575 -91 1722 -91 \n",
              "Q 1428 -91 1123 -41 \n",
              "Q 819 9 494 109 \n",
              "L 494 744 \n",
              "Q 775 591 1075 516 \n",
              "Q 1375 441 1709 441 \n",
              "Q 2250 441 2565 725 \n",
              "Q 2881 1009 2881 1497 \n",
              "Q 2881 1984 2565 2268 \n",
              "Q 2250 2553 1709 2553 \n",
              "Q 1456 2553 1204 2497 \n",
              "Q 953 2441 691 2322 \n",
              "L 691 4666 \n",
              "z\n",
              "\" transform=\"scale(0.015625)\"/>\n",
              "       </defs>\n",
              "       <use xlink:href=\"#DejaVuSans-31\"/>\n",
              "       <use xlink:href=\"#DejaVuSans-2e\" x=\"63.623047\"/>\n",
              "       <use xlink:href=\"#DejaVuSans-35\" x=\"95.410156\"/>\n",
              "      </g>\n",
              "     </g>\n",
              "    </g>\n",
              "    <g id=\"xtick_3\">\n",
              "     <g id=\"line2d_5\">\n",
              "      <path d=\"M 146.297614 290.25375 \n",
              "L 146.297614 24.14175 \n",
              "\" clip-path=\"url(#pa7fc78ffa4)\" style=\"fill: none; stroke: #ffffff; stroke-width: 0.8; stroke-linecap: square\"/>\n",
              "     </g>\n",
              "     <g id=\"line2d_6\">\n",
              "      <g>\n",
              "       <use xlink:href=\"#m7e8f465d81\" x=\"146.297614\" y=\"290.25375\" style=\"fill: #555555; stroke: #555555; stroke-width: 0.8\"/>\n",
              "      </g>\n",
              "     </g>\n",
              "     <g id=\"text_3\">\n",
              "      <!-- 2.0 -->\n",
              "      <g style=\"fill: #555555\" transform=\"translate(138.346051 304.852187) scale(0.1 -0.1)\">\n",
              "       <defs>\n",
              "        <path id=\"DejaVuSans-32\" d=\"M 1228 531 \n",
              "L 3431 531 \n",
              "L 3431 0 \n",
              "L 469 0 \n",
              "L 469 531 \n",
              "Q 828 903 1448 1529 \n",
              "Q 2069 2156 2228 2338 \n",
              "Q 2531 2678 2651 2914 \n",
              "Q 2772 3150 2772 3378 \n",
              "Q 2772 3750 2511 3984 \n",
              "Q 2250 4219 1831 4219 \n",
              "Q 1534 4219 1204 4116 \n",
              "Q 875 4013 500 3803 \n",
              "L 500 4441 \n",
              "Q 881 4594 1212 4672 \n",
              "Q 1544 4750 1819 4750 \n",
              "Q 2544 4750 2975 4387 \n",
              "Q 3406 4025 3406 3419 \n",
              "Q 3406 3131 3298 2873 \n",
              "Q 3191 2616 2906 2266 \n",
              "Q 2828 2175 2409 1742 \n",
              "Q 1991 1309 1228 531 \n",
              "z\n",
              "\" transform=\"scale(0.015625)\"/>\n",
              "       </defs>\n",
              "       <use xlink:href=\"#DejaVuSans-32\"/>\n",
              "       <use xlink:href=\"#DejaVuSans-2e\" x=\"63.623047\"/>\n",
              "       <use xlink:href=\"#DejaVuSans-30\" x=\"95.410156\"/>\n",
              "      </g>\n",
              "     </g>\n",
              "    </g>\n",
              "    <g id=\"xtick_4\">\n",
              "     <g id=\"line2d_7\">\n",
              "      <path d=\"M 186.879432 290.25375 \n",
              "L 186.879432 24.14175 \n",
              "\" clip-path=\"url(#pa7fc78ffa4)\" style=\"fill: none; stroke: #ffffff; stroke-width: 0.8; stroke-linecap: square\"/>\n",
              "     </g>\n",
              "     <g id=\"line2d_8\">\n",
              "      <g>\n",
              "       <use xlink:href=\"#m7e8f465d81\" x=\"186.879432\" y=\"290.25375\" style=\"fill: #555555; stroke: #555555; stroke-width: 0.8\"/>\n",
              "      </g>\n",
              "     </g>\n",
              "     <g id=\"text_4\">\n",
              "      <!-- 2.5 -->\n",
              "      <g style=\"fill: #555555\" transform=\"translate(178.927869 304.852187) scale(0.1 -0.1)\">\n",
              "       <use xlink:href=\"#DejaVuSans-32\"/>\n",
              "       <use xlink:href=\"#DejaVuSans-2e\" x=\"63.623047\"/>\n",
              "       <use xlink:href=\"#DejaVuSans-35\" x=\"95.410156\"/>\n",
              "      </g>\n",
              "     </g>\n",
              "    </g>\n",
              "    <g id=\"xtick_5\">\n",
              "     <g id=\"line2d_9\">\n",
              "      <path d=\"M 227.46125 290.25375 \n",
              "L 227.46125 24.14175 \n",
              "\" clip-path=\"url(#pa7fc78ffa4)\" style=\"fill: none; stroke: #ffffff; stroke-width: 0.8; stroke-linecap: square\"/>\n",
              "     </g>\n",
              "     <g id=\"line2d_10\">\n",
              "      <g>\n",
              "       <use xlink:href=\"#m7e8f465d81\" x=\"227.46125\" y=\"290.25375\" style=\"fill: #555555; stroke: #555555; stroke-width: 0.8\"/>\n",
              "      </g>\n",
              "     </g>\n",
              "     <g id=\"text_5\">\n",
              "      <!-- 3.0 -->\n",
              "      <g style=\"fill: #555555\" transform=\"translate(219.509687 304.852187) scale(0.1 -0.1)\">\n",
              "       <defs>\n",
              "        <path id=\"DejaVuSans-33\" d=\"M 2597 2516 \n",
              "Q 3050 2419 3304 2112 \n",
              "Q 3559 1806 3559 1356 \n",
              "Q 3559 666 3084 287 \n",
              "Q 2609 -91 1734 -91 \n",
              "Q 1441 -91 1130 -33 \n",
              "Q 819 25 488 141 \n",
              "L 488 750 \n",
              "Q 750 597 1062 519 \n",
              "Q 1375 441 1716 441 \n",
              "Q 2309 441 2620 675 \n",
              "Q 2931 909 2931 1356 \n",
              "Q 2931 1769 2642 2001 \n",
              "Q 2353 2234 1838 2234 \n",
              "L 1294 2234 \n",
              "L 1294 2753 \n",
              "L 1863 2753 \n",
              "Q 2328 2753 2575 2939 \n",
              "Q 2822 3125 2822 3475 \n",
              "Q 2822 3834 2567 4026 \n",
              "Q 2313 4219 1838 4219 \n",
              "Q 1578 4219 1281 4162 \n",
              "Q 984 4106 628 3988 \n",
              "L 628 4550 \n",
              "Q 988 4650 1302 4700 \n",
              "Q 1616 4750 1894 4750 \n",
              "Q 2613 4750 3031 4423 \n",
              "Q 3450 4097 3450 3541 \n",
              "Q 3450 3153 3228 2886 \n",
              "Q 3006 2619 2597 2516 \n",
              "z\n",
              "\" transform=\"scale(0.015625)\"/>\n",
              "       </defs>\n",
              "       <use xlink:href=\"#DejaVuSans-33\"/>\n",
              "       <use xlink:href=\"#DejaVuSans-2e\" x=\"63.623047\"/>\n",
              "       <use xlink:href=\"#DejaVuSans-30\" x=\"95.410156\"/>\n",
              "      </g>\n",
              "     </g>\n",
              "    </g>\n",
              "    <g id=\"xtick_6\">\n",
              "     <g id=\"line2d_11\">\n",
              "      <path d=\"M 268.043068 290.25375 \n",
              "L 268.043068 24.14175 \n",
              "\" clip-path=\"url(#pa7fc78ffa4)\" style=\"fill: none; stroke: #ffffff; stroke-width: 0.8; stroke-linecap: square\"/>\n",
              "     </g>\n",
              "     <g id=\"line2d_12\">\n",
              "      <g>\n",
              "       <use xlink:href=\"#m7e8f465d81\" x=\"268.043068\" y=\"290.25375\" style=\"fill: #555555; stroke: #555555; stroke-width: 0.8\"/>\n",
              "      </g>\n",
              "     </g>\n",
              "     <g id=\"text_6\">\n",
              "      <!-- 3.5 -->\n",
              "      <g style=\"fill: #555555\" transform=\"translate(260.091506 304.852187) scale(0.1 -0.1)\">\n",
              "       <use xlink:href=\"#DejaVuSans-33\"/>\n",
              "       <use xlink:href=\"#DejaVuSans-2e\" x=\"63.623047\"/>\n",
              "       <use xlink:href=\"#DejaVuSans-35\" x=\"95.410156\"/>\n",
              "      </g>\n",
              "     </g>\n",
              "    </g>\n",
              "    <g id=\"xtick_7\">\n",
              "     <g id=\"line2d_13\">\n",
              "      <path d=\"M 308.624886 290.25375 \n",
              "L 308.624886 24.14175 \n",
              "\" clip-path=\"url(#pa7fc78ffa4)\" style=\"fill: none; stroke: #ffffff; stroke-width: 0.8; stroke-linecap: square\"/>\n",
              "     </g>\n",
              "     <g id=\"line2d_14\">\n",
              "      <g>\n",
              "       <use xlink:href=\"#m7e8f465d81\" x=\"308.624886\" y=\"290.25375\" style=\"fill: #555555; stroke: #555555; stroke-width: 0.8\"/>\n",
              "      </g>\n",
              "     </g>\n",
              "     <g id=\"text_7\">\n",
              "      <!-- 4.0 -->\n",
              "      <g style=\"fill: #555555\" transform=\"translate(300.673324 304.852187) scale(0.1 -0.1)\">\n",
              "       <defs>\n",
              "        <path id=\"DejaVuSans-34\" d=\"M 2419 4116 \n",
              "L 825 1625 \n",
              "L 2419 1625 \n",
              "L 2419 4116 \n",
              "z\n",
              "M 2253 4666 \n",
              "L 3047 4666 \n",
              "L 3047 1625 \n",
              "L 3713 1625 \n",
              "L 3713 1100 \n",
              "L 3047 1100 \n",
              "L 3047 0 \n",
              "L 2419 0 \n",
              "L 2419 1100 \n",
              "L 313 1100 \n",
              "L 313 1709 \n",
              "L 2253 4666 \n",
              "z\n",
              "\" transform=\"scale(0.015625)\"/>\n",
              "       </defs>\n",
              "       <use xlink:href=\"#DejaVuSans-34\"/>\n",
              "       <use xlink:href=\"#DejaVuSans-2e\" x=\"63.623047\"/>\n",
              "       <use xlink:href=\"#DejaVuSans-30\" x=\"95.410156\"/>\n",
              "      </g>\n",
              "     </g>\n",
              "    </g>\n",
              "    <g id=\"xtick_8\">\n",
              "     <g id=\"line2d_15\">\n",
              "      <path d=\"M 349.206705 290.25375 \n",
              "L 349.206705 24.14175 \n",
              "\" clip-path=\"url(#pa7fc78ffa4)\" style=\"fill: none; stroke: #ffffff; stroke-width: 0.8; stroke-linecap: square\"/>\n",
              "     </g>\n",
              "     <g id=\"line2d_16\">\n",
              "      <g>\n",
              "       <use xlink:href=\"#m7e8f465d81\" x=\"349.206705\" y=\"290.25375\" style=\"fill: #555555; stroke: #555555; stroke-width: 0.8\"/>\n",
              "      </g>\n",
              "     </g>\n",
              "     <g id=\"text_8\">\n",
              "      <!-- 4.5 -->\n",
              "      <g style=\"fill: #555555\" transform=\"translate(341.255142 304.852187) scale(0.1 -0.1)\">\n",
              "       <use xlink:href=\"#DejaVuSans-34\"/>\n",
              "       <use xlink:href=\"#DejaVuSans-2e\" x=\"63.623047\"/>\n",
              "       <use xlink:href=\"#DejaVuSans-35\" x=\"95.410156\"/>\n",
              "      </g>\n",
              "     </g>\n",
              "    </g>\n",
              "    <g id=\"xtick_9\">\n",
              "     <g id=\"line2d_17\">\n",
              "      <path d=\"M 389.788523 290.25375 \n",
              "L 389.788523 24.14175 \n",
              "\" clip-path=\"url(#pa7fc78ffa4)\" style=\"fill: none; stroke: #ffffff; stroke-width: 0.8; stroke-linecap: square\"/>\n",
              "     </g>\n",
              "     <g id=\"line2d_18\">\n",
              "      <g>\n",
              "       <use xlink:href=\"#m7e8f465d81\" x=\"389.788523\" y=\"290.25375\" style=\"fill: #555555; stroke: #555555; stroke-width: 0.8\"/>\n",
              "      </g>\n",
              "     </g>\n",
              "     <g id=\"text_9\">\n",
              "      <!-- 5.0 -->\n",
              "      <g style=\"fill: #555555\" transform=\"translate(381.83696 304.852187) scale(0.1 -0.1)\">\n",
              "       <use xlink:href=\"#DejaVuSans-35\"/>\n",
              "       <use xlink:href=\"#DejaVuSans-2e\" x=\"63.623047\"/>\n",
              "       <use xlink:href=\"#DejaVuSans-30\" x=\"95.410156\"/>\n",
              "      </g>\n",
              "     </g>\n",
              "    </g>\n",
              "    <g id=\"text_10\">\n",
              "     <!-- Epoch -->\n",
              "     <g style=\"fill: #555555\" transform=\"translate(209.088125 320.05) scale(0.12 -0.12)\">\n",
              "      <defs>\n",
              "       <path id=\"DejaVuSans-45\" d=\"M 628 4666 \n",
              "L 3578 4666 \n",
              "L 3578 4134 \n",
              "L 1259 4134 \n",
              "L 1259 2753 \n",
              "L 3481 2753 \n",
              "L 3481 2222 \n",
              "L 1259 2222 \n",
              "L 1259 531 \n",
              "L 3634 531 \n",
              "L 3634 0 \n",
              "L 628 0 \n",
              "L 628 4666 \n",
              "z\n",
              "\" transform=\"scale(0.015625)\"/>\n",
              "       <path id=\"DejaVuSans-70\" d=\"M 1159 525 \n",
              "L 1159 -1331 \n",
              "L 581 -1331 \n",
              "L 581 3500 \n",
              "L 1159 3500 \n",
              "L 1159 2969 \n",
              "Q 1341 3281 1617 3432 \n",
              "Q 1894 3584 2278 3584 \n",
              "Q 2916 3584 3314 3078 \n",
              "Q 3713 2572 3713 1747 \n",
              "Q 3713 922 3314 415 \n",
              "Q 2916 -91 2278 -91 \n",
              "Q 1894 -91 1617 61 \n",
              "Q 1341 213 1159 525 \n",
              "z\n",
              "M 3116 1747 \n",
              "Q 3116 2381 2855 2742 \n",
              "Q 2594 3103 2138 3103 \n",
              "Q 1681 3103 1420 2742 \n",
              "Q 1159 2381 1159 1747 \n",
              "Q 1159 1113 1420 752 \n",
              "Q 1681 391 2138 391 \n",
              "Q 2594 391 2855 752 \n",
              "Q 3116 1113 3116 1747 \n",
              "z\n",
              "\" transform=\"scale(0.015625)\"/>\n",
              "       <path id=\"DejaVuSans-6f\" d=\"M 1959 3097 \n",
              "Q 1497 3097 1228 2736 \n",
              "Q 959 2375 959 1747 \n",
              "Q 959 1119 1226 758 \n",
              "Q 1494 397 1959 397 \n",
              "Q 2419 397 2687 759 \n",
              "Q 2956 1122 2956 1747 \n",
              "Q 2956 2369 2687 2733 \n",
              "Q 2419 3097 1959 3097 \n",
              "z\n",
              "M 1959 3584 \n",
              "Q 2709 3584 3137 3096 \n",
              "Q 3566 2609 3566 1747 \n",
              "Q 3566 888 3137 398 \n",
              "Q 2709 -91 1959 -91 \n",
              "Q 1206 -91 779 398 \n",
              "Q 353 888 353 1747 \n",
              "Q 353 2609 779 3096 \n",
              "Q 1206 3584 1959 3584 \n",
              "z\n",
              "\" transform=\"scale(0.015625)\"/>\n",
              "       <path id=\"DejaVuSans-63\" d=\"M 3122 3366 \n",
              "L 3122 2828 \n",
              "Q 2878 2963 2633 3030 \n",
              "Q 2388 3097 2138 3097 \n",
              "Q 1578 3097 1268 2742 \n",
              "Q 959 2388 959 1747 \n",
              "Q 959 1106 1268 751 \n",
              "Q 1578 397 2138 397 \n",
              "Q 2388 397 2633 464 \n",
              "Q 2878 531 3122 666 \n",
              "L 3122 134 \n",
              "Q 2881 22 2623 -34 \n",
              "Q 2366 -91 2075 -91 \n",
              "Q 1284 -91 818 406 \n",
              "Q 353 903 353 1747 \n",
              "Q 353 2603 823 3093 \n",
              "Q 1294 3584 2113 3584 \n",
              "Q 2378 3584 2631 3529 \n",
              "Q 2884 3475 3122 3366 \n",
              "z\n",
              "\" transform=\"scale(0.015625)\"/>\n",
              "       <path id=\"DejaVuSans-68\" d=\"M 3513 2113 \n",
              "L 3513 0 \n",
              "L 2938 0 \n",
              "L 2938 2094 \n",
              "Q 2938 2591 2744 2837 \n",
              "Q 2550 3084 2163 3084 \n",
              "Q 1697 3084 1428 2787 \n",
              "Q 1159 2491 1159 1978 \n",
              "L 1159 0 \n",
              "L 581 0 \n",
              "L 581 4863 \n",
              "L 1159 4863 \n",
              "L 1159 2956 \n",
              "Q 1366 3272 1645 3428 \n",
              "Q 1925 3584 2291 3584 \n",
              "Q 2894 3584 3203 3211 \n",
              "Q 3513 2838 3513 2113 \n",
              "z\n",
              "\" transform=\"scale(0.015625)\"/>\n",
              "      </defs>\n",
              "      <use xlink:href=\"#DejaVuSans-45\"/>\n",
              "      <use xlink:href=\"#DejaVuSans-70\" x=\"63.183594\"/>\n",
              "      <use xlink:href=\"#DejaVuSans-6f\" x=\"126.660156\"/>\n",
              "      <use xlink:href=\"#DejaVuSans-63\" x=\"187.841797\"/>\n",
              "      <use xlink:href=\"#DejaVuSans-68\" x=\"242.822266\"/>\n",
              "     </g>\n",
              "    </g>\n",
              "   </g>\n",
              "   <g id=\"matplotlib.axis_2\">\n",
              "    <g id=\"ytick_1\">\n",
              "     <g id=\"line2d_19\">\n",
              "      <path d=\"M 48.90125 288.978195 \n",
              "L 406.02125 288.978195 \n",
              "\" clip-path=\"url(#pa7fc78ffa4)\" style=\"fill: none; stroke: #ffffff; stroke-width: 0.8; stroke-linecap: square\"/>\n",
              "     </g>\n",
              "     <g id=\"line2d_20\">\n",
              "      <defs>\n",
              "       <path id=\"mf8ecf792d4\" d=\"M 0 0 \n",
              "L -3.5 0 \n",
              "\" style=\"stroke: #555555; stroke-width: 0.8\"/>\n",
              "      </defs>\n",
              "      <g>\n",
              "       <use xlink:href=\"#mf8ecf792d4\" x=\"48.90125\" y=\"288.978195\" style=\"fill: #555555; stroke: #555555; stroke-width: 0.8\"/>\n",
              "      </g>\n",
              "     </g>\n",
              "     <g id=\"text_11\">\n",
              "      <!-- 0 -->\n",
              "      <g style=\"fill: #555555\" transform=\"translate(35.53875 292.777413) scale(0.1 -0.1)\">\n",
              "       <use xlink:href=\"#DejaVuSans-30\"/>\n",
              "      </g>\n",
              "     </g>\n",
              "    </g>\n",
              "    <g id=\"ytick_2\">\n",
              "     <g id=\"line2d_21\">\n",
              "      <path d=\"M 48.90125 251.027477 \n",
              "L 406.02125 251.027477 \n",
              "\" clip-path=\"url(#pa7fc78ffa4)\" style=\"fill: none; stroke: #ffffff; stroke-width: 0.8; stroke-linecap: square\"/>\n",
              "     </g>\n",
              "     <g id=\"line2d_22\">\n",
              "      <g>\n",
              "       <use xlink:href=\"#mf8ecf792d4\" x=\"48.90125\" y=\"251.027477\" style=\"fill: #555555; stroke: #555555; stroke-width: 0.8\"/>\n",
              "      </g>\n",
              "     </g>\n",
              "     <g id=\"text_12\">\n",
              "      <!-- 100 -->\n",
              "      <g style=\"fill: #555555\" transform=\"translate(22.81375 254.826695) scale(0.1 -0.1)\">\n",
              "       <use xlink:href=\"#DejaVuSans-31\"/>\n",
              "       <use xlink:href=\"#DejaVuSans-30\" x=\"63.623047\"/>\n",
              "       <use xlink:href=\"#DejaVuSans-30\" x=\"127.246094\"/>\n",
              "      </g>\n",
              "     </g>\n",
              "    </g>\n",
              "    <g id=\"ytick_3\">\n",
              "     <g id=\"line2d_23\">\n",
              "      <path d=\"M 48.90125 213.076759 \n",
              "L 406.02125 213.076759 \n",
              "\" clip-path=\"url(#pa7fc78ffa4)\" style=\"fill: none; stroke: #ffffff; stroke-width: 0.8; stroke-linecap: square\"/>\n",
              "     </g>\n",
              "     <g id=\"line2d_24\">\n",
              "      <g>\n",
              "       <use xlink:href=\"#mf8ecf792d4\" x=\"48.90125\" y=\"213.076759\" style=\"fill: #555555; stroke: #555555; stroke-width: 0.8\"/>\n",
              "      </g>\n",
              "     </g>\n",
              "     <g id=\"text_13\">\n",
              "      <!-- 200 -->\n",
              "      <g style=\"fill: #555555\" transform=\"translate(22.81375 216.875978) scale(0.1 -0.1)\">\n",
              "       <use xlink:href=\"#DejaVuSans-32\"/>\n",
              "       <use xlink:href=\"#DejaVuSans-30\" x=\"63.623047\"/>\n",
              "       <use xlink:href=\"#DejaVuSans-30\" x=\"127.246094\"/>\n",
              "      </g>\n",
              "     </g>\n",
              "    </g>\n",
              "    <g id=\"ytick_4\">\n",
              "     <g id=\"line2d_25\">\n",
              "      <path d=\"M 48.90125 175.126041 \n",
              "L 406.02125 175.126041 \n",
              "\" clip-path=\"url(#pa7fc78ffa4)\" style=\"fill: none; stroke: #ffffff; stroke-width: 0.8; stroke-linecap: square\"/>\n",
              "     </g>\n",
              "     <g id=\"line2d_26\">\n",
              "      <g>\n",
              "       <use xlink:href=\"#mf8ecf792d4\" x=\"48.90125\" y=\"175.126041\" style=\"fill: #555555; stroke: #555555; stroke-width: 0.8\"/>\n",
              "      </g>\n",
              "     </g>\n",
              "     <g id=\"text_14\">\n",
              "      <!-- 300 -->\n",
              "      <g style=\"fill: #555555\" transform=\"translate(22.81375 178.92526) scale(0.1 -0.1)\">\n",
              "       <use xlink:href=\"#DejaVuSans-33\"/>\n",
              "       <use xlink:href=\"#DejaVuSans-30\" x=\"63.623047\"/>\n",
              "       <use xlink:href=\"#DejaVuSans-30\" x=\"127.246094\"/>\n",
              "      </g>\n",
              "     </g>\n",
              "    </g>\n",
              "    <g id=\"ytick_5\">\n",
              "     <g id=\"line2d_27\">\n",
              "      <path d=\"M 48.90125 137.175323 \n",
              "L 406.02125 137.175323 \n",
              "\" clip-path=\"url(#pa7fc78ffa4)\" style=\"fill: none; stroke: #ffffff; stroke-width: 0.8; stroke-linecap: square\"/>\n",
              "     </g>\n",
              "     <g id=\"line2d_28\">\n",
              "      <g>\n",
              "       <use xlink:href=\"#mf8ecf792d4\" x=\"48.90125\" y=\"137.175323\" style=\"fill: #555555; stroke: #555555; stroke-width: 0.8\"/>\n",
              "      </g>\n",
              "     </g>\n",
              "     <g id=\"text_15\">\n",
              "      <!-- 400 -->\n",
              "      <g style=\"fill: #555555\" transform=\"translate(22.81375 140.974542) scale(0.1 -0.1)\">\n",
              "       <use xlink:href=\"#DejaVuSans-34\"/>\n",
              "       <use xlink:href=\"#DejaVuSans-30\" x=\"63.623047\"/>\n",
              "       <use xlink:href=\"#DejaVuSans-30\" x=\"127.246094\"/>\n",
              "      </g>\n",
              "     </g>\n",
              "    </g>\n",
              "    <g id=\"ytick_6\">\n",
              "     <g id=\"line2d_29\">\n",
              "      <path d=\"M 48.90125 99.224605 \n",
              "L 406.02125 99.224605 \n",
              "\" clip-path=\"url(#pa7fc78ffa4)\" style=\"fill: none; stroke: #ffffff; stroke-width: 0.8; stroke-linecap: square\"/>\n",
              "     </g>\n",
              "     <g id=\"line2d_30\">\n",
              "      <g>\n",
              "       <use xlink:href=\"#mf8ecf792d4\" x=\"48.90125\" y=\"99.224605\" style=\"fill: #555555; stroke: #555555; stroke-width: 0.8\"/>\n",
              "      </g>\n",
              "     </g>\n",
              "     <g id=\"text_16\">\n",
              "      <!-- 500 -->\n",
              "      <g style=\"fill: #555555\" transform=\"translate(22.81375 103.023824) scale(0.1 -0.1)\">\n",
              "       <use xlink:href=\"#DejaVuSans-35\"/>\n",
              "       <use xlink:href=\"#DejaVuSans-30\" x=\"63.623047\"/>\n",
              "       <use xlink:href=\"#DejaVuSans-30\" x=\"127.246094\"/>\n",
              "      </g>\n",
              "     </g>\n",
              "    </g>\n",
              "    <g id=\"ytick_7\">\n",
              "     <g id=\"line2d_31\">\n",
              "      <path d=\"M 48.90125 61.273887 \n",
              "L 406.02125 61.273887 \n",
              "\" clip-path=\"url(#pa7fc78ffa4)\" style=\"fill: none; stroke: #ffffff; stroke-width: 0.8; stroke-linecap: square\"/>\n",
              "     </g>\n",
              "     <g id=\"line2d_32\">\n",
              "      <g>\n",
              "       <use xlink:href=\"#mf8ecf792d4\" x=\"48.90125\" y=\"61.273887\" style=\"fill: #555555; stroke: #555555; stroke-width: 0.8\"/>\n",
              "      </g>\n",
              "     </g>\n",
              "     <g id=\"text_17\">\n",
              "      <!-- 600 -->\n",
              "      <g style=\"fill: #555555\" transform=\"translate(22.81375 65.073106) scale(0.1 -0.1)\">\n",
              "       <defs>\n",
              "        <path id=\"DejaVuSans-36\" d=\"M 2113 2584 \n",
              "Q 1688 2584 1439 2293 \n",
              "Q 1191 2003 1191 1497 \n",
              "Q 1191 994 1439 701 \n",
              "Q 1688 409 2113 409 \n",
              "Q 2538 409 2786 701 \n",
              "Q 3034 994 3034 1497 \n",
              "Q 3034 2003 2786 2293 \n",
              "Q 2538 2584 2113 2584 \n",
              "z\n",
              "M 3366 4563 \n",
              "L 3366 3988 \n",
              "Q 3128 4100 2886 4159 \n",
              "Q 2644 4219 2406 4219 \n",
              "Q 1781 4219 1451 3797 \n",
              "Q 1122 3375 1075 2522 \n",
              "Q 1259 2794 1537 2939 \n",
              "Q 1816 3084 2150 3084 \n",
              "Q 2853 3084 3261 2657 \n",
              "Q 3669 2231 3669 1497 \n",
              "Q 3669 778 3244 343 \n",
              "Q 2819 -91 2113 -91 \n",
              "Q 1303 -91 875 529 \n",
              "Q 447 1150 447 2328 \n",
              "Q 447 3434 972 4092 \n",
              "Q 1497 4750 2381 4750 \n",
              "Q 2619 4750 2861 4703 \n",
              "Q 3103 4656 3366 4563 \n",
              "z\n",
              "\" transform=\"scale(0.015625)\"/>\n",
              "       </defs>\n",
              "       <use xlink:href=\"#DejaVuSans-36\"/>\n",
              "       <use xlink:href=\"#DejaVuSans-30\" x=\"63.623047\"/>\n",
              "       <use xlink:href=\"#DejaVuSans-30\" x=\"127.246094\"/>\n",
              "      </g>\n",
              "     </g>\n",
              "    </g>\n",
              "    <g id=\"text_18\">\n",
              "     <!-- Loss -->\n",
              "     <g style=\"fill: #555555\" transform=\"translate(16.318125 170.358375) rotate(-90) scale(0.12 -0.12)\">\n",
              "      <defs>\n",
              "       <path id=\"DejaVuSans-4c\" d=\"M 628 4666 \n",
              "L 1259 4666 \n",
              "L 1259 531 \n",
              "L 3531 531 \n",
              "L 3531 0 \n",
              "L 628 0 \n",
              "L 628 4666 \n",
              "z\n",
              "\" transform=\"scale(0.015625)\"/>\n",
              "       <path id=\"DejaVuSans-73\" d=\"M 2834 3397 \n",
              "L 2834 2853 \n",
              "Q 2591 2978 2328 3040 \n",
              "Q 2066 3103 1784 3103 \n",
              "Q 1356 3103 1142 2972 \n",
              "Q 928 2841 928 2578 \n",
              "Q 928 2378 1081 2264 \n",
              "Q 1234 2150 1697 2047 \n",
              "L 1894 2003 \n",
              "Q 2506 1872 2764 1633 \n",
              "Q 3022 1394 3022 966 \n",
              "Q 3022 478 2636 193 \n",
              "Q 2250 -91 1575 -91 \n",
              "Q 1294 -91 989 -36 \n",
              "Q 684 19 347 128 \n",
              "L 347 722 \n",
              "Q 666 556 975 473 \n",
              "Q 1284 391 1588 391 \n",
              "Q 1994 391 2212 530 \n",
              "Q 2431 669 2431 922 \n",
              "Q 2431 1156 2273 1281 \n",
              "Q 2116 1406 1581 1522 \n",
              "L 1381 1569 \n",
              "Q 847 1681 609 1914 \n",
              "Q 372 2147 372 2553 \n",
              "Q 372 3047 722 3315 \n",
              "Q 1072 3584 1716 3584 \n",
              "Q 2034 3584 2315 3537 \n",
              "Q 2597 3491 2834 3397 \n",
              "z\n",
              "\" transform=\"scale(0.015625)\"/>\n",
              "      </defs>\n",
              "      <use xlink:href=\"#DejaVuSans-4c\"/>\n",
              "      <use xlink:href=\"#DejaVuSans-6f\" x=\"53.962891\"/>\n",
              "      <use xlink:href=\"#DejaVuSans-73\" x=\"115.144531\"/>\n",
              "      <use xlink:href=\"#DejaVuSans-73\" x=\"167.244141\"/>\n",
              "     </g>\n",
              "    </g>\n",
              "   </g>\n",
              "   <g id=\"line2d_33\">\n",
              "    <path d=\"M 65.133977 36.23775 \n",
              "L 146.297614 104.923488 \n",
              "L 227.46125 128.848742 \n",
              "L 308.624886 142.936527 \n",
              "L 389.788523 151.18106 \n",
              "\" clip-path=\"url(#pa7fc78ffa4)\" style=\"fill: none; stroke: #e24a33; stroke-opacity: 0.7; stroke-width: 2; stroke-linecap: square\"/>\n",
              "   </g>\n",
              "   <g id=\"line2d_34\">\n",
              "    <path d=\"M 65.133977 278.15775 \n",
              "L 146.297614 277.723234 \n",
              "L 227.46125 275.435812 \n",
              "L 308.624886 274.64804 \n",
              "L 389.788523 273.995972 \n",
              "\" clip-path=\"url(#pa7fc78ffa4)\" style=\"fill: none; stroke: #348abd; stroke-opacity: 0.7; stroke-width: 2; stroke-linecap: square\"/>\n",
              "   </g>\n",
              "   <g id=\"line2d_35\">\n",
              "    <path d=\"M 65.133977 278.15775 \n",
              "L 146.297614 277.723234 \n",
              "L 227.46125 275.435812 \n",
              "L 308.624886 274.64804 \n",
              "L 389.788523 273.995972 \n",
              "\" clip-path=\"url(#pa7fc78ffa4)\" style=\"fill: none; stroke: #988ed5; stroke-opacity: 0.7; stroke-width: 2; stroke-linecap: square\"/>\n",
              "   </g>\n",
              "   <g id=\"line2d_36\">\n",
              "    <path d=\"M 65.133977 89.41084 \n",
              "L 146.297614 120.466865 \n",
              "L 227.46125 136.008318 \n",
              "L 308.624886 147.437986 \n",
              "L 389.788523 153.066573 \n",
              "\" clip-path=\"url(#pa7fc78ffa4)\" style=\"fill: none; stroke: #777777; stroke-opacity: 0.7; stroke-width: 2; stroke-linecap: square\"/>\n",
              "   </g>\n",
              "   <g id=\"patch_3\">\n",
              "    <path d=\"M 48.90125 290.25375 \n",
              "L 48.90125 24.14175 \n",
              "\" style=\"fill: none; stroke: #ffffff; stroke-linejoin: miter; stroke-linecap: square\"/>\n",
              "   </g>\n",
              "   <g id=\"patch_4\">\n",
              "    <path d=\"M 406.02125 290.25375 \n",
              "L 406.02125 24.14175 \n",
              "\" style=\"fill: none; stroke: #ffffff; stroke-linejoin: miter; stroke-linecap: square\"/>\n",
              "   </g>\n",
              "   <g id=\"patch_5\">\n",
              "    <path d=\"M 48.90125 290.25375 \n",
              "L 406.02125 290.25375 \n",
              "\" style=\"fill: none; stroke: #ffffff; stroke-linejoin: miter; stroke-linecap: square\"/>\n",
              "   </g>\n",
              "   <g id=\"patch_6\">\n",
              "    <path d=\"M 48.90125 24.14175 \n",
              "L 406.02125 24.14175 \n",
              "\" style=\"fill: none; stroke: #ffffff; stroke-linejoin: miter; stroke-linecap: square\"/>\n",
              "   </g>\n",
              "   <g id=\"text_19\">\n",
              "    <!-- VAE Font Training -->\n",
              "    <g transform=\"translate(164.867375 18.14175) scale(0.144 -0.144)\">\n",
              "     <defs>\n",
              "      <path id=\"DejaVuSans-56\" d=\"M 1831 0 \n",
              "L 50 4666 \n",
              "L 709 4666 \n",
              "L 2188 738 \n",
              "L 3669 4666 \n",
              "L 4325 4666 \n",
              "L 2547 0 \n",
              "L 1831 0 \n",
              "z\n",
              "\" transform=\"scale(0.015625)\"/>\n",
              "      <path id=\"DejaVuSans-41\" d=\"M 2188 4044 \n",
              "L 1331 1722 \n",
              "L 3047 1722 \n",
              "L 2188 4044 \n",
              "z\n",
              "M 1831 4666 \n",
              "L 2547 4666 \n",
              "L 4325 0 \n",
              "L 3669 0 \n",
              "L 3244 1197 \n",
              "L 1141 1197 \n",
              "L 716 0 \n",
              "L 50 0 \n",
              "L 1831 4666 \n",
              "z\n",
              "\" transform=\"scale(0.015625)\"/>\n",
              "      <path id=\"DejaVuSans-20\" transform=\"scale(0.015625)\"/>\n",
              "      <path id=\"DejaVuSans-46\" d=\"M 628 4666 \n",
              "L 3309 4666 \n",
              "L 3309 4134 \n",
              "L 1259 4134 \n",
              "L 1259 2759 \n",
              "L 3109 2759 \n",
              "L 3109 2228 \n",
              "L 1259 2228 \n",
              "L 1259 0 \n",
              "L 628 0 \n",
              "L 628 4666 \n",
              "z\n",
              "\" transform=\"scale(0.015625)\"/>\n",
              "      <path id=\"DejaVuSans-6e\" d=\"M 3513 2113 \n",
              "L 3513 0 \n",
              "L 2938 0 \n",
              "L 2938 2094 \n",
              "Q 2938 2591 2744 2837 \n",
              "Q 2550 3084 2163 3084 \n",
              "Q 1697 3084 1428 2787 \n",
              "Q 1159 2491 1159 1978 \n",
              "L 1159 0 \n",
              "L 581 0 \n",
              "L 581 3500 \n",
              "L 1159 3500 \n",
              "L 1159 2956 \n",
              "Q 1366 3272 1645 3428 \n",
              "Q 1925 3584 2291 3584 \n",
              "Q 2894 3584 3203 3211 \n",
              "Q 3513 2838 3513 2113 \n",
              "z\n",
              "\" transform=\"scale(0.015625)\"/>\n",
              "      <path id=\"DejaVuSans-74\" d=\"M 1172 4494 \n",
              "L 1172 3500 \n",
              "L 2356 3500 \n",
              "L 2356 3053 \n",
              "L 1172 3053 \n",
              "L 1172 1153 \n",
              "Q 1172 725 1289 603 \n",
              "Q 1406 481 1766 481 \n",
              "L 2356 481 \n",
              "L 2356 0 \n",
              "L 1766 0 \n",
              "Q 1100 0 847 248 \n",
              "Q 594 497 594 1153 \n",
              "L 594 3053 \n",
              "L 172 3053 \n",
              "L 172 3500 \n",
              "L 594 3500 \n",
              "L 594 4494 \n",
              "L 1172 4494 \n",
              "z\n",
              "\" transform=\"scale(0.015625)\"/>\n",
              "      <path id=\"DejaVuSans-54\" d=\"M -19 4666 \n",
              "L 3928 4666 \n",
              "L 3928 4134 \n",
              "L 2272 4134 \n",
              "L 2272 0 \n",
              "L 1638 0 \n",
              "L 1638 4134 \n",
              "L -19 4134 \n",
              "L -19 4666 \n",
              "z\n",
              "\" transform=\"scale(0.015625)\"/>\n",
              "      <path id=\"DejaVuSans-72\" d=\"M 2631 2963 \n",
              "Q 2534 3019 2420 3045 \n",
              "Q 2306 3072 2169 3072 \n",
              "Q 1681 3072 1420 2755 \n",
              "Q 1159 2438 1159 1844 \n",
              "L 1159 0 \n",
              "L 581 0 \n",
              "L 581 3500 \n",
              "L 1159 3500 \n",
              "L 1159 2956 \n",
              "Q 1341 3275 1631 3429 \n",
              "Q 1922 3584 2338 3584 \n",
              "Q 2397 3584 2469 3576 \n",
              "Q 2541 3569 2628 3553 \n",
              "L 2631 2963 \n",
              "z\n",
              "\" transform=\"scale(0.015625)\"/>\n",
              "      <path id=\"DejaVuSans-61\" d=\"M 2194 1759 \n",
              "Q 1497 1759 1228 1600 \n",
              "Q 959 1441 959 1056 \n",
              "Q 959 750 1161 570 \n",
              "Q 1363 391 1709 391 \n",
              "Q 2188 391 2477 730 \n",
              "Q 2766 1069 2766 1631 \n",
              "L 2766 1759 \n",
              "L 2194 1759 \n",
              "z\n",
              "M 3341 1997 \n",
              "L 3341 0 \n",
              "L 2766 0 \n",
              "L 2766 531 \n",
              "Q 2569 213 2275 61 \n",
              "Q 1981 -91 1556 -91 \n",
              "Q 1019 -91 701 211 \n",
              "Q 384 513 384 1019 \n",
              "Q 384 1609 779 1909 \n",
              "Q 1175 2209 1959 2209 \n",
              "L 2766 2209 \n",
              "L 2766 2266 \n",
              "Q 2766 2663 2505 2880 \n",
              "Q 2244 3097 1772 3097 \n",
              "Q 1472 3097 1187 3025 \n",
              "Q 903 2953 641 2809 \n",
              "L 641 3341 \n",
              "Q 956 3463 1253 3523 \n",
              "Q 1550 3584 1831 3584 \n",
              "Q 2591 3584 2966 3190 \n",
              "Q 3341 2797 3341 1997 \n",
              "z\n",
              "\" transform=\"scale(0.015625)\"/>\n",
              "      <path id=\"DejaVuSans-69\" d=\"M 603 3500 \n",
              "L 1178 3500 \n",
              "L 1178 0 \n",
              "L 603 0 \n",
              "L 603 3500 \n",
              "z\n",
              "M 603 4863 \n",
              "L 1178 4863 \n",
              "L 1178 4134 \n",
              "L 603 4134 \n",
              "L 603 4863 \n",
              "z\n",
              "\" transform=\"scale(0.015625)\"/>\n",
              "      <path id=\"DejaVuSans-67\" d=\"M 2906 1791 \n",
              "Q 2906 2416 2648 2759 \n",
              "Q 2391 3103 1925 3103 \n",
              "Q 1463 3103 1205 2759 \n",
              "Q 947 2416 947 1791 \n",
              "Q 947 1169 1205 825 \n",
              "Q 1463 481 1925 481 \n",
              "Q 2391 481 2648 825 \n",
              "Q 2906 1169 2906 1791 \n",
              "z\n",
              "M 3481 434 \n",
              "Q 3481 -459 3084 -895 \n",
              "Q 2688 -1331 1869 -1331 \n",
              "Q 1566 -1331 1297 -1286 \n",
              "Q 1028 -1241 775 -1147 \n",
              "L 775 -588 \n",
              "Q 1028 -725 1275 -790 \n",
              "Q 1522 -856 1778 -856 \n",
              "Q 2344 -856 2625 -561 \n",
              "Q 2906 -266 2906 331 \n",
              "L 2906 616 \n",
              "Q 2728 306 2450 153 \n",
              "Q 2172 0 1784 0 \n",
              "Q 1141 0 747 490 \n",
              "Q 353 981 353 1791 \n",
              "Q 353 2603 747 3093 \n",
              "Q 1141 3584 1784 3584 \n",
              "Q 2172 3584 2450 3431 \n",
              "Q 2728 3278 2906 2969 \n",
              "L 2906 3500 \n",
              "L 3481 3500 \n",
              "L 3481 434 \n",
              "z\n",
              "\" transform=\"scale(0.015625)\"/>\n",
              "     </defs>\n",
              "     <use xlink:href=\"#DejaVuSans-56\"/>\n",
              "     <use xlink:href=\"#DejaVuSans-41\" x=\"62.033203\"/>\n",
              "     <use xlink:href=\"#DejaVuSans-45\" x=\"130.441406\"/>\n",
              "     <use xlink:href=\"#DejaVuSans-20\" x=\"193.625\"/>\n",
              "     <use xlink:href=\"#DejaVuSans-46\" x=\"225.412109\"/>\n",
              "     <use xlink:href=\"#DejaVuSans-6f\" x=\"279.306641\"/>\n",
              "     <use xlink:href=\"#DejaVuSans-6e\" x=\"340.488281\"/>\n",
              "     <use xlink:href=\"#DejaVuSans-74\" x=\"403.867188\"/>\n",
              "     <use xlink:href=\"#DejaVuSans-20\" x=\"443.076172\"/>\n",
              "     <use xlink:href=\"#DejaVuSans-54\" x=\"474.863281\"/>\n",
              "     <use xlink:href=\"#DejaVuSans-72\" x=\"521.197266\"/>\n",
              "     <use xlink:href=\"#DejaVuSans-61\" x=\"562.310547\"/>\n",
              "     <use xlink:href=\"#DejaVuSans-69\" x=\"623.589844\"/>\n",
              "     <use xlink:href=\"#DejaVuSans-6e\" x=\"651.373047\"/>\n",
              "     <use xlink:href=\"#DejaVuSans-69\" x=\"714.751953\"/>\n",
              "     <use xlink:href=\"#DejaVuSans-6e\" x=\"742.535156\"/>\n",
              "     <use xlink:href=\"#DejaVuSans-67\" x=\"805.914062\"/>\n",
              "    </g>\n",
              "   </g>\n",
              "   <g id=\"legend_1\">\n",
              "    <g id=\"patch_7\">\n",
              "     <path d=\"M 264.560313 90.85425 \n",
              "L 399.02125 90.85425 \n",
              "Q 401.02125 90.85425 401.02125 88.85425 \n",
              "L 401.02125 31.14175 \n",
              "Q 401.02125 29.14175 399.02125 29.14175 \n",
              "L 264.560313 29.14175 \n",
              "Q 262.560313 29.14175 262.560313 31.14175 \n",
              "L 262.560313 88.85425 \n",
              "Q 262.560313 90.85425 264.560313 90.85425 \n",
              "z\n",
              "\" style=\"fill: #e5e5e5; opacity: 0.8; stroke: #cccccc; stroke-width: 0.5; stroke-linejoin: miter\"/>\n",
              "    </g>\n",
              "    <g id=\"line2d_37\">\n",
              "     <path d=\"M 266.560313 37.240187 \n",
              "L 276.560313 37.240187 \n",
              "L 286.560313 37.240187 \n",
              "\" style=\"fill: none; stroke: #e24a33; stroke-opacity: 0.7; stroke-width: 2; stroke-linecap: square\"/>\n",
              "    </g>\n",
              "    <g id=\"text_20\">\n",
              "     <!-- Training Losses -->\n",
              "     <g transform=\"translate(294.560313 40.740187) scale(0.1 -0.1)\">\n",
              "      <defs>\n",
              "       <path id=\"DejaVuSans-65\" d=\"M 3597 1894 \n",
              "L 3597 1613 \n",
              "L 953 1613 \n",
              "Q 991 1019 1311 708 \n",
              "Q 1631 397 2203 397 \n",
              "Q 2534 397 2845 478 \n",
              "Q 3156 559 3463 722 \n",
              "L 3463 178 \n",
              "Q 3153 47 2828 -22 \n",
              "Q 2503 -91 2169 -91 \n",
              "Q 1331 -91 842 396 \n",
              "Q 353 884 353 1716 \n",
              "Q 353 2575 817 3079 \n",
              "Q 1281 3584 2069 3584 \n",
              "Q 2775 3584 3186 3129 \n",
              "Q 3597 2675 3597 1894 \n",
              "z\n",
              "M 3022 2063 \n",
              "Q 3016 2534 2758 2815 \n",
              "Q 2500 3097 2075 3097 \n",
              "Q 1594 3097 1305 2825 \n",
              "Q 1016 2553 972 2059 \n",
              "L 3022 2063 \n",
              "z\n",
              "\" transform=\"scale(0.015625)\"/>\n",
              "      </defs>\n",
              "      <use xlink:href=\"#DejaVuSans-54\"/>\n",
              "      <use xlink:href=\"#DejaVuSans-72\" x=\"46.333984\"/>\n",
              "      <use xlink:href=\"#DejaVuSans-61\" x=\"87.447266\"/>\n",
              "      <use xlink:href=\"#DejaVuSans-69\" x=\"148.726562\"/>\n",
              "      <use xlink:href=\"#DejaVuSans-6e\" x=\"176.509766\"/>\n",
              "      <use xlink:href=\"#DejaVuSans-69\" x=\"239.888672\"/>\n",
              "      <use xlink:href=\"#DejaVuSans-6e\" x=\"267.671875\"/>\n",
              "      <use xlink:href=\"#DejaVuSans-67\" x=\"331.050781\"/>\n",
              "      <use xlink:href=\"#DejaVuSans-20\" x=\"394.527344\"/>\n",
              "      <use xlink:href=\"#DejaVuSans-4c\" x=\"426.314453\"/>\n",
              "      <use xlink:href=\"#DejaVuSans-6f\" x=\"480.277344\"/>\n",
              "      <use xlink:href=\"#DejaVuSans-73\" x=\"541.458984\"/>\n",
              "      <use xlink:href=\"#DejaVuSans-73\" x=\"593.558594\"/>\n",
              "      <use xlink:href=\"#DejaVuSans-65\" x=\"645.658203\"/>\n",
              "      <use xlink:href=\"#DejaVuSans-73\" x=\"707.181641\"/>\n",
              "     </g>\n",
              "    </g>\n",
              "    <g id=\"line2d_38\">\n",
              "     <path d=\"M 266.560313 51.918312 \n",
              "L 276.560313 51.918312 \n",
              "L 286.560313 51.918312 \n",
              "\" style=\"fill: none; stroke: #348abd; stroke-opacity: 0.7; stroke-width: 2; stroke-linecap: square\"/>\n",
              "    </g>\n",
              "    <g id=\"text_21\">\n",
              "     <!-- Training Losses: BCE -->\n",
              "     <g transform=\"translate(294.560313 55.418312) scale(0.1 -0.1)\">\n",
              "      <defs>\n",
              "       <path id=\"DejaVuSans-3a\" d=\"M 750 794 \n",
              "L 1409 794 \n",
              "L 1409 0 \n",
              "L 750 0 \n",
              "L 750 794 \n",
              "z\n",
              "M 750 3309 \n",
              "L 1409 3309 \n",
              "L 1409 2516 \n",
              "L 750 2516 \n",
              "L 750 3309 \n",
              "z\n",
              "\" transform=\"scale(0.015625)\"/>\n",
              "       <path id=\"DejaVuSans-42\" d=\"M 1259 2228 \n",
              "L 1259 519 \n",
              "L 2272 519 \n",
              "Q 2781 519 3026 730 \n",
              "Q 3272 941 3272 1375 \n",
              "Q 3272 1813 3026 2020 \n",
              "Q 2781 2228 2272 2228 \n",
              "L 1259 2228 \n",
              "z\n",
              "M 1259 4147 \n",
              "L 1259 2741 \n",
              "L 2194 2741 \n",
              "Q 2656 2741 2882 2914 \n",
              "Q 3109 3088 3109 3444 \n",
              "Q 3109 3797 2882 3972 \n",
              "Q 2656 4147 2194 4147 \n",
              "L 1259 4147 \n",
              "z\n",
              "M 628 4666 \n",
              "L 2241 4666 \n",
              "Q 2963 4666 3353 4366 \n",
              "Q 3744 4066 3744 3513 \n",
              "Q 3744 3084 3544 2831 \n",
              "Q 3344 2578 2956 2516 \n",
              "Q 3422 2416 3680 2098 \n",
              "Q 3938 1781 3938 1306 \n",
              "Q 3938 681 3513 340 \n",
              "Q 3088 0 2303 0 \n",
              "L 628 0 \n",
              "L 628 4666 \n",
              "z\n",
              "\" transform=\"scale(0.015625)\"/>\n",
              "       <path id=\"DejaVuSans-43\" d=\"M 4122 4306 \n",
              "L 4122 3641 \n",
              "Q 3803 3938 3442 4084 \n",
              "Q 3081 4231 2675 4231 \n",
              "Q 1875 4231 1450 3742 \n",
              "Q 1025 3253 1025 2328 \n",
              "Q 1025 1406 1450 917 \n",
              "Q 1875 428 2675 428 \n",
              "Q 3081 428 3442 575 \n",
              "Q 3803 722 4122 1019 \n",
              "L 4122 359 \n",
              "Q 3791 134 3420 21 \n",
              "Q 3050 -91 2638 -91 \n",
              "Q 1578 -91 968 557 \n",
              "Q 359 1206 359 2328 \n",
              "Q 359 3453 968 4101 \n",
              "Q 1578 4750 2638 4750 \n",
              "Q 3056 4750 3426 4639 \n",
              "Q 3797 4528 4122 4306 \n",
              "z\n",
              "\" transform=\"scale(0.015625)\"/>\n",
              "      </defs>\n",
              "      <use xlink:href=\"#DejaVuSans-54\"/>\n",
              "      <use xlink:href=\"#DejaVuSans-72\" x=\"46.333984\"/>\n",
              "      <use xlink:href=\"#DejaVuSans-61\" x=\"87.447266\"/>\n",
              "      <use xlink:href=\"#DejaVuSans-69\" x=\"148.726562\"/>\n",
              "      <use xlink:href=\"#DejaVuSans-6e\" x=\"176.509766\"/>\n",
              "      <use xlink:href=\"#DejaVuSans-69\" x=\"239.888672\"/>\n",
              "      <use xlink:href=\"#DejaVuSans-6e\" x=\"267.671875\"/>\n",
              "      <use xlink:href=\"#DejaVuSans-67\" x=\"331.050781\"/>\n",
              "      <use xlink:href=\"#DejaVuSans-20\" x=\"394.527344\"/>\n",
              "      <use xlink:href=\"#DejaVuSans-4c\" x=\"426.314453\"/>\n",
              "      <use xlink:href=\"#DejaVuSans-6f\" x=\"480.277344\"/>\n",
              "      <use xlink:href=\"#DejaVuSans-73\" x=\"541.458984\"/>\n",
              "      <use xlink:href=\"#DejaVuSans-73\" x=\"593.558594\"/>\n",
              "      <use xlink:href=\"#DejaVuSans-65\" x=\"645.658203\"/>\n",
              "      <use xlink:href=\"#DejaVuSans-73\" x=\"707.181641\"/>\n",
              "      <use xlink:href=\"#DejaVuSans-3a\" x=\"759.28125\"/>\n",
              "      <use xlink:href=\"#DejaVuSans-20\" x=\"792.972656\"/>\n",
              "      <use xlink:href=\"#DejaVuSans-42\" x=\"824.759766\"/>\n",
              "      <use xlink:href=\"#DejaVuSans-43\" x=\"891.613281\"/>\n",
              "      <use xlink:href=\"#DejaVuSans-45\" x=\"961.4375\"/>\n",
              "     </g>\n",
              "    </g>\n",
              "    <g id=\"line2d_39\">\n",
              "     <path d=\"M 266.560313 66.596437 \n",
              "L 276.560313 66.596437 \n",
              "L 286.560313 66.596437 \n",
              "\" style=\"fill: none; stroke: #988ed5; stroke-opacity: 0.7; stroke-width: 2; stroke-linecap: square\"/>\n",
              "    </g>\n",
              "    <g id=\"text_22\">\n",
              "     <!-- Training Losses: KLD -->\n",
              "     <g transform=\"translate(294.560313 70.096437) scale(0.1 -0.1)\">\n",
              "      <defs>\n",
              "       <path id=\"DejaVuSans-4b\" d=\"M 628 4666 \n",
              "L 1259 4666 \n",
              "L 1259 2694 \n",
              "L 3353 4666 \n",
              "L 4166 4666 \n",
              "L 1850 2491 \n",
              "L 4331 0 \n",
              "L 3500 0 \n",
              "L 1259 2247 \n",
              "L 1259 0 \n",
              "L 628 0 \n",
              "L 628 4666 \n",
              "z\n",
              "\" transform=\"scale(0.015625)\"/>\n",
              "       <path id=\"DejaVuSans-44\" d=\"M 1259 4147 \n",
              "L 1259 519 \n",
              "L 2022 519 \n",
              "Q 2988 519 3436 956 \n",
              "Q 3884 1394 3884 2338 \n",
              "Q 3884 3275 3436 3711 \n",
              "Q 2988 4147 2022 4147 \n",
              "L 1259 4147 \n",
              "z\n",
              "M 628 4666 \n",
              "L 1925 4666 \n",
              "Q 3281 4666 3915 4102 \n",
              "Q 4550 3538 4550 2338 \n",
              "Q 4550 1131 3912 565 \n",
              "Q 3275 0 1925 0 \n",
              "L 628 0 \n",
              "L 628 4666 \n",
              "z\n",
              "\" transform=\"scale(0.015625)\"/>\n",
              "      </defs>\n",
              "      <use xlink:href=\"#DejaVuSans-54\"/>\n",
              "      <use xlink:href=\"#DejaVuSans-72\" x=\"46.333984\"/>\n",
              "      <use xlink:href=\"#DejaVuSans-61\" x=\"87.447266\"/>\n",
              "      <use xlink:href=\"#DejaVuSans-69\" x=\"148.726562\"/>\n",
              "      <use xlink:href=\"#DejaVuSans-6e\" x=\"176.509766\"/>\n",
              "      <use xlink:href=\"#DejaVuSans-69\" x=\"239.888672\"/>\n",
              "      <use xlink:href=\"#DejaVuSans-6e\" x=\"267.671875\"/>\n",
              "      <use xlink:href=\"#DejaVuSans-67\" x=\"331.050781\"/>\n",
              "      <use xlink:href=\"#DejaVuSans-20\" x=\"394.527344\"/>\n",
              "      <use xlink:href=\"#DejaVuSans-4c\" x=\"426.314453\"/>\n",
              "      <use xlink:href=\"#DejaVuSans-6f\" x=\"480.277344\"/>\n",
              "      <use xlink:href=\"#DejaVuSans-73\" x=\"541.458984\"/>\n",
              "      <use xlink:href=\"#DejaVuSans-73\" x=\"593.558594\"/>\n",
              "      <use xlink:href=\"#DejaVuSans-65\" x=\"645.658203\"/>\n",
              "      <use xlink:href=\"#DejaVuSans-73\" x=\"707.181641\"/>\n",
              "      <use xlink:href=\"#DejaVuSans-3a\" x=\"759.28125\"/>\n",
              "      <use xlink:href=\"#DejaVuSans-20\" x=\"792.972656\"/>\n",
              "      <use xlink:href=\"#DejaVuSans-4b\" x=\"824.759766\"/>\n",
              "      <use xlink:href=\"#DejaVuSans-4c\" x=\"890.335938\"/>\n",
              "      <use xlink:href=\"#DejaVuSans-44\" x=\"946.048828\"/>\n",
              "     </g>\n",
              "    </g>\n",
              "    <g id=\"line2d_40\">\n",
              "     <path d=\"M 266.560313 81.274562 \n",
              "L 276.560313 81.274562 \n",
              "L 286.560313 81.274562 \n",
              "\" style=\"fill: none; stroke: #777777; stroke-opacity: 0.7; stroke-width: 2; stroke-linecap: square\"/>\n",
              "    </g>\n",
              "    <g id=\"text_23\">\n",
              "     <!-- Validation Losses -->\n",
              "     <g transform=\"translate(294.560313 84.774562) scale(0.1 -0.1)\">\n",
              "      <defs>\n",
              "       <path id=\"DejaVuSans-6c\" d=\"M 603 4863 \n",
              "L 1178 4863 \n",
              "L 1178 0 \n",
              "L 603 0 \n",
              "L 603 4863 \n",
              "z\n",
              "\" transform=\"scale(0.015625)\"/>\n",
              "       <path id=\"DejaVuSans-64\" d=\"M 2906 2969 \n",
              "L 2906 4863 \n",
              "L 3481 4863 \n",
              "L 3481 0 \n",
              "L 2906 0 \n",
              "L 2906 525 \n",
              "Q 2725 213 2448 61 \n",
              "Q 2172 -91 1784 -91 \n",
              "Q 1150 -91 751 415 \n",
              "Q 353 922 353 1747 \n",
              "Q 353 2572 751 3078 \n",
              "Q 1150 3584 1784 3584 \n",
              "Q 2172 3584 2448 3432 \n",
              "Q 2725 3281 2906 2969 \n",
              "z\n",
              "M 947 1747 \n",
              "Q 947 1113 1208 752 \n",
              "Q 1469 391 1925 391 \n",
              "Q 2381 391 2643 752 \n",
              "Q 2906 1113 2906 1747 \n",
              "Q 2906 2381 2643 2742 \n",
              "Q 2381 3103 1925 3103 \n",
              "Q 1469 3103 1208 2742 \n",
              "Q 947 2381 947 1747 \n",
              "z\n",
              "\" transform=\"scale(0.015625)\"/>\n",
              "      </defs>\n",
              "      <use xlink:href=\"#DejaVuSans-56\"/>\n",
              "      <use xlink:href=\"#DejaVuSans-61\" x=\"60.658203\"/>\n",
              "      <use xlink:href=\"#DejaVuSans-6c\" x=\"121.9375\"/>\n",
              "      <use xlink:href=\"#DejaVuSans-69\" x=\"149.720703\"/>\n",
              "      <use xlink:href=\"#DejaVuSans-64\" x=\"177.503906\"/>\n",
              "      <use xlink:href=\"#DejaVuSans-61\" x=\"240.980469\"/>\n",
              "      <use xlink:href=\"#DejaVuSans-74\" x=\"302.259766\"/>\n",
              "      <use xlink:href=\"#DejaVuSans-69\" x=\"341.46875\"/>\n",
              "      <use xlink:href=\"#DejaVuSans-6f\" x=\"369.251953\"/>\n",
              "      <use xlink:href=\"#DejaVuSans-6e\" x=\"430.433594\"/>\n",
              "      <use xlink:href=\"#DejaVuSans-20\" x=\"493.8125\"/>\n",
              "      <use xlink:href=\"#DejaVuSans-4c\" x=\"525.599609\"/>\n",
              "      <use xlink:href=\"#DejaVuSans-6f\" x=\"579.5625\"/>\n",
              "      <use xlink:href=\"#DejaVuSans-73\" x=\"640.744141\"/>\n",
              "      <use xlink:href=\"#DejaVuSans-73\" x=\"692.84375\"/>\n",
              "      <use xlink:href=\"#DejaVuSans-65\" x=\"744.943359\"/>\n",
              "      <use xlink:href=\"#DejaVuSans-73\" x=\"806.466797\"/>\n",
              "     </g>\n",
              "    </g>\n",
              "   </g>\n",
              "  </g>\n",
              " </g>\n",
              " <defs>\n",
              "  <clipPath id=\"pa7fc78ffa4\">\n",
              "   <rect x=\"48.90125\" y=\"24.14175\" width=\"357.12\" height=\"266.112\"/>\n",
              "  </clipPath>\n",
              " </defs>\n",
              "</svg>\n"
            ],
            "text/plain": [
              "<Figure size 640x480 with 1 Axes>"
            ]
          },
          "metadata": {},
          "output_type": "display_data"
        }
      ],
      "source": [
        "train_losses=np.loadtxt('./models/training_losses.txt')\n",
        "train_losses_bce=np.loadtxt('./models/training_losses_bce.txt')\n",
        "train_losses_bce=np.loadtxt('./models/training_losses_kld.txt')\n",
        "val_losses=np.loadtxt('./models/validation_losses.txt')\n",
        "\n",
        "plt.plot(\n",
        "    range(1,len(train_losses)+1),\n",
        "    train_losses,\n",
        "    label='Training Losses',\n",
        "    linewidth=2,\n",
        "    alpha=0.7\n",
        ")\n",
        "plt.plot(\n",
        "    range(1,len(train_losses)+1),\n",
        "    train_losses_bce,\n",
        "    label='Training Losses: BCE',\n",
        "    linewidth=2,\n",
        "    alpha=0.7\n",
        ")\n",
        "plt.plot(\n",
        "    range(1,len(train_losses)+1),\n",
        "    train_losses_kld,\n",
        "    label='Training Losses: KLD',\n",
        "    linewidth=2,\n",
        "    alpha=0.7\n",
        ")\n",
        "plt.plot(\n",
        "    range(1,len(val_losses)+1),\n",
        "    val_losses,\n",
        "    label='Validation Losses',\n",
        "    linewidth=2,\n",
        "    alpha=0.7\n",
        ")\n",
        "\n",
        "plt.title('VAE Font Training')\n",
        "plt.xlabel('Epoch')\n",
        "plt.ylabel('Loss')\n",
        "plt.legend()\n",
        "pass"
      ]
    },
    {
      "cell_type": "code",
      "execution_count": null,
      "metadata": {
        "id": "H0kKnphJYFKs"
      },
      "outputs": [],
      "source": [
        "model.load_state_dict(\n",
        "    torch.load('./models/epoch_900.model',\n",
        "               map_location=torch.device('cpu')))\n",
        "\n",
        "sample_latent_space('a')"
      ]
    },
    {
      "cell_type": "code",
      "execution_count": null,
      "metadata": {
        "id": "pJAKjz7vlI_I"
      },
      "outputs": [],
      "source": [
        "# Zipa os resultados para download\n",
        "!zip -r results.zip ./results\n",
        "!zip -r models.zip ./models"
      ]
    },
    {
      "cell_type": "code",
      "execution_count": null,
      "metadata": {
        "id": "1bJTc4Jsnyx_"
      },
      "outputs": [],
      "source": [
        "# Baixa arquivos para o pc local\n",
        "# from google.colab import files\n",
        "# files.download('/content/models.zip')\n",
        "# files.download('/content/results.zip')"
      ]
    },
    {
      "cell_type": "markdown",
      "metadata": {
        "id": "_BZZoxsCvG34"
      },
      "source": [
        "\n",
        "\n"
      ]
    }
  ],
  "metadata": {
    "accelerator": "GPU",
    "colab": {
      "provenance": []
    },
    "kernelspec": {
      "display_name": "Python 3",
      "name": "python3"
    },
    "language_info": {
      "codemirror_mode": {
        "name": "ipython",
        "version": 3
      },
      "file_extension": ".py",
      "mimetype": "text/x-python",
      "name": "python",
      "nbconvert_exporter": "python",
      "pygments_lexer": "ipython3",
      "version": "3.10.12"
    }
  },
  "nbformat": 4,
  "nbformat_minor": 0
}
